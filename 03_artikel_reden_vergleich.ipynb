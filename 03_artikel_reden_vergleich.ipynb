{
  "nbformat": 4,
  "nbformat_minor": 0,
  "metadata": {
    "colab": {
      "provenance": [],
      "authorship_tag": "ABX9TyN9FUCDBJwEM2wjls/hfUNI"
    },
    "kernelspec": {
      "name": "python3",
      "display_name": "Python 3"
    },
    "language_info": {
      "name": "python"
    }
  },
  "cells": [
    {
      "cell_type": "code",
      "execution_count": null,
      "metadata": {
        "id": "SimPjMUcuJHR"
      },
      "outputs": [],
      "source": [
        "import pandas as pd\n",
        "import numpy as np\n",
        "import seaborn as sns\n",
        "from scipy.stats import pearsonr\n",
        "import matplotlib.pyplot as plt"
      ]
    },
    {
      "cell_type": "code",
      "source": [
        "events = {\n",
        "    \"Dotcom-Blase\": (\"2001-02-01\", \"2003-06-30\"),\n",
        "    \"Weltwirtschaftskrise\": (\"2008-01-01\", \"2009-04-30\"),\n",
        "    \"Coronakrise\": (\"2019-09-01\", \"2020-04-30\")\n",
        "}"
      ],
      "metadata": {
        "id": "nm4xpVgv2eP5"
      },
      "execution_count": null,
      "outputs": []
    },
    {
      "cell_type": "markdown",
      "source": [
        "## Vergleich des Sentiments in Artikeln und Reden (LNTWS)"
      ],
      "metadata": {
        "id": "KnWLc6z4MCb-"
      }
    },
    {
      "cell_type": "code",
      "source": [
        "artikel_m = pd.read_csv('artikel_sentiment_relevant_monat.csv')\n",
        "artikel_q = pd.read_csv('artikel_sentiment_relevant_quartal.csv')\n",
        "reden_m = pd.read_csv('reden_sentiment_relevant_monat.csv')\n",
        "reden_q = pd.read_csv('reden_sentiment_relevant_quartal.csv')"
      ],
      "metadata": {
        "id": "4_dzemSAuT5W"
      },
      "execution_count": null,
      "outputs": []
    },
    {
      "cell_type": "markdown",
      "source": [
        "Mittelwerte des Sentiments."
      ],
      "metadata": {
        "id": "z29Wa1v4skWp"
      }
    },
    {
      "cell_type": "code",
      "source": [
        "mean_artikel_m = artikel_m['Sentiment Score'].mean()\n",
        "mean_reden_m = reden_m['Sentiment Score'].mean()\n",
        "mean_artikel_q = artikel_q['Sentiment Score'].mean()\n",
        "mean_reden_q = reden_q['Sentiment Score'].mean()\n",
        "\n",
        "print(f'Der Mittelwert der monatlich aggregierten Sentimentwerde in den Artikeln beträgt {mean_artikel_m}.')\n",
        "print(f'Der Mittelwert der quartalsweise aggregierten Sentimentwerde in den Artikeln beträgt {mean_artikel_q}.')\n",
        "print(f'Der Mittelwert der monatlich aggregierten Sentimentwerde in den Reden beträgt {mean_reden_m}.')\n",
        "print(f'Der Mittelwert der quartalsweise aggregierten Sentimentwerde in den Reden beträgt {mean_reden_q}.')"
      ],
      "metadata": {
        "id": "Fe0AKcwlsucD"
      },
      "execution_count": null,
      "outputs": []
    },
    {
      "cell_type": "markdown",
      "source": [
        "Standardabweichung des Sentiments"
      ],
      "metadata": {
        "id": "wN_BKstBeQVH"
      }
    },
    {
      "cell_type": "code",
      "source": [
        "# Berechnung der Standardabweichung für die monatlichen und quartalsweisen Sentimentwerte\n",
        "std_artikel_m = artikel_m['Sentiment Score'].std()\n",
        "std_reden_m = reden_m['Sentiment Score'].std()\n",
        "std_artikel_q = artikel_q['Sentiment Score'].std()\n",
        "std_reden_q = reden_q['Sentiment Score'].std()\n",
        "\n",
        "# Ausgabe der Standardabweichungen\n",
        "print(f\"Standardabweichung (Artikel, monatlich): {std_artikel_m}\")\n",
        "print(f\"Standardabweichung (Reden, monatlich): {std_reden_m}\")\n",
        "print(f\"Standardabweichung (Artikel, quartalsweise): {std_artikel_q}\")\n",
        "print(f\"Standardabweichung (Reden, quartalsweise): {std_reden_q}\")"
      ],
      "metadata": {
        "id": "kArMNlq0eV-o"
      },
      "execution_count": null,
      "outputs": []
    },
    {
      "cell_type": "markdown",
      "source": [
        "Vergleich der Sentimententwicklungen aus Artikeln und Reden."
      ],
      "metadata": {
        "id": "93EU78bysnhg"
      }
    },
    {
      "cell_type": "code",
      "source": [
        "# Konvertieren der Quartale und Monate in datetime-Format\n",
        "artikel_q['Datum'] = pd.PeriodIndex(\n",
        "    artikel_q['Jahr'].astype(str) + 'Q' + artikel_q['Quartal'].astype(str), freq='Q'\n",
        ").to_timestamp()\n",
        "\n",
        "reden_q['Datum'] = pd.PeriodIndex(\n",
        "    reden_q['Jahr'].astype(str) + 'Q' + reden_q['Quartal'].astype(str), freq='Q'\n",
        ").to_timestamp()\n",
        "\n",
        "artikel_m['Datum'] = pd.to_datetime(artikel_m['Jahr'].astype(str) + '-' + artikel_m['Monat'].astype(str).str.zfill(2) + '-01')\n",
        "reden_m['Datum'] = pd.to_datetime(reden_m['Jahr'].astype(str) + '-' + reden_m['Monat'].astype(str).str.zfill(2) + '-01')\n",
        "\n",
        "\n",
        "# Begrenzen der Daten auf den Zeitraum bis Ende Q3 2021\n",
        "end_date = pd.to_datetime(\"2021-09-30\")\n",
        "\n",
        "# Filtern der Sentiment-Daten\n",
        "artikel_q = artikel_q[artikel_q['Datum'] <= end_date]\n",
        "artikel_m = artikel_m[artikel_m['Datum'] <= end_date]\n",
        "reden_q = reden_q[reden_q['Datum'] <= end_date]\n",
        "reden_m = reden_m[reden_m['Datum'] <= end_date]"
      ],
      "metadata": {
        "id": "vlavPsjG1Cvp"
      },
      "execution_count": null,
      "outputs": []
    },
    {
      "cell_type": "code",
      "source": [
        "# Erstellen des Plots\n",
        "plt.figure(figsize=(12, 6))\n",
        "\n",
        "# Plot für quartalsweises Sentiment\n",
        "# plt.plot(artikel_q['Datum'], artikel_q['Sentiment Score'], label='LNTWS Sentiment der Artikel (quartalsweise)', color='blue')\n",
        "# plt.plot(reden_q['Datum'], reden_q['Sentiment Score'], label='LNTWS Sentiment der Reden (quartalsweise)', color='darkgreen')\n",
        "\n",
        "# Plot für monatliches Sentiment\n",
        "plt.plot(artikel_m['Datum'], artikel_m['Sentiment Score'], label='LNTWS Sentiment der Artikel (monatlich)', color='cornflowerblue')\n",
        "plt.plot(reden_m['Datum'], reden_m['Sentiment Score'], label='LNTWS Sentiment der Reden (monatlich)', color='darkseagreen')\n",
        "\n",
        "# Horizontale Linie für Neutralität\n",
        "plt.axhline(0, color='gray', linestyle='--', linewidth=0.8)\n",
        "\n",
        "# Markieren der Ereignisse mit roten Bereichen\n",
        "for event, (start_date, end_date) in events.items():\n",
        "    plt.axvspan(pd.to_datetime(start_date), pd.to_datetime(end_date), color='red', alpha=0.3)\n",
        "\n",
        "# Erstellen der xticks (jedes zweite Quartal)\n",
        "tick_dates = pd.date_range(start=artikel_q['Datum'].min(),\n",
        "                           end=artikel_q['Datum'].max(),\n",
        "                           freq='2Q')  # Jedes zweite Quartal\n",
        "tick_labels = [f\"{date.year}Q{(date.month // 3) or 4}\" for date in tick_dates]  # Dynamische Quartalslabels\n",
        "\n",
        "# Setzen der xticks und Labels\n",
        "plt.xticks(ticks=tick_dates, labels=tick_labels, rotation=45)\n",
        "\n",
        "# Achsentitel und Beschriftungen\n",
        "plt.title('', fontsize=14)\n",
        "# plt.xlabel('Quartal', fontsize=12)\n",
        "plt.ylabel('Sentiment-Score', fontsize=10)\n",
        "plt.grid(alpha=0.3)\n",
        "# Einfügen der Legende\n",
        "plt.legend(loc='upper center', bbox_to_anchor=(0.5, -0.15), ncol=2, frameon=False)\n",
        "plt.tight_layout()\n",
        "\n",
        "# Speichern der Artikel\n",
        "plt.savefig('vergleich_reden_artikel_relevant_m.png', format='png', dpi=600)\n",
        "\n",
        "plt.show()"
      ],
      "metadata": {
        "id": "ffpyakFGuq65",
        "collapsed": true
      },
      "execution_count": null,
      "outputs": []
    },
    {
      "cell_type": "markdown",
      "source": [
        "Sentimentwerte voneinander abziehen und plotten."
      ],
      "metadata": {
        "id": "0p3qfYNe1JMC"
      }
    },
    {
      "cell_type": "code",
      "source": [
        "# Zusammenführen der Tabellen anhand von Jahr und Monat\n",
        "merged_df = pd.merge(artikel_m, reden_m, on=['Datum'], suffixes=('_artikel', '_reden'))"
      ],
      "metadata": {
        "id": "xiM7gUhhUyX_"
      },
      "execution_count": null,
      "outputs": []
    },
    {
      "cell_type": "code",
      "source": [
        "# Berechnung der Differenz\n",
        "merged_df['Sentiment Differenz'] = merged_df['Sentiment Score_artikel'] - merged_df['Sentiment Score_reden']\n",
        "\n",
        "# Plot\n",
        "plt.figure(figsize=(12, 6))\n",
        "plt.plot(merged_df['Datum'], merged_df['Sentiment Differenz'], label='Sentiment-Differenz (Artikel - Reden)', color='midnightblue')\n",
        "\n",
        "# Horizontale Linie für Neutralität\n",
        "plt.axhline(0, color='gray', linestyle='--', linewidth=0.8)\n",
        "\n",
        "# Markieren der Ereignisse mit roten Bereichen\n",
        "for event, (start_date, end_date) in events.items():\n",
        "    plt.axvspan(pd.to_datetime(start_date), pd.to_datetime(end_date), color='red', alpha=0.3)\n",
        "\n",
        "# Erstellen der xticks (jedes zweite Quartal)\n",
        "tick_dates = pd.date_range(start=merged_df['Datum'].min(),\n",
        "                           end=merged_df['Datum'].max(),\n",
        "                           freq='2Q')  # Jedes zweite Quartal\n",
        "tick_labels = [f\"{date.year}Q{(date.month // 3) or 4}\" for date in tick_dates]  # Dynamische Quartalslabels\n",
        "\n",
        "# Setzen der xticks und Labels\n",
        "plt.xticks(ticks=tick_dates, labels=tick_labels, rotation=45)\n",
        "\n",
        "# Achsentitel und Beschriftungen\n",
        "plt.title('', fontsize=14)\n",
        "# plt.xlabel('Quartal', fontsize=12)\n",
        "plt.ylabel('Sentiment-Differenz', fontsize=10)\n",
        "plt.grid(alpha=0.3)\n",
        "# Einfügen der Legende\n",
        "plt.legend(loc='upper center', bbox_to_anchor=(0.5, -0.15), ncol=2, frameon=False)\n",
        "plt.tight_layout()\n",
        "\n",
        "# Speichern der Grafik\n",
        "plt.savefig('artikel-reden_differenz_relevant_m.png', format='png', dpi=600)\n",
        "\n",
        "# Plot anzeigen\n",
        "plt.show()"
      ],
      "metadata": {
        "id": "9wdi08LY1NJJ",
        "collapsed": true
      },
      "execution_count": null,
      "outputs": []
    },
    {
      "cell_type": "markdown",
      "source": [
        "Lag-Analyse durchführen."
      ],
      "metadata": {
        "id": "_FGlYcwa1NTk"
      }
    },
    {
      "cell_type": "code",
      "source": [
        "# Funktion der Lag-Analyse\n",
        "def lag_analysis(data, max_lag, sentiment_column, gdp_column):\n",
        "    lag_results = []\n",
        "    for lag in range(-max_lag, max_lag + 1):  # Von negativem bis positivem Lag\n",
        "        if lag < 0:  # Sentiment führt das BIP an\n",
        "            lagged_sentiment = data[sentiment_column].shift(-lag)\n",
        "            correlation = data[gdp_column].corr(lagged_sentiment)\n",
        "        elif lag > 0:  # BIP führt das Sentiment an\n",
        "            lagged_gdp = data[gdp_column].shift(lag)\n",
        "            correlation = data[sentiment_column].corr(lagged_gdp)\n",
        "        else:  # Kein Lag, normale Korrelation\n",
        "            correlation = data[sentiment_column].corr(data[gdp_column])\n",
        "        lag_results.append({'Lag': lag, 'Correlation': correlation})\n",
        "\n",
        "    return pd.DataFrame(lag_results)\n",
        "\n",
        "# Durchführen der Lag-Analyse\n",
        "max_lag = 4  # Analysiere bis zu 4 Quartale vor/nach\n",
        "lag_results = lag_analysis(merged_df, max_lag, 'Sentiment Score_artikel', 'Sentiment Score_reden')\n",
        "\n",
        "# Zeigen der Ergebnisse\n",
        "# print(lag_results)\n",
        "\n",
        "# Plot der Lag-Analyse\n",
        "plt.figure(figsize=(10, 6))\n",
        "plt.plot(lag_results['Lag'], lag_results['Correlation'], marker='o', linestyle='-', color='midnightblue')\n",
        "plt.axhline(0, color='gray', linestyle='--', linewidth=0.8)\n",
        "plt.title('Lag-Analyse: Korrelation zwischen den quartalsweisen Sentimentwerten', fontsize=14)\n",
        "plt.xlabel('Lag (Monate)', fontsize=12)\n",
        "plt.ylabel('Korrelation', fontsize=12)\n",
        "plt.grid(alpha=0.3)\n",
        "plt.tight_layout()\n",
        "\n",
        "# Speichern der Grafik\n",
        "plt.savefig('artikel_reden_lag_relevant_q.png', format='png', dpi=600)\n",
        "\n",
        "# Anzeigen des Plots\n",
        "plt.show()"
      ],
      "metadata": {
        "id": "bvuvVpjy-N91",
        "collapsed": true
      },
      "execution_count": null,
      "outputs": []
    },
    {
      "cell_type": "markdown",
      "source": [
        "Korrelation mit BIP"
      ],
      "metadata": {
        "id": "2v9qwO8bpX77"
      }
    },
    {
      "cell_type": "code",
      "source": [
        "# Laden der Dateien\n",
        "reden_q = pd.read_csv('reden_sentiment_relevant_quartal.csv')\n",
        "artikel_q = pd.read_csv('artikel_sentiment_relevant_quartal.csv')\n",
        "gdp_df = pd.read_csv('bip_veränderung.csv')\n",
        "\n",
        "# Konvertieren der Quartale und Monate in datetime-Format\n",
        "artikel_q['Datum'] = pd.PeriodIndex(\n",
        "    artikel_q['Jahr'].astype(str) + 'Q' + artikel_q['Quartal'].astype(str), freq='Q'\n",
        ").to_timestamp()\n",
        "\n",
        "reden_q['Datum'] = pd.PeriodIndex(\n",
        "    reden_q['Jahr'].astype(str) + 'Q' + reden_q['Quartal'].astype(str), freq='Q'\n",
        ").to_timestamp()\n",
        "\n",
        "# Erstellen des Quartalsformats für die BIP-Daten\n",
        "gdp_df['Quarter'] = gdp_df['Quarter'].str.extract(r'(\\d)').astype(int)  # Extrahiere die Zahl\n",
        "gdp_df['Datum'] = pd.PeriodIndex(\n",
        "    gdp_df['Year'].astype(str) + 'Q' + gdp_df['Quarter'].astype(str), freq='Q'\n",
        ").to_timestamp()\n",
        "\n",
        "# Reduzieren der DataFrames auf relevante Spalten\n",
        "reden_q = reden_q[['Datum', 'Sentiment Score']].rename(columns={'Sentiment Score': 'Reden Score'})\n",
        "artikel_q = artikel_q[['Datum', 'Sentiment Score']].rename(columns={'Sentiment Score': 'Artikel Score'})\n",
        "gdp_df = gdp_df[['Datum', 'GDP Change %']]\n",
        "\n",
        "# Merge der Datenframes anhand von Datum\n",
        "merged_df = pd.merge(reden_q, artikel_q, on='Datum', how='inner')\n",
        "merged_df = pd.merge(merged_df, gdp_df, on='Datum', how='inner')\n",
        "\n",
        "# Überprüfen, ob der Merge korrekt war\n",
        "print(merged_df.head())\n",
        "print(merged_df.info())\n",
        "\n",
        "# Konvertieren der Werte in numerische Typen\n",
        "merged_df['Reden Score'] = pd.to_numeric(merged_df['Reden Score'], errors='coerce')\n",
        "merged_df['Artikel Score'] = pd.to_numeric(merged_df['Artikel Score'], errors='coerce')\n",
        "merged_df['BIP Veränderung %'] = pd.to_numeric(merged_df['GDP Change %'], errors='coerce')\n",
        "\n",
        "# Entfernen fehlender Werte\n",
        "numerical_df = merged_df.dropna()\n",
        "\n",
        "# Überprüfen, ob fehlende Werte entfernt wurden\n",
        "# print(numerical_df.info())\n",
        "\n",
        "# Berechnen der Korrelation\n",
        "correlation_matrix = numerical_df[['Reden Score', 'Artikel Score', 'BIP Veränderung %']].corr() # Only include relevant columns\n",
        "\n",
        "# Heatmap erstellen\n",
        "plt.figure(figsize=(8, 6))\n",
        "sns.heatmap(correlation_matrix, annot=True, cmap=\"coolwarm\", fmt=\".2f\", cbar=True)\n",
        "\n",
        "# Titel und Achsentitel anpassen\n",
        "# plt.title(\"Korrelation zwischen Sentiment- und BIP-Veränderung (quartalsweise)\")\n",
        "plt.tight_layout()\n",
        "\n",
        "# Speichern der Grafik\n",
        "plt.savefig('artikel_reden_bip_korrelation_relevant.png', format='png', dpi=600)\n",
        "\n",
        "# Grafik anzeigen\n",
        "plt.show()"
      ],
      "metadata": {
        "collapsed": true,
        "id": "wboonC_9p7RA"
      },
      "execution_count": null,
      "outputs": []
    },
    {
      "cell_type": "markdown",
      "source": [
        "Analyse in Krisenzeiten"
      ],
      "metadata": {
        "id": "mluBVG0V3kvp"
      }
    },
    {
      "cell_type": "code",
      "source": [
        "# Kombinieren aller Zeiträume in eine Liste und erweitere um zwei Quartale vor und nach den Ereignissen\n",
        "crisis_periods = []\n",
        "for start_date, end_date in events.values():\n",
        "    start_date = pd.to_datetime(start_date) - pd.offsets.QuarterEnd(2)  # Zwei Quartale vor\n",
        "    end_date = pd.to_datetime(end_date) + pd.offsets.QuarterEnd(2)     # Zwei Quartale nach\n",
        "    crisis_periods.append((start_date, end_date))\n",
        "\n",
        "# Filtern der Daten basierend auf den erweiterten Krisenzeiten\n",
        "filtered_data = pd.DataFrame()\n",
        "\n",
        "for start_date, end_date in crisis_periods:\n",
        "    subset = numerical_df[(numerical_df['Datum'] >= start_date) & (numerical_df['Datum'] <= end_date)]\n",
        "    filtered_data = pd.concat([filtered_data, subset])\n",
        "\n",
        "# Funktion zur Berechnung von Korrelationen und p-Werten\n",
        "def calculate_correlation_and_pvalues(df):\n",
        "    corr_matrix = df.corr()\n",
        "    pval_matrix = pd.DataFrame(index=df.columns, columns=df.columns)\n",
        "\n",
        "    for col1 in df.columns:\n",
        "        for col2 in df.columns:\n",
        "            if col1 == col2:\n",
        "                # Setzen der diagonalen p-Werte auf 0\n",
        "                pval_matrix.loc[col1, col2] = 0\n",
        "            else:\n",
        "                # Berechnen der p-Werte\n",
        "                _, p_value = pearsonr(df[col1], df[col2])\n",
        "                pval_matrix.loc[col1, col2] = p_value\n",
        "\n",
        "    return corr_matrix, pval_matrix\n",
        "\n",
        "# Berechnung der Korrelationen und p-Werte für die gefilterten Daten\n",
        "correlation_matrix_filtered, pvalue_matrix_filtered = calculate_correlation_and_pvalues(\n",
        "    filtered_data[['Reden Score', 'Artikel Score', 'BIP Veränderung %']]\n",
        ")\n",
        "\n",
        "# Debugging: Überprüfen der Ergebnisse\n",
        "print(\"Korrelationen während der Krisenzeiten (+/- 2 Quartale):\\n\", correlation_matrix_filtered)\n",
        "print(\"\\nP-Werte während der Krisenzeiten (+/- 2 Quartale):\\n\", pvalue_matrix_filtered)\n",
        "\n",
        "# Heatmap erstellen\n",
        "plt.figure(figsize=(10, 8))\n",
        "\n",
        "# Korrelationen heatmap\n",
        "sns.heatmap(correlation_matrix_filtered, annot=True, cmap=\"coolwarm\", fmt=\".2f\", cbar=True)\n",
        "plt.title(\"Korrelationen während der Krisenzeiten (+/- 2 Quartale)\")\n",
        "plt.tight_layout()\n",
        "plt.savefig('korrelationen_krisen_2quartale.png', format='png', dpi=600)\n",
        "plt.show()\n",
        "\n",
        "# Heatmap für P-Werte\n",
        "plt.figure(figsize=(10, 8))\n",
        "sns.heatmap(pvalue_matrix_filtered.astype(float), annot=True, cmap=\"coolwarm\", fmt=\".2g\", cbar=True)\n",
        "plt.title(\"P-Werte während der Krisenzeiten (+/- 2 Quartale)\")\n",
        "plt.tight_layout()\n",
        "plt.savefig('pvalues_krisen_2quartale.png', format='png', dpi=600)\n",
        "plt.show()"
      ],
      "metadata": {
        "collapsed": true,
        "id": "-Owox9V_87QR"
      },
      "execution_count": null,
      "outputs": []
    },
    {
      "cell_type": "markdown",
      "source": [
        "Analyse außerhalb von Krisenzeiten"
      ],
      "metadata": {
        "id": "7ykvG7Wk4FoY"
      }
    },
    {
      "cell_type": "code",
      "source": [
        "# Funktion zur Berechnung von Korrelationen und p-Werten\n",
        "def calculate_correlation_and_pvalues(df):\n",
        "    corr_matrix = df.corr()\n",
        "    pval_matrix = pd.DataFrame(index=df.columns, columns=df.columns)\n",
        "\n",
        "    for col1 in df.columns:\n",
        "        for col2 in df.columns:\n",
        "            if col1 == col2:\n",
        "                # Setze die diagonalen p-Werte auf 0\n",
        "                pval_matrix.loc[col1, col2] = 0\n",
        "            else:\n",
        "                # Berechne p-Wert\n",
        "                _, p_value = pearsonr(df[col1], df[col2])\n",
        "                pval_matrix.loc[col1, col2] = p_value\n",
        "\n",
        "    return corr_matrix, pval_matrix\n",
        "\n",
        "# Erstellen einer Maske für die erweiterten Krisenzeiten\n",
        "mask = pd.Series(False, index=numerical_df.index)\n",
        "\n",
        "for start_date, end_date in crisis_periods:\n",
        "    mask |= (numerical_df['Datum'] >= start_date) & (numerical_df['Datum'] <= end_date)\n",
        "\n",
        "# Daten außerhalb der Krisenzeiten filtern\n",
        "non_crisis_data = numerical_df[~mask]\n",
        "\n",
        "# Überprüfen, ob Daten vorhanden sind\n",
        "if not non_crisis_data.empty:\n",
        "    # Berechne die Korrelationen und p-Werte für die nicht-Krisenzeiten\n",
        "    correlation_matrix_non_crisis, pvalue_matrix_non_crisis = calculate_correlation_and_pvalues(\n",
        "        non_crisis_data[['Reden Score', 'Artikel Score', 'BIP Veränderung %']]\n",
        "    )\n",
        "\n",
        "    # Debugging: Überprüfen der Ergebnisse\n",
        "    print(\"Korrelationen außerhalb der Krisenzeiten:\\n\", correlation_matrix_non_crisis)\n",
        "    print(\"\\nP-Werte außerhalb der Krisenzeiten:\\n\", pvalue_matrix_non_crisis)\n",
        "\n",
        "    # Heatmap der Korrelationen erstellen\n",
        "    plt.figure(figsize=(10, 8))\n",
        "    sns.heatmap(correlation_matrix_non_crisis, annot=True, cmap=\"coolwarm\", fmt=\".2f\", cbar=True)\n",
        "    plt.title(\"Korrelationen außerhalb der Krisenzeiten\")\n",
        "    plt.tight_layout()\n",
        "    plt.savefig('artikel_reden_bip_korrelation_non_krisen_2_corr.png', format='png', dpi=600)\n",
        "    plt.show()\n",
        "\n",
        "    Heatmap der P-Werte erstellen\n",
        "    plt.figure(figsize=(10, 8))\n",
        "    sns.heatmap(pvalue_matrix_non_crisis.astype(float), annot=True, cmap=\"coolwarm\", fmt=\".2g\", cbar=True)\n",
        "    plt.title(\"P-Werte außerhalb der Krisenzeiten\")\n",
        "    plt.tight_layout()\n",
        "    plt.savefig('artikel_reden_bip_korrelation_non_krisen_2_pvalues.png', format='png', dpi=600)\n",
        "    plt.show()\n",
        "else:\n",
        "    print(\"Es sind keine Daten außerhalb der Krisenzeiten vorhanden.\")"
      ],
      "metadata": {
        "id": "sB9gwHjY-_PO"
      },
      "execution_count": null,
      "outputs": []
    },
    {
      "cell_type": "markdown",
      "source": [
        "Korrelation über den gesamten Zeitraum"
      ],
      "metadata": {
        "id": "WSCkR_Z-4Qdc"
      }
    },
    {
      "cell_type": "code",
      "source": [
        "# Funktion zur Berechnung von Korrelationen und p-Werten\n",
        "def calculate_correlation_and_pvalues(df):\n",
        "    # Spaltennamen\n",
        "    cols = df.columns\n",
        "    # Leere DataFrames für Korrelationen und p-Werte\n",
        "    correlation_matrix = pd.DataFrame(index=cols, columns=cols, dtype=float)\n",
        "    pvalue_matrix = pd.DataFrame(index=cols, columns=cols, dtype=float)\n",
        "\n",
        "    # Berechnung paarweiser Korrelationen und p-Werte\n",
        "    for col1 in cols:\n",
        "        for col2 in cols:\n",
        "            if col1 == col2:\n",
        "                # Diagonale: Korrelation = 1, p-Wert = 0\n",
        "                correlation_matrix.loc[col1, col2] = 1.0\n",
        "                pvalue_matrix.loc[col1, col2] = 0.0\n",
        "            else:\n",
        "                # Berechnung der Korrelation und des p-Werts\n",
        "                corr, pval = pearsonr(df[col1], df[col2])\n",
        "                correlation_matrix.loc[col1, col2] = corr\n",
        "                pvalue_matrix.loc[col1, col2] = pval\n",
        "\n",
        "    return correlation_matrix, pvalue_matrix\n",
        "\n",
        "# Beispiel: Berechnung für die numerischen Spalten\n",
        "numerical_df = numerical_df[['Reden Score', 'Artikel Score', 'BIP Veränderung %']]\n",
        "correlation_matrix, pvalue_matrix = calculate_correlation_and_pvalues(numerical_df)\n",
        "\n",
        "# Debugging: Überprüfen der Ergebnisse\n",
        "print(\"Korrelationen:\\n\", correlation_matrix)\n",
        "print(\"P-Werte:\\n\", pvalue_matrix)"
      ],
      "metadata": {
        "id": "i07GZa2m_vrj"
      },
      "execution_count": null,
      "outputs": []
    },
    {
      "cell_type": "markdown",
      "source": [
        "## Vergleich des LNTWS- und BPWS-Sentiments"
      ],
      "metadata": {
        "id": "4ULolsLKd52Y"
      }
    },
    {
      "cell_type": "code",
      "source": [
        "artikel_lntws_m = pd.read_csv('artikel_sentiment_relevant_monat.csv')\n",
        "artikel_lntws_q = pd.read_csv('artikel_sentiment_relevant_quartal.csv')\n",
        "artikel_bpws_m = pd.read_csv('artikel_bpw_relevant_monat.csv')\n",
        "artikel_bpws_q = pd.read_csv('artikel_bpw_relevant_quartal.csv')"
      ],
      "metadata": {
        "id": "5pz2uTrhd-qF"
      },
      "execution_count": null,
      "outputs": []
    },
    {
      "cell_type": "code",
      "source": [
        "artikel_bpws_q.head()"
      ],
      "metadata": {
        "collapsed": true,
        "id": "wak25tyUfIXj"
      },
      "execution_count": null,
      "outputs": []
    },
    {
      "cell_type": "code",
      "source": [
        "# Zeitreihen konvertieren: Monatliche Daten\n",
        "artikel_lntws_m['Datum'] = pd.to_datetime(\n",
        "    artikel_lntws_m['Jahr'].astype(str) + '-' + artikel_lntws_m['Monat'].astype(str).str.zfill(2) + '-01'\n",
        ")\n",
        "artikel_bpws_m['Datum'] = pd.to_datetime(\n",
        "    artikel_bpws_m['Jahr'].astype(str) + '-' + artikel_bpws_m['Monat'].astype(str).str.zfill(2) + '-01'\n",
        ")\n",
        "\n",
        "# Zeitreihen konvertieren: Quartalsweise Daten\n",
        "artikel_lntws_q['Datum'] = pd.PeriodIndex(\n",
        "    artikel_lntws_q['Jahr'].astype(str) + 'Q' + artikel_lntws_q['Quartal'].astype(str), freq='Q'\n",
        ").to_timestamp()\n",
        "artikel_bpws_q['Datum'] = pd.PeriodIndex(\n",
        "    artikel_bpws_q['Jahr'].astype(str) + 'Q' + artikel_bpws_q['Quartal'].astype(str), freq='Q'\n",
        ").to_timestamp()\n",
        "\n",
        "end_date = pd.to_datetime(\"2021-09-30\")\n",
        "\n",
        "# Filtern der Sentiment-Daten\n",
        "artikel_lntws_q = artikel_lntws_q[artikel_lntws_q['Datum'] <= end_date]\n",
        "artikel_lntws_m = artikel_lntws_m[artikel_lntws_m['Datum'] <= end_date]\n",
        "artikel_bpws_q = artikel_bpws_q[artikel_bpws_q['Datum'] <= end_date]\n",
        "artikel_bpws_m = artikel_bpws_m[artikel_bpws_m['Datum'] <= end_date]\n",
        "\n",
        "# Mergen der monatlichen Daten\n",
        "merged_monthly = pd.merge(\n",
        "    artikel_lntws_m[['Datum', 'Sentiment Score']],\n",
        "    artikel_bpws_m[['Datum', 'BPW Score']],\n",
        "    on='Datum'\n",
        ")\n",
        "\n",
        "# Mergen der quartalsweisen Daten\n",
        "merged_quarterly = pd.merge(\n",
        "    artikel_lntws_q[['Datum', 'Sentiment Score']],\n",
        "    artikel_bpws_q[['Datum', 'BPW Score']],\n",
        "    on='Datum'\n",
        ")\n",
        "\n",
        "# Berechnung der Korrelationen\n",
        "monthly_correlation = merged_monthly['Sentiment Score'].corr(merged_monthly['BPW Score'])\n",
        "quarterly_correlation = merged_quarterly['Sentiment Score'].corr(merged_quarterly['BPW Score'])\n",
        "\n",
        "# Ausgabe der Ergebnisse\n",
        "print(f\"Korrelation (monatlich) zwischen Sentiment-Score und BPW-Score: {monthly_correlation}\")\n",
        "print(f\"Korrelation (quartalsweise) zwischen Sentiment-Score und BPW-Score: {quarterly_correlation}\")"
      ],
      "metadata": {
        "id": "xApUCIiggs-0"
      },
      "execution_count": null,
      "outputs": []
    },
    {
      "cell_type": "code",
      "source": [
        "# Plot der monatlichen Zeitreihen\n",
        "plt.figure(figsize=(12, 6))\n",
        "plt.plot(merged_monthly['Datum'], merged_monthly['Sentiment Score'], label='LNTWS Score', marker='o', linestyle='-', alpha=0.8)\n",
        "plt.plot(merged_monthly['Datum'], merged_monthly['BPW Score'], label='BPWS Score', marker='s', linestyle='-', alpha=0.8)\n",
        "\n",
        "# Beschriftungen und Titel\n",
        "plt.title('Monatliche Zeitreihen: LNTWS Score und BPWS Score', fontsize=14)\n",
        "plt.xlabel('Datum', fontsize=12)\n",
        "plt.ylabel('Score', fontsize=12)\n",
        "plt.legend(fontsize=12)\n",
        "plt.grid(alpha=0.3)\n",
        "plt.tight_layout()\n",
        "\n",
        "# Speichern des Plots (optional)\n",
        "plt.savefig('monatliche_zeitreihen_plot.png', format='png', dpi=600)\n",
        "\n",
        "# Plot anzeigen\n",
        "plt.show()"
      ],
      "metadata": {
        "id": "IXEsc5KthK1v",
        "collapsed": true
      },
      "execution_count": null,
      "outputs": []
    },
    {
      "cell_type": "code",
      "source": [
        "# Plot der quartalsweise Zeitreihen\n",
        "plt.figure(figsize=(12, 6))\n",
        "plt.plot(merged_quarterly['Datum'], merged_quarterly['Sentiment Score'], label='Sentiment Score', marker='o', linestyle='-', alpha=0.8)\n",
        "plt.plot(merged_quarterly['Datum'], merged_quarterly['BPW Score'], label='BPW Score', marker='s', linestyle='-', alpha=0.8)\n",
        "\n",
        "# Beschriftungen und Titel\n",
        "plt.title('Quartalsweise Zeitreihen: Sentiment Score und BPW Score', fontsize=14)\n",
        "plt.xlabel('Datum', fontsize=12)\n",
        "plt.ylabel('Score', fontsize=12)\n",
        "plt.legend(fontsize=12)\n",
        "plt.grid(alpha=0.3)\n",
        "plt.tight_layout()\n",
        "\n",
        "# Speichern des Plots (optional)\n",
        "plt.savefig('quartalsweise_zeitreihen_plot.png', format='png', dpi=600)\n",
        "\n",
        "# Plot anzeigen\n",
        "plt.show()"
      ],
      "metadata": {
        "id": "lbnNYkQ-ijHK",
        "collapsed": true
      },
      "execution_count": null,
      "outputs": []
    },
    {
      "cell_type": "markdown",
      "source": [
        "## Vergleich des Sentiments in Artikeln und Reden (BPWS)"
      ],
      "metadata": {
        "id": "LMC8zc5VMWEe"
      }
    },
    {
      "cell_type": "code",
      "source": [
        "artikel_bpws_m = pd.read_csv('artikel_bpw_relevant_monat.csv')\n",
        "artikel_bpws_q = pd.read_csv('artikel_bpw_relevant_quartal.csv')\n",
        "reden_bpws_m = pd.read_csv('reden_bpw_relevant_monat.csv')\n",
        "reden_bpws_q = pd.read_csv('reden_bpw_relevant_quartal.csv')"
      ],
      "metadata": {
        "id": "KR6cSwh_MYR7"
      },
      "execution_count": null,
      "outputs": []
    },
    {
      "cell_type": "markdown",
      "source": [
        "Mittelwerte des Sentiments"
      ],
      "metadata": {
        "id": "03kGV72H5KQu"
      }
    },
    {
      "cell_type": "code",
      "source": [
        "mean_artikel_m = artikel_bpws_m['BPW Score'].mean()\n",
        "mean_reden_m = reden_bpws_m['BPW Score'].mean()\n",
        "mean_artikel_q = artikel_bpws_q['BPW Score'].mean()\n",
        "mean_reden_q = reden_bpws_q['BPW Score'].mean()\n",
        "\n",
        "print(f'Der Mittelwert der monatlich aggregierten Sentimentwerte in den Artikeln beträgt {mean_artikel_m}.')\n",
        "print(f'Der Mittelwert der quartalsweise aggregierten Sentimentwerte in den Artikeln beträgt {mean_artikel_q}.')\n",
        "print(f'Der Mittelwert der monatlich aggregierten Sentimentwerte in den Reden beträgt {mean_reden_m}.')\n",
        "print(f'Der Mittelwert der quartalsweise aggregierten Sentimentwerte in den Reden beträgt {mean_reden_q}.')"
      ],
      "metadata": {
        "id": "kEkNLjf3M6qr"
      },
      "execution_count": null,
      "outputs": []
    },
    {
      "cell_type": "markdown",
      "source": [
        "Standardabweichung des Sentiments"
      ],
      "metadata": {
        "id": "eh9OV18F5M4j"
      }
    },
    {
      "cell_type": "code",
      "source": [
        "# Berechnung der Standardabweichung für die monatlichen und quartalsweisen Sentimentwerte\n",
        "std_artikel_m = artikel_bpws_m['BPW Score'].std()\n",
        "std_reden_m = reden_bpws_m['BPW Score'].std()\n",
        "std_artikel_q = artikel_bpws_q['BPW Score'].std()\n",
        "std_reden_q = reden_bpws_q['BPW Score'].std()\n",
        "\n",
        "# Ausgabe der Standardabweichungen\n",
        "print(f\"Standardabweichung (Artikel, monatlich): {std_artikel_m}\")\n",
        "print(f\"Standardabweichung (Reden, monatlich): {std_reden_m}\")\n",
        "print(f\"Standardabweichung (Artikel, quartalsweise): {std_artikel_q}\")\n",
        "print(f\"Standardabweichung (Reden, quartalsweise): {std_reden_q}\")"
      ],
      "metadata": {
        "id": "P15GPO8IQHLQ"
      },
      "execution_count": null,
      "outputs": []
    },
    {
      "cell_type": "markdown",
      "source": [
        "Grafischer Vergleich der Sentimententwicklung"
      ],
      "metadata": {
        "id": "aJDCZkxAR23c"
      }
    },
    {
      "cell_type": "code",
      "source": [
        "# Konvertieren der Quartale und Monate in datetime-Format\n",
        "artikel_bpws_q['Datum'] = pd.PeriodIndex(\n",
        "    artikel_bpws_q['Jahr'].astype(str) + 'Q' + artikel_bpws_q['Quartal'].astype(str), freq='Q'\n",
        ").to_timestamp()\n",
        "\n",
        "reden_bpws_q['Datum'] = pd.PeriodIndex(\n",
        "    reden_bpws_q['Jahr'].astype(str) + 'Q' + reden_bpws_q['Quartal'].astype(str), freq='Q'\n",
        ").to_timestamp()\n",
        "\n",
        "artikel_bpws_m['Datum'] = pd.to_datetime(artikel_bpws_m['Jahr'].astype(str) + '-' + artikel_bpws_m['Monat'].astype(str).str.zfill(2) + '-01')\n",
        "reden_bpws_m['Datum'] = pd.to_datetime(reden_bpws_m['Jahr'].astype(str) + '-' + reden_bpws_m['Monat'].astype(str).str.zfill(2) + '-01')\n",
        "\n",
        "# Begrenzen der Daten auf den Zeitraum bis Ende Q3 2021\n",
        "end_date = pd.to_datetime(\"2021-09-30\")\n",
        "\n",
        "# Filtern der Sentiment-Daten\n",
        "artikel_bpws_q = artikel_bpws_q[artikel_bpws_q['Datum'] <= end_date]\n",
        "artikel_bpws_m = artikel_bpws_m[artikel_bpws_m['Datum'] <= end_date]\n",
        "reden_bpws_q = reden_bpws_q[reden_bpws_q['Datum'] <= end_date]\n",
        "reden_bpws_m = reden_bpws_m[reden_bpws_m['Datum'] <= end_date]"
      ],
      "metadata": {
        "id": "D_ZTQ5-pRwAP"
      },
      "execution_count": null,
      "outputs": []
    },
    {
      "cell_type": "code",
      "source": [
        "# Erstellen des Plots\n",
        "plt.figure(figsize=(12, 6))\n",
        "\n",
        "# Plot für quartalsweises Sentiment\n",
        "plt.plot(artikel_bpws_q['Datum'], artikel_bpws_q['BPW Score'], label='BPWS Sentiment der Artikel (quartalsweise)', color='blue')\n",
        "plt.plot(reden_bpws_q['Datum'], reden_bpws_q['BPW Score'], label='BPWS Sentiment der Reden (quartalsweise)', color='darkgreen')\n",
        "\n",
        "# Plot für monatliches Sentiment\n",
        "# plt.plot(artikel_bpws_m['Datum'], artikel_bpws_m['BPW Score'], label='BPWS Sentiment der Artikel (monatlich)', color='cornflowerblue')\n",
        "# plt.plot(reden_bpws_m['Datum'], reden_bpws_m['BPW Score'], label='BPWS Sentiment der Reden (monatlich)', color='darkseagreen')\n",
        "\n",
        "# Horizontale Linie für Neutralität\n",
        "plt.axhline(0, color='gray', linestyle='--', linewidth=0.8)\n",
        "\n",
        "# Markieren der Ereignisse mit roten Bereichen\n",
        "for event, (start_date, end_date) in events.items():\n",
        "    plt.axvspan(pd.to_datetime(start_date), pd.to_datetime(end_date), color='red', alpha=0.3)\n",
        "\n",
        "# Erstellen der xticks (jedes zweite Quartal)\n",
        "tick_dates = pd.date_range(start=artikel_bpws_q['Datum'].min(),\n",
        "                           end=artikel_bpws_q['Datum'].max(),\n",
        "                           freq='2Q')  # Jedes zweite Quartal\n",
        "tick_labels = [f\"{date.year}Q{(date.month // 3) or 4}\" for date in tick_dates]  # Dynamische Quartalslabels\n",
        "\n",
        "# Setzen der xticks und Labels\n",
        "plt.xticks(ticks=tick_dates, labels=tick_labels, rotation=45)\n",
        "\n",
        "# Achsentitel und Beschriftungen\n",
        "plt.title('', fontsize=14)\n",
        "# plt.xlabel('Quartal', fontsize=12)\n",
        "plt.ylabel('Sentiment-Score', fontsize=10)\n",
        "plt.grid(alpha=0.3)\n",
        "# Einfügen der Legende\n",
        "plt.legend(loc='upper center', bbox_to_anchor=(0.5, -0.15), ncol=2, frameon=False)\n",
        "plt.tight_layout()\n",
        "\n",
        "# Speichern der Artikel\n",
        "plt.savefig('vergleich_reden_artikel_bpws_relevant_q.png', format='png', dpi=600)\n",
        "\n",
        "plt.show()"
      ],
      "metadata": {
        "collapsed": true,
        "id": "7ExbVy0CW66m"
      },
      "execution_count": null,
      "outputs": []
    },
    {
      "cell_type": "markdown",
      "source": [
        "Sentimentwerte voneinander abziehen"
      ],
      "metadata": {
        "id": "Hm6_K5ZnYVV8"
      }
    },
    {
      "cell_type": "code",
      "source": [
        "# Zusammenführen der Tabellen anhand von Jahr und Monat\n",
        "merged_bpws_df = pd.merge(artikel_bpws_m, reden_bpws_m, on=['Datum'], suffixes=('_artikel', '_reden'))"
      ],
      "metadata": {
        "id": "GJoqoH0qYY2U"
      },
      "execution_count": null,
      "outputs": []
    },
    {
      "cell_type": "code",
      "source": [
        "# Berechnung der Differenz\n",
        "merged_bpws_df['Sentiment Differenz'] = merged_bpws_df['BPW Score_artikel'] - merged_bpws_df['BPW Score_reden']\n",
        "\n",
        "# Plot\n",
        "plt.figure(figsize=(12, 6))\n",
        "plt.plot(merged_bpws_df['Datum'], merged_bpws_df['Sentiment Differenz'], label='Sentiment-Differenz (Artikel - Reden)', color='midnightblue')\n",
        "\n",
        "# Horizontale Linie für Neutralität\n",
        "plt.axhline(0, color='gray', linestyle='--', linewidth=0.8)\n",
        "\n",
        "# Markieren der Ereignisse mit roten Bereichen\n",
        "for event, (start_date, end_date) in events.items():\n",
        "    plt.axvspan(pd.to_datetime(start_date), pd.to_datetime(end_date), color='red', alpha=0.3)\n",
        "\n",
        "# Erstellen der xticks (jedes zweite Quartal)\n",
        "tick_dates = pd.date_range(start=merged_bpws_df['Datum'].min(),\n",
        "                           end=merged_bpws_df['Datum'].max(),\n",
        "                           freq='2Q')  # Jedes zweite Quartal\n",
        "tick_labels = [f\"{date.year}Q{(date.month // 3) or 4}\" for date in tick_dates]  # Dynamische Quartalslabels\n",
        "\n",
        "# Setzen der xticks und Labels\n",
        "plt.xticks(ticks=tick_dates, labels=tick_labels, rotation=45)\n",
        "\n",
        "# Achsentitel und Beschriftungen\n",
        "plt.title('', fontsize=14)\n",
        "# plt.xlabel('Quartal', fontsize=12)\n",
        "plt.ylabel('Sentiment-Differenz', fontsize=10)\n",
        "plt.grid(alpha=0.3)\n",
        "# Einfügen der Legende\n",
        "plt.legend(loc='upper center', bbox_to_anchor=(0.5, -0.15), ncol=2, frameon=False)\n",
        "plt.tight_layout()\n",
        "\n",
        "# Speichern der Grafik\n",
        "plt.savefig('artikel-reden_differenz_bpw_relevant_m.png', format='png', dpi=600)\n",
        "\n",
        "# Plot anzeigen\n",
        "plt.show()"
      ],
      "metadata": {
        "collapsed": true,
        "id": "hL060cIxYiFQ"
      },
      "execution_count": null,
      "outputs": []
    },
    {
      "cell_type": "code",
      "source": [
        "# Funktion für die Lag-Analyse\n",
        "def lag_analysis(data, max_lag, sentiment_column, gdp_column):\n",
        "    lag_results = []\n",
        "    for lag in range(-max_lag, max_lag + 1):  # Von negativem bis positivem Lag\n",
        "        if lag < 0:  # Sentiment führt das BIP an\n",
        "            lagged_sentiment = data[sentiment_column].shift(-lag)\n",
        "            correlation = data[gdp_column].corr(lagged_sentiment)\n",
        "        elif lag > 0:  # BIP führt das Sentiment an\n",
        "            lagged_gdp = data[gdp_column].shift(lag)\n",
        "            correlation = data[sentiment_column].corr(lagged_gdp)\n",
        "        else:  # Kein Lag, normale Korrelation\n",
        "            correlation = data[sentiment_column].corr(data[gdp_column])\n",
        "        lag_results.append({'Lag': lag, 'Correlation': correlation})\n",
        "\n",
        "    return pd.DataFrame(lag_results)\n",
        "\n",
        "# Durchführen der Lag-Analyse\n",
        "max_lag = 4  # Analysiere bis zu 4 Quartale vor/nach\n",
        "lag_results = lag_analysis(merged_bpws_df, max_lag, 'BPW Score_artikel', 'BPW Score_reden')\n",
        "\n",
        "# Anzeigen die Ergebnisse\n",
        "# print(lag_results)\n",
        "\n",
        "# Plot der Lag-Analyse\n",
        "plt.figure(figsize=(10, 6))\n",
        "plt.plot(lag_results['Lag'], lag_results['Correlation'], marker='o', linestyle='-', color='midnightblue')\n",
        "plt.axhline(0, color='gray', linestyle='--', linewidth=0.8)\n",
        "# plt.title('Lag-Analyse: Korrelation zwischen den quartalsweisen Sentimentwerten', fontsize=14)\n",
        "plt.xlabel('Lag (Monate)', fontsize=12)\n",
        "plt.ylabel('Korrelation', fontsize=12)\n",
        "plt.grid(alpha=0.3)\n",
        "plt.tight_layout()\n",
        "\n",
        "# Speichern der Grafik\n",
        "plt.savefig('artikel_reden_lag_bpw_relevant_q.png', format='png', dpi=600)\n",
        "\n",
        "# Anzeigen des Plots\n",
        "plt.show()"
      ],
      "metadata": {
        "collapsed": true,
        "id": "dHML1lR7Z8wr"
      },
      "execution_count": null,
      "outputs": []
    },
    {
      "cell_type": "markdown",
      "source": [
        "## Korrelation aller Datenreihen"
      ],
      "metadata": {
        "id": "YQeOK40Kxwht"
      }
    },
    {
      "cell_type": "markdown",
      "source": [
        "### Korrelation seit 2005 mit ifo-Geschäftsklimaindex"
      ],
      "metadata": {
        "id": "xN79DLIUx3vy"
      }
    },
    {
      "cell_type": "code",
      "source": [
        "# Daten einlesen\n",
        "reden_q = pd.read_csv('reden_sentiment_relevant_quartal.csv')\n",
        "artikel_q = pd.read_csv('artikel_sentiment_relevant_quartal.csv')\n",
        "gdp_df = pd.read_csv('bip_veränderung.csv')\n",
        "bpw_artikel_q = pd.read_csv('artikel_bpw_relevant_quartal.csv')\n",
        "bpw_reden_q = pd.read_csv('reden_bpw_relevant_quartal.csv')\n",
        "ifo_data = pd.read_excel('ifo-Geschäftsklima.xlsx')"
      ],
      "metadata": {
        "id": "rMCFNoXZxz_M"
      },
      "execution_count": null,
      "outputs": []
    },
    {
      "cell_type": "markdown",
      "source": [
        "Korrelation"
      ],
      "metadata": {
        "id": "LEWtE-7K7YHD"
      }
    },
    {
      "cell_type": "code",
      "source": [
        "# Zeitbereiche definieren\n",
        "end_date = pd.to_datetime(\"2021-09-30\")\n",
        "start_date = pd.to_datetime(\"2005-01-01\")\n",
        "\n",
        "# Quartalsdaten für Artikel und Reden\n",
        "for df, score_col, new_col in zip(\n",
        "    [artikel_q, reden_q],\n",
        "    ['Sentiment Score', 'Sentiment Score'],\n",
        "    ['Artikel Score', 'Reden Score']\n",
        "):\n",
        "    df['Datum'] = pd.PeriodIndex(\n",
        "        df['Jahr'].astype(str) + 'Q' + df['Quartal'].astype(str), freq='Q'\n",
        "    ).to_timestamp()\n",
        "    df.rename(columns={score_col: new_col}, inplace=True)\n",
        "\n",
        "# Quartalsdaten für BPW-Sentiments (Artikel)\n",
        "bpw_artikel_q['Datum'] = pd.PeriodIndex(\n",
        "    bpw_artikel_q['Jahr'].astype(str) + 'Q' + bpw_artikel_q['Quartal'].astype(str), freq='Q'\n",
        ").to_timestamp()\n",
        "bpw_artikel_q.rename(columns={'BPW Sentiment': 'BPW Artikel'}, inplace=True)\n",
        "\n",
        "# Quartalsdaten für BPW-Sentiments (Reden) aggregieren\n",
        "bpw_reden_q = bpw_reden_q.rename(\n",
        "    columns={'datum_jahr': 'Jahr', 'datum_quartal': 'Quartal'}\n",
        ")\n",
        "bpw_reden_q = bpw_reden_q.groupby(['Jahr', 'Quartal'], as_index=False)['BPW Score'].mean()\n",
        "bpw_reden_q['Datum'] = pd.PeriodIndex(\n",
        "    bpw_reden_q['Jahr'].astype(str) + 'Q' + bpw_reden_q['Quartal'].astype(str), freq='Q'\n",
        ").to_timestamp()\n",
        "\n",
        "# BIP-Daten vorbereiten\n",
        "gdp_df['Quarter'] = gdp_df['Quarter'].str.extract(r'(\\d)').astype(int)\n",
        "gdp_df['Datum'] = pd.PeriodIndex(\n",
        "    gdp_df['Year'].astype(str) + 'Q' + gdp_df['Quarter'].astype(str), freq='Q'\n",
        ").to_timestamp()\n",
        "gdp_df.rename(columns={'GDP Change %': 'BIP Veränderung %'}, inplace=True)\n",
        "\n",
        "# ifo-Geschäftsklimaindex vorbereiten\n",
        "# Konvertieren der Spalte \"Monat/Jahr\" in datetime-Format\n",
        "ifo_data['Datum'] = pd.to_datetime(ifo_data['Monat/Jahr'], format=' %m/%Y')\n",
        "ifo_data['Quartal'] = ifo_data['Datum'].dt.to_period('Q')\n",
        "ifo_quarterly = ifo_data.groupby('Quartal')['geschäftsklima-veränderung'].mean().reset_index()\n",
        "ifo_quarterly['Datum'] = ifo_quarterly['Quartal'].dt.to_timestamp()\n",
        "ifo_quarterly.rename(columns={'geschäftsklima-veränderung': 'ifo Index'}, inplace=True)\n",
        "\n",
        "# Alle Daten auf den definierten Zeitraum begrenzen\n",
        "datasets = [artikel_q, reden_q, bpw_artikel_q, bpw_reden_q, gdp_df, ifo_quarterly]\n",
        "for df in datasets:\n",
        "    df = df[(df['Datum'] >= start_date) & (df['Datum'] <= end_date)]\n",
        "\n",
        "# BPW-Sentiments für Artikel und Reden vor dem Merge klar benennen\n",
        "bpw_artikel_q.rename(columns={'BPW Score': 'BPWS Artikel'}, inplace=True)\n",
        "bpw_reden_q.rename(columns={'BPW Score': 'BPWS Reden'}, inplace=True)\n",
        "\n",
        "# Zusammenführen der Datensätze\n",
        "merged_df = pd.merge(artikel_q[['Datum', 'Artikel Score']], reden_q[['Datum', 'Reden Score']], on='Datum', how='inner')\n",
        "merged_df = pd.merge(merged_df, bpw_artikel_q[['Datum', 'BPWS Artikel']], on='Datum', how='inner')\n",
        "merged_df = pd.merge(merged_df, bpw_reden_q[['Datum', 'BPWS Reden']], on='Datum', how='inner')\n",
        "merged_df = pd.merge(merged_df, gdp_df[['Datum', 'BIP Veränderung %']], on='Datum', how='inner')\n",
        "merged_df = pd.merge(merged_df, ifo_quarterly[['Datum', 'ifo Index']], on='Datum', how='inner')\n",
        "\n",
        "# Spalten umbenennen, um die Korrelationen besser zuzuordnen\n",
        "renamed_columns = {\n",
        "    'Artikel Score': 'LNTWS Artikel',\n",
        "    'Reden Score': 'LNTWS Reden',\n",
        "    'BPWS Artikel': 'BPWS Artikel',\n",
        "    'BPWS Reden': 'BPWS Reden',\n",
        "    'ifo Index': 'ifo Geschäftsklima'\n",
        "}\n",
        "merged_df = merged_df.rename(columns=renamed_columns)\n",
        "\n",
        "# Überprüfen, ob der Merge erfolgreich war\n",
        "print(merged_df.head())\n",
        "print(merged_df.info())\n",
        "\n",
        "numerical_columns = merged_df.select_dtypes(include=['number'])\n",
        "\n",
        "# Korrelationen berechnen\n",
        "correlation_matrix = numerical_columns.corr()\n",
        "\n",
        "# Heatmap der Korrelationen erstellen\n",
        "plt.figure(figsize=(10, 8))\n",
        "sns.heatmap(correlation_matrix, annot=True, cmap=\"coolwarm\", fmt=\".3f\", cbar=True)\n",
        "\n",
        "# Titel und Layout\n",
        "# plt.title(\"Korrelationen zwischen allen Datensätzen (quartalsweise)\", fontsize=14)\n",
        "plt.tight_layout()\n",
        "\n",
        "# Speichern der Grafik\n",
        "plt.savefig('korrelationen_quartalsweise.png', format='png', dpi=600)\n",
        "\n",
        "# Grafik anzeigen\n",
        "plt.show()"
      ],
      "metadata": {
        "id": "l8p2Sqvgx_FI"
      },
      "execution_count": null,
      "outputs": []
    },
    {
      "cell_type": "markdown",
      "source": [
        "p-Werte"
      ],
      "metadata": {
        "id": "JP6lj_LW7WH6"
      }
    },
    {
      "cell_type": "code",
      "source": [
        "# Funktion zur Berechnung der Korrelation und der zugehörigen p-Werte\n",
        "def calculate_p_values(df):\n",
        "    \"\"\"\n",
        "    Berechnet p-Werte für alle Paarungen von numerischen Spalten in einem DataFrame.\n",
        "    Gibt einen DataFrame mit den p-Werten zurück.\n",
        "    \"\"\"\n",
        "    p_values = pd.DataFrame(index=df.columns, columns=df.columns)\n",
        "    for col1 in df.columns:\n",
        "        for col2 in df.columns:\n",
        "            if col1 != col2:\n",
        "                _, p_value = pearsonr(df[col1], df[col2])  # Berechne p-Wert\n",
        "                # Formatierung für kleine Werte\n",
        "                if p_value < 1e-4:  # Wenn der p-Wert kleiner als 0.0001 ist\n",
        "                    formatted_value = np.format_float_scientific(p_value, precision=2)  # Formatierung mit 2 Dezimalstellen\n",
        "                else:\n",
        "                    formatted_value = round(p_value, 4)  # Runde auf 4 Dezimalstellen\n",
        "                p_values.loc[col1, col2] = formatted_value\n",
        "            else:\n",
        "                p_values.loc[col1, col2] = None  # Keine Selbstkorrelation\n",
        "    return p_values\n",
        "\n",
        "# p-Werte berechnen\n",
        "p_values = calculate_p_values(numerical_columns)\n",
        "\n",
        "# p-Werte als Tabelle ausgeben\n",
        "print(\"p-Werte der Korrelationen:\")\n",
        "print(p_values)\n",
        "\n",
        "# Optional: Speichern der p-Werte in einer CSV-Datei\n",
        "p_values.to_csv(\"p_values_formatted.csv\", sep=';', index=True, encoding='utf-8')\n",
        "print(\"Die Matrix der p-Werte wurde in 'p_values_formatted.csv' gespeichert.\")"
      ],
      "metadata": {
        "id": "iLtX1C58yD5V"
      },
      "execution_count": null,
      "outputs": []
    },
    {
      "cell_type": "markdown",
      "source": [
        "### Korrelation seit 2000 ohne ifo-Geschäftsklimaindex"
      ],
      "metadata": {
        "id": "Ui6YU6fryExe"
      }
    },
    {
      "cell_type": "code",
      "source": [
        "# Daten einlesen\n",
        "reden_q = pd.read_csv('reden_sentiment_relevant_quartal.csv')\n",
        "artikel_q = pd.read_csv('artikel_sentiment_relevant_quartal.csv')\n",
        "gdp_df = pd.read_csv('bip_veränderung.csv')\n",
        "bpw_artikel_q = pd.read_csv('artikel_bpw_relevant_quartal.csv')\n",
        "bpw_reden_q = pd.read_csv('reden_bpw_relevant_quartal.csv')"
      ],
      "metadata": {
        "id": "8bSevFF37cbC"
      },
      "execution_count": null,
      "outputs": []
    },
    {
      "cell_type": "markdown",
      "source": [
        "Korrelation"
      ],
      "metadata": {
        "id": "mjPySzs-7Ssp"
      }
    },
    {
      "cell_type": "code",
      "source": [
        "# Zeitbereiche definieren\n",
        "end_date = pd.to_datetime(\"2021-09-30\")\n",
        "start_date = pd.to_datetime(\"2000-01-01\")\n",
        "\n",
        "# Quartalsdaten für Artikel und Reden\n",
        "for df, score_col, new_col in zip(\n",
        "    [artikel_q, reden_q],\n",
        "    ['Sentiment Score', 'Sentiment Score'],\n",
        "    ['Artikel Score', 'Reden Score']\n",
        "):\n",
        "    df['Datum'] = pd.PeriodIndex(\n",
        "        df['Jahr'].astype(str) + 'Q' + df['Quartal'].astype(str), freq='Q'\n",
        "    ).to_timestamp()\n",
        "    df.rename(columns={score_col: new_col}, inplace=True)\n",
        "\n",
        "# Quartalsdaten für BPW-Sentiments (Artikel)\n",
        "bpw_artikel_q['Datum'] = pd.PeriodIndex(\n",
        "    bpw_artikel_q['Jahr'].astype(str) + 'Q' + bpw_artikel_q['Quartal'].astype(str), freq='Q'\n",
        ").to_timestamp()\n",
        "bpw_artikel_q.rename(columns={'BPW Sentiment': 'BPW Artikel'}, inplace=True)\n",
        "\n",
        "# Quartalsdaten für BPW-Sentiments (Reden) aggregieren\n",
        "bpw_reden_q = bpw_reden_q.rename(\n",
        "    columns={'datum_jahr': 'Jahr', 'datum_quartal': 'Quartal'}\n",
        ")\n",
        "bpw_reden_q = bpw_reden_q.groupby(['Jahr', 'Quartal'], as_index=False)['BPW Score'].mean()\n",
        "bpw_reden_q['Datum'] = pd.PeriodIndex(\n",
        "    bpw_reden_q['Jahr'].astype(str) + 'Q' + bpw_reden_q['Quartal'].astype(str), freq='Q'\n",
        ").to_timestamp()\n",
        "\n",
        "# BIP-Daten vorbereiten\n",
        "gdp_df['Quarter'] = gdp_df['Quarter'].str.extract(r'(\\d)').astype(int)\n",
        "gdp_df['Datum'] = pd.PeriodIndex(\n",
        "    gdp_df['Year'].astype(str) + 'Q' + gdp_df['Quarter'].astype(str), freq='Q'\n",
        ").to_timestamp()\n",
        "gdp_df.rename(columns={'GDP Change %': 'BIP Veränderung %'}, inplace=True)\n",
        "\n",
        "# Alle Daten auf den definierten Zeitraum begrenzen\n",
        "datasets = [artikel_q, reden_q, bpw_artikel_q, bpw_reden_q, gdp_df]\n",
        "for df in datasets:\n",
        "    df = df[(df['Datum'] >= start_date) & (df['Datum'] <= end_date)]\n",
        "\n",
        "# BPW-Sentiments für Artikel und Reden vor dem Merge klar benennen\n",
        "bpw_artikel_q.rename(columns={'BPW Score': 'BPWS Artikel'}, inplace=True)\n",
        "bpw_reden_q.rename(columns={'BPW Score': 'BPWS Reden'}, inplace=True)\n",
        "\n",
        "# Zusammenführen der Datensätze mit klaren Namen\n",
        "merged_df = pd.merge(artikel_q[['Datum', 'Artikel Score']], reden_q[['Datum', 'Reden Score']], on='Datum', how='inner')\n",
        "merged_df = pd.merge(merged_df, bpw_artikel_q[['Datum', 'BPWS Artikel']], on='Datum', how='inner')\n",
        "merged_df = pd.merge(merged_df, bpw_reden_q[['Datum', 'BPWS Reden']], on='Datum', how='inner')\n",
        "merged_df = pd.merge(merged_df, gdp_df[['Datum', 'BIP Veränderung %']], on='Datum', how='inner')\n",
        "\n",
        "# Spalten umbenennen, um die Korrelationen besser zuzuordnen\n",
        "renamed_columns = {\n",
        "    'Artikel Score': 'LNTWS Artikel',\n",
        "    'Reden Score': 'LNTWS Reden',\n",
        "    'BPWS Artikel': 'BPWS Artikel',\n",
        "    'BPWS Reden': 'BPWS Reden'\n",
        "}\n",
        "merged_df = merged_df.rename(columns=renamed_columns)\n",
        "\n",
        "# Überprüfen, ob der Merge erfolgreich war\n",
        "print(merged_df.head())\n",
        "print(merged_df.info())\n",
        "\n",
        "numerical_columns = merged_df.select_dtypes(include=['number'])\n",
        "\n",
        "# Korrelationen berechnen\n",
        "correlation_matrix = numerical_columns.corr()\n",
        "\n",
        "# Heatmap der Korrelationen erstellen\n",
        "plt.figure(figsize=(10, 8))\n",
        "sns.heatmap(correlation_matrix, annot=True, cmap=\"coolwarm\", fmt=\".3f\", cbar=True)\n",
        "\n",
        "# Titel und Layout\n",
        "# plt.title(\"Korrelationen zwischen allen Datensätzen (quartalsweise)\", fontsize=14)\n",
        "plt.tight_layout()\n",
        "\n",
        "# Speichern der Grafik\n",
        "plt.savefig('korrelationen_quartalsweise.png', format='png', dpi=600)\n",
        "\n",
        "# Grafik anzeigen\n",
        "plt.show()"
      ],
      "metadata": {
        "id": "axAs7Pw0yJYi"
      },
      "execution_count": null,
      "outputs": []
    },
    {
      "cell_type": "markdown",
      "source": [
        "p-Werte"
      ],
      "metadata": {
        "id": "N1IeRXsT7P3P"
      }
    },
    {
      "cell_type": "code",
      "source": [
        "# Funktion zur Berechnung der Korrelation und der zugehörigen p-Werte\n",
        "def calculate_p_values(df):\n",
        "    p_values = pd.DataFrame(index=df.columns, columns=df.columns)\n",
        "    for col1 in df.columns:\n",
        "        for col2 in df.columns:\n",
        "            if col1 != col2:\n",
        "                _, p_value = pearsonr(df[col1], df[col2])  # Berechne p-Wert\n",
        "                p_values.loc[col1, col2] = p_value\n",
        "            else:\n",
        "                p_values.loc[col1, col2] = None  # Keine Selbstkorrelation\n",
        "    return p_values\n",
        "\n",
        "# p-Werte berechnen\n",
        "p_values = calculate_p_values(numerical_columns)\n",
        "\n",
        "# p-Werte als Tabelle ausgeben\n",
        "print(\"p-Werte der Korrelationen:\")\n",
        "print(p_values)"
      ],
      "metadata": {
        "id": "67N0i9j9yNw-"
      },
      "execution_count": null,
      "outputs": []
    }
  ]
}