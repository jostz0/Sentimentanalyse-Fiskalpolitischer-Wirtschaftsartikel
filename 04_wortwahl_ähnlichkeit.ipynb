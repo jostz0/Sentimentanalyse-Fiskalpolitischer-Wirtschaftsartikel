{
  "nbformat": 4,
  "nbformat_minor": 0,
  "metadata": {
    "colab": {
      "provenance": [],
      "authorship_tag": "ABX9TyOtNte6t+nhodE/qiBIRyF/"
    },
    "kernelspec": {
      "name": "python3",
      "display_name": "Python 3"
    },
    "language_info": {
      "name": "python"
    }
  },
  "cells": [
    {
      "cell_type": "code",
      "execution_count": null,
      "metadata": {
        "id": "WkyXEC3O1Do9"
      },
      "outputs": [],
      "source": [
        "import pandas as pd\n",
        "import numpy as np\n",
        "from sklearn.feature_extraction.text import TfidfVectorizer\n",
        "from sklearn.metrics.pairwise import cosine_similarity\n",
        "import matplotlib.pyplot as plt"
      ]
    },
    {
      "cell_type": "markdown",
      "source": [
        "## Aggregieren der Reden pro Partei"
      ],
      "metadata": {
        "id": "gf4BPRmP6q-j"
      }
    },
    {
      "cell_type": "code",
      "source": [
        "# Daten einlesen\n",
        "reden_df = pd.read_csv(\"reden_relevant.csv\")\n",
        "artikel_df = pd.read_csv(\"artikel_relevant.csv\")\n",
        "print(len(reden_df))\n",
        "print(len(artikel_df))"
      ],
      "metadata": {
        "id": "VDee4VV_5kv3"
      },
      "execution_count": null,
      "outputs": []
    },
    {
      "cell_type": "code",
      "source": [
        "# PDS mit Linke ersetzen\n",
        "reden_df['partei'] = reden_df['partei'].replace({'PDS': 'LINKE'})"
      ],
      "metadata": {
        "id": "vi0v0Wp-8EI3"
      },
      "execution_count": null,
      "outputs": []
    },
    {
      "cell_type": "markdown",
      "source": [
        "### TF-IDF-Werte"
      ],
      "metadata": {
        "id": "m-J20Ip_6vHG"
      }
    },
    {
      "cell_type": "code",
      "source": [
        "# TF-IDF-Berechnung für Reden\n",
        "vectorizer_reden = TfidfVectorizer()\n",
        "tfidf_reden = vectorizer_reden.fit_transform(reden_df['text_preprocessed_specific'])"
      ],
      "metadata": {
        "id": "cLor8utn5qJB"
      },
      "execution_count": null,
      "outputs": []
    },
    {
      "cell_type": "code",
      "source": [
        "# TF-IDF-Berechnung für Artikel\n",
        "vectorizer_artikel = TfidfVectorizer()\n",
        "tfidf_artikel = vectorizer_artikel.fit_transform(artikel_df['text_preprocessed_specific'])"
      ],
      "metadata": {
        "id": "gexJfQQoHkLL"
      },
      "execution_count": null,
      "outputs": []
    },
    {
      "cell_type": "markdown",
      "source": [
        "Aggregieren der TF-IDF-Werte"
      ],
      "metadata": {
        "id": "UBOnROG16sSn"
      }
    },
    {
      "cell_type": "code",
      "source": [
        "# TF-IDF-Werte mit Parteien verknüpfen (Reden)\n",
        "reden_tfidf_df = pd.DataFrame(tfidf_reden.toarray(), columns=vectorizer_reden.get_feature_names_out())\n",
        "reden_tfidf_df['partei'] = reden_df['partei']\n",
        "\n",
        "# TF-IDF-Werte nach Partei aggregieren (Reden)\n",
        "partei_tfidf = reden_tfidf_df.groupby('partei').mean()"
      ],
      "metadata": {
        "id": "q4kgNw7M6ruy"
      },
      "execution_count": null,
      "outputs": []
    },
    {
      "cell_type": "code",
      "source": [
        "# TF-IDF-Werte mit den Jahresinformationen verknüpfen (Artikel)\n",
        "tfidf_artikel_df = pd.DataFrame(tfidf_artikel.toarray(), columns=vectorizer_artikel.get_feature_names_out()) # Convert to DataFrame\n",
        "tfidf_artikel_df['Jahr'] = artikel_df['datum_jahr']  # Add the 'Jahr' column\n",
        "\n",
        "# TF-IDF-Werte nach Jahr aggregieren (mittlere Werte) (Artikel)\n",
        "artikel_tfidf = tfidf_artikel_df.groupby('Jahr').mean() # groupby using the DataFrame"
      ],
      "metadata": {
        "id": "7vL--DfTHT2p"
      },
      "execution_count": null,
      "outputs": []
    },
    {
      "cell_type": "code",
      "source": [
        "# Optional: Speichern der aggregierten Werte\n",
        "partei_tfidf.to_csv(\"partei_tfidf.csv\", index=True)\n",
        "artikel_tfidf.to_csv(\"artikel_tfidf.csv\", index=False)"
      ],
      "metadata": {
        "id": "jFEgy7eS68Es"
      },
      "execution_count": null,
      "outputs": []
    },
    {
      "cell_type": "markdown",
      "source": [
        "### Kosinus-Ähnlichkeit"
      ],
      "metadata": {
        "id": "JY5xDzzX9PT1"
      }
    },
    {
      "cell_type": "code",
      "source": [
        "# Aggregierte TF-IDF-Werte der Parteien laden (aus vorherigem Schritt)\n",
        "partei_tfidf = pd.read_csv(\"partei_tfidf.csv\", index_col=0)"
      ],
      "metadata": {
        "id": "c3YbmzWz-KNN"
      },
      "execution_count": null,
      "outputs": []
    },
    {
      "cell_type": "code",
      "source": [
        "# Schnittmenge der Vokabulare finden\n",
        "gemeinsame_woerter = list(set(partei_tfidf.columns).intersection(artikel_tfidf.columns))\n",
        "\n",
        "# Matritzen auf gemeinsame Wörter reduzieren\n",
        "partei_tfidf_reduced = partei_tfidf[gemeinsame_woerter]\n",
        "artikel_tfidf_reduced = artikel_tfidf[gemeinsame_woerter]"
      ],
      "metadata": {
        "id": "y86nHR3dI_n9"
      },
      "execution_count": null,
      "outputs": []
    },
    {
      "cell_type": "code",
      "source": [
        "# Kosinus-Ähnlichkeit zwischen den jährlichen Artikel-TF-IDF-Werten und den Partei-TF-IDF-Werten\n",
        "yearly_similarity_matrix = cosine_similarity(artikel_tfidf_reduced.values, partei_tfidf_reduced.values)\n",
        "\n",
        "# Ähnlichkeit in einen DataFrame umwandeln\n",
        "yearly_similarity_df = pd.DataFrame(yearly_similarity_matrix, columns=partei_tfidf.index, index=artikel_tfidf.index)\n",
        "\n",
        "# Ergebnis anzeigen\n",
        "print(yearly_similarity_df.head())"
      ],
      "metadata": {
        "id": "YW2d_UOtJNFY",
        "collapsed": true
      },
      "execution_count": null,
      "outputs": []
    },
    {
      "cell_type": "code",
      "source": [
        "yearly_similarity_df.to_csv(\"ähnlichkeit_parteien_relevant.csv\", index=True, sep=';')"
      ],
      "metadata": {
        "id": "dLZsimqw3yM9"
      },
      "execution_count": null,
      "outputs": []
    },
    {
      "cell_type": "code",
      "source": [
        "# Partei mit der höchsten Ähnlichkeit pro Jahr\n",
        "yearly_results = yearly_similarity_df.idxmax(axis=1)\n",
        "yearly_similarity_with_scores = pd.DataFrame({\n",
        "    'Jahr': yearly_similarity_df.index,\n",
        "    'ähnlichste_partei': yearly_results,\n",
        "    'höchste_ähnlichkeit': yearly_similarity_df.max(axis=1)\n",
        "})\n",
        "\n",
        "# Ergebnisse anzeigen\n",
        "print(yearly_similarity_with_scores)"
      ],
      "metadata": {
        "id": "uRyeTm22L3gi"
      },
      "execution_count": null,
      "outputs": []
    },
    {
      "cell_type": "markdown",
      "source": [
        "### Graphische Darstellung"
      ],
      "metadata": {
        "id": "n8bc98Vs0OjM"
      }
    },
    {
      "cell_type": "code",
      "source": [
        "# Sicherstellen, dass der Index ein Datum ist\n",
        "yearly_similarity_df.index = pd.to_datetime(yearly_similarity_df.index, format='%Y')\n",
        "\n",
        "# Daten bis zum 01.10.2021 filtern\n",
        "filtered_df = yearly_similarity_df[yearly_similarity_df.index <= '2021-10-01']\n",
        "\n",
        "# Parteien Farben zuordnen\n",
        "farben = {\n",
        "    'CDU/CSU': 'black',\n",
        "    'SPD': 'red',\n",
        "    'FDP': 'gold',\n",
        "    'LINKE': 'deeppink',\n",
        "    'GRÜNE': 'limegreen',\n",
        "    'AfD': 'dodgerblue',\n",
        "    'Cabinet': 'midnightblue',\n",
        "    'fraktionslos': 'gray'\n",
        "}\n",
        "\n",
        "# Plot erstellen mit individuellen Farben\n",
        "ax = filtered_df.plot(kind='line', figsize=(10, 6), title='Ähnlichkeit der Artikel mit Parteien', color=[farben[col] for col in filtered_df.columns])\n",
        "\n",
        "# Achsenbeschriftung\n",
        "plt.ylabel('Kosinus-Ähnlichkeit')\n",
        "\n",
        "# Einfügen der Legende\n",
        "plt.legend(loc='upper center', bbox_to_anchor=(0.5, -0.15), ncol=4, frameon=False)\n",
        "\n",
        "# Speichern der Grafik\n",
        "plt.savefig('ähnlichkeit_parteien_artikel.png', format='png', dpi=600)\n",
        "\n",
        "# Plot anzeigen\n",
        "plt.show()"
      ],
      "metadata": {
        "id": "ZTtYuFKzMSkc",
        "collapsed": true
      },
      "execution_count": null,
      "outputs": []
    },
    {
      "cell_type": "markdown",
      "source": [
        "## Agreggieren der Reden pro Partei und Jahr"
      ],
      "metadata": {
        "id": "tXlnHMKU2wA7"
      }
    },
    {
      "cell_type": "code",
      "source": [
        "# Daten einlesen\n",
        "reden_df = pd.read_csv(\"reden_relevant.csv\")\n",
        "artikel_df = pd.read_csv(\"artikel_relevant.csv\")\n",
        "print(len(reden_df))\n",
        "print(len(artikel_df))"
      ],
      "metadata": {
        "id": "uPHU-6SH7Rwq",
        "collapsed": true
      },
      "execution_count": null,
      "outputs": []
    },
    {
      "cell_type": "code",
      "source": [
        "# PDS mit Linke ersetzen\n",
        "reden_df['partei'] = reden_df['partei'].replace({'PDS': 'LINKE'})"
      ],
      "metadata": {
        "id": "8hFJ8PHYDOXZ"
      },
      "execution_count": null,
      "outputs": []
    },
    {
      "cell_type": "code",
      "source": [
        "# artikel_tfidf = pd.read_csv(\"artikel_tfidf.csv\")"
      ],
      "metadata": {
        "id": "Lcz_Aq1Z8l4l"
      },
      "execution_count": null,
      "outputs": []
    },
    {
      "cell_type": "code",
      "source": [
        "print(len(artikel_tfidf))"
      ],
      "metadata": {
        "collapsed": true,
        "id": "hoff0VuK-r_p"
      },
      "execution_count": null,
      "outputs": []
    },
    {
      "cell_type": "markdown",
      "source": [
        "### TF-IDF-Werte"
      ],
      "metadata": {
        "id": "tpZ4owR7zdZ8"
      }
    },
    {
      "cell_type": "code",
      "source": [
        "# TF-IDF-Berechnung für Artikel\n",
        "vectorizer_artikel = TfidfVectorizer()\n",
        "artikel_tfidf = vectorizer_artikel.fit_transform(artikel_df['text_preprocessed_specific'])"
      ],
      "metadata": {
        "id": "1cJcIzg3KEBi"
      },
      "execution_count": null,
      "outputs": []
    },
    {
      "cell_type": "code",
      "source": [
        "# TF-IDF-Werte mit den Jahresinformationen verknüpfen (Artikel)\n",
        "artikel_tfidf_df = pd.DataFrame(artikel_tfidf.toarray(), columns=vectorizer_artikel.get_feature_names_out()) # Convert to DataFrame\n",
        "artikel_tfidf_df['Jahr'] = artikel_df['datum_jahr']  # Add the 'Jahr' column\n",
        "\n",
        "# TF-IDF-Werte nach Jahr aggregieren (mittlere Werte) (Artikel)\n",
        "aggregated_artikel_tfidf = artikel_tfidf_df.groupby('Jahr').mean() # groupby using the DataFrame"
      ],
      "metadata": {
        "id": "XA1BDyw2KEmf"
      },
      "execution_count": null,
      "outputs": []
    },
    {
      "cell_type": "code",
      "source": [
        "aggregated_tfidf_artikel.head()"
      ],
      "metadata": {
        "collapsed": true,
        "id": "i2DkU-SqSqL8"
      },
      "execution_count": null,
      "outputs": []
    },
    {
      "cell_type": "code",
      "source": [
        "# Gruppieren der Reden nach Partei und Jahr (Reden)\n",
        "reden_df['datum_jahr'] = reden_df['datum_jahr'].astype(str)  # Sicherstellen, dass datum_jahr als String vorliegt\n",
        "gruppen = reden_df.groupby(['datum_jahr', 'partei'])['text_preprocessed_specific'].apply(lambda x: ' '.join(x))\n",
        "\n",
        "# TF-IDF-Vektorisierung\n",
        "vectorizer = TfidfVectorizer()\n",
        "tfidf_matrix = vectorizer.fit_transform(gruppen)\n",
        "\n",
        "# DataFrame für TF-IDF-Werte erstellen\n",
        "tfidf_reden_df = pd.DataFrame(tfidf_matrix.toarray(), columns=vectorizer.get_feature_names_out(), index=gruppen.index)\n",
        "\n",
        "# Index aufspalten in datum_jahr und Partei\n",
        "tfidf_reden_df.index = pd.MultiIndex.from_tuples(tfidf_reden_df.index, names=['datum_jahr', 'Partei'])\n",
        "\n",
        "# Ergebnis anzeigen\n",
        "# print(tfidf_reden_df.head())"
      ],
      "metadata": {
        "id": "wsbYRdZj6eOq"
      },
      "execution_count": null,
      "outputs": []
    },
    {
      "cell_type": "code",
      "source": [
        "# Schnittmenge der Vokabulare finden\n",
        "gemeinsame_woerter = list(set(tfidf_reden_df.columns).intersection(aggregated_tfidf_artikel.columns))\n",
        "\n",
        "# Matritzen auf gemeinsame Wörter reduzieren\n",
        "partei_tfidf_reduced = tfidf_reden_df[gemeinsame_woerter]\n",
        "artikel_tfidf_reduced = aggregated_tfidf_artikel[gemeinsame_woerter]\n",
        "\n",
        "# Reset the index of partei_tfidf_reduced to access 'datum_jahr' and 'Partei' as columns\n",
        "partei_tfidf_reduced = partei_tfidf_reduced.reset_index()\n",
        "\n",
        "# Die Spalte 'datum_jahr' auffüllen (jedes Jahr auf nachfolgende Zeilen übertragen)\n",
        "partei_tfidf_reduced['datum_jahr'] = partei_tfidf_reduced['datum_jahr'].fillna(method='ffill')\n",
        "\n",
        "# Optional: Umbenennen der Spalte 'datum_jahr' für Klarheit\n",
        "partei_tfidf_reduced.rename(columns={'datum_jahr': 'Jahr'}, inplace=True)"
      ],
      "metadata": {
        "id": "wooVM5F_881T",
        "collapsed": true
      },
      "execution_count": null,
      "outputs": []
    },
    {
      "cell_type": "code",
      "source": [
        "# Konvertiere den Index von artikel_tfidf_reduced in eine Spalte\n",
        "artikel_tfidf_reduced.reset_index(inplace=True)"
      ],
      "metadata": {
        "id": "XIolTAMkXIAG"
      },
      "execution_count": null,
      "outputs": []
    },
    {
      "cell_type": "code",
      "source": [
        "# Beispielhafte Ausgabe an Wörtern und ihren TF-IDF-Werten (Artikel)\n",
        "artikel_tfidf_reduced.head()"
      ],
      "metadata": {
        "id": "M8iBCf3MFPtT",
        "collapsed": true
      },
      "execution_count": null,
      "outputs": []
    },
    {
      "cell_type": "code",
      "source": [
        "# Optional: Speichern der Wörter\n",
        "artikel_tfidf_reduced.to_csv(\"artikel_tfidf.csv\", index=False)"
      ],
      "metadata": {
        "id": "42aArg51aiys"
      },
      "execution_count": null,
      "outputs": []
    },
    {
      "cell_type": "code",
      "source": [
        "# Beispielhafte Ausgabe an Wörtern und ihren TF-IDF-Werten (Reden)\n",
        "partei_tfidf_reduced.head()"
      ],
      "metadata": {
        "id": "MHo-paKPFdZR",
        "collapsed": true
      },
      "execution_count": null,
      "outputs": []
    },
    {
      "cell_type": "code",
      "source": [
        "# Optional: Speichern der Wörter\n",
        "partei_tfidf_reduced.to_csv(\"partei_tfidf.csv\", index=False)"
      ],
      "metadata": {
        "id": "TLbidViwfxoC"
      },
      "execution_count": null,
      "outputs": []
    },
    {
      "cell_type": "markdown",
      "source": [
        "### Kosinus-Ähnlichkeit"
      ],
      "metadata": {
        "id": "a67t5hchzWfx"
      }
    },
    {
      "cell_type": "code",
      "source": [
        "# Sicherstellen, dass 'Jahr' als Integer vorliegt\n",
        "partei_tfidf_reduced['Jahr'] = partei_tfidf_reduced['Jahr'].astype(int)\n",
        "artikel_tfidf_reduced['Jahr'] = artikel_tfidf_reduced['Jahr'].astype(int)\n",
        "\n",
        "# Ergebnisse speichern\n",
        "similarities = []\n",
        "\n",
        "# Gemeinsame Jahre ermitteln\n",
        "gemeinsame_jahre = set(artikel_tfidf_reduced['Jahr']).intersection(set(partei_tfidf_reduced['Jahr']))\n",
        "print(\"Gemeinsame Jahre:\", gemeinsame_jahre)\n",
        "\n",
        "# Nur über gemeinsame Jahre iterieren\n",
        "for jahr in gemeinsame_jahre:\n",
        "    # Artikel-TF-IDF-Vektor für das aktuelle Jahr\n",
        "    artikel_vec = artikel_tfidf_reduced[artikel_tfidf_reduced['Jahr'] == jahr].iloc[:, 1:].values  # Ohne Jahr-Spalte\n",
        "\n",
        "    # Partei-TF-IDF-Vektoren und Labels für das aktuelle Jahr\n",
        "    partei_data = partei_tfidf_reduced[partei_tfidf_reduced['Jahr'] == jahr]\n",
        "    print(f\"Jahr {jahr}: Partei-Daten gefunden:\", len(partei_data))  # Debug-Ausgabe\n",
        "    partei_vecs = partei_data.iloc[:, 2:].values  # Ohne Jahr und Partei\n",
        "    partei_labels = partei_data['Partei'].values\n",
        "\n",
        "    # Check if either partei_vecs or artikel_vec are empty and if so, skip to next year\n",
        "    if len(partei_vecs) == 0 or len(artikel_vec) == 0:\n",
        "        print(f\"Skipping year {jahr} due to missing data (partei_vecs: {len(partei_vecs)}, artikel_vec: {len(artikel_vec)})\")\n",
        "        continue\n",
        "\n",
        "    # Berechnung der Kosinus-Ähnlichkeiten (nur wenn Daten vorhanden sind)\n",
        "    jahr_similarities = cosine_similarity(artikel_vec, partei_vecs).flatten()\n",
        "\n",
        "    # Partei mit der höchsten Ähnlichkeit finden\n",
        "    most_similar_idx = jahr_similarities.argmax()\n",
        "    most_similar_party = partei_labels[most_similar_idx]\n",
        "    highest_similarity = jahr_similarities[most_similar_idx]\n",
        "\n",
        "    # Ergebnis speichern\n",
        "    similarities.append({\n",
        "        'Jahr': jahr,\n",
        "        'Partei': most_similar_party,\n",
        "        'Ähnlichkeit': highest_similarity\n",
        "    })\n",
        "\n",
        "# Ergebnisse in DataFrame umwandeln\n",
        "similarity_df = pd.DataFrame(similarities)\n",
        "\n",
        "# Überprüfen, on similarity_df leer ist\n",
        "if similarity_df.empty:\n",
        "    print(\"No similarities were calculated. Please check your data for overlapping years and parties.\")\n",
        "else:\n",
        "    # Ergebnisse sortieren und anzeigen\n",
        "    similarity_df_sorted = similarity_df.sort_values(by='Jahr')\n",
        "    print(similarity_df_sorted)\n"
      ],
      "metadata": {
        "collapsed": true,
        "id": "NkC4distaeFL"
      },
      "execution_count": null,
      "outputs": []
    },
    {
      "cell_type": "markdown",
      "source": [
        "Kosinus-Ähnlichkeit für jedes Jahr und jede Partei bestimmen und speichern."
      ],
      "metadata": {
        "id": "jelwxkGXz8Z3"
      }
    },
    {
      "cell_type": "code",
      "source": [
        "# Sicherstellen, dass 'Jahr' als Integer vorliegt\n",
        "partei_tfidf_reduced['Jahr'] = partei_tfidf_reduced['Jahr'].astype(int)\n",
        "artikel_tfidf_reduced['Jahr'] = artikel_tfidf_reduced['Jahr'].astype(int)\n",
        "\n",
        "# Ergebnisse speichern\n",
        "similarities = []\n",
        "\n",
        "# Gemeinsame Jahre ermitteln\n",
        "gemeinsame_jahre = set(artikel_tfidf_reduced['Jahr']).intersection(set(partei_tfidf_reduced['Jahr']))\n",
        "\n",
        "# Nur über gemeinsame Jahre iterieren\n",
        "for jahr in gemeinsame_jahre:\n",
        "    # Artikel-TF-IDF-Vektor für das aktuelle Jahr\n",
        "    artikel_vec = artikel_tfidf_reduced[artikel_tfidf_reduced['Jahr'] == jahr].iloc[:, 1:].values  # Ohne Jahr-Spalte\n",
        "\n",
        "    # Partei-TF-IDF-Vektoren und Labels für das aktuelle Jahr\n",
        "    partei_data = partei_tfidf_reduced[partei_tfidf_reduced['Jahr'] == jahr]\n",
        "    partei_vecs = partei_data.iloc[:, 2:].values  # Ohne Jahr und Partei\n",
        "    partei_labels = partei_data['Partei'].values\n",
        "\n",
        "    # Überprüfen, ob Jahr leer ist und überspringen\n",
        "    if len(partei_vecs) == 0 or len(artikel_vec) == 0:\n",
        "        print(f\"Überspringe {jahr} aufgrund fehlender Daten (partei_vecs: {len(partei_vecs)}, artikel_vec: {len(artikel_vec)})\")\n",
        "        continue\n",
        "\n",
        "    # Berechnung der Kosinus-Ähnlichkeiten\n",
        "    jahr_similarities = cosine_similarity(artikel_vec, partei_vecs).flatten()\n",
        "\n",
        "    # Speichere die Ähnlichkeit für jede Partei\n",
        "    for partei_idx, partei in enumerate(partei_labels):\n",
        "        similarities.append({\n",
        "            'Jahr': jahr,\n",
        "            'Partei': partei,\n",
        "            'Ähnlichkeit': jahr_similarities[partei_idx]\n",
        "        })\n",
        "\n",
        "# Ergebnisse in DataFrame umwandeln\n",
        "similarity_df = pd.DataFrame(similarities)"
      ],
      "metadata": {
        "id": "7Gx6jTQ2krCE",
        "collapsed": true
      },
      "execution_count": null,
      "outputs": []
    },
    {
      "cell_type": "code",
      "source": [
        "# DataFrame vorbereiten\n",
        "similarity_pivot = similarity_df.pivot(index='Jahr', columns='Partei', values='Ähnlichkeit')"
      ],
      "metadata": {
        "id": "7V2U7Lmjj_uj"
      },
      "execution_count": null,
      "outputs": []
    },
    {
      "cell_type": "code",
      "source": [
        "print(similarity_pivot)"
      ],
      "metadata": {
        "collapsed": true,
        "id": "s32Y5p8YkAWh"
      },
      "execution_count": null,
      "outputs": []
    },
    {
      "cell_type": "markdown",
      "source": [
        "### Grpahische Darstellung"
      ],
      "metadata": {
        "id": "Ow372dPP0KLl"
      }
    },
    {
      "cell_type": "code",
      "source": [
        "# Farben für jede Partei festlegen\n",
        "farben = {\n",
        "    'CDU/CSU': 'black',\n",
        "    'SPD': 'red',\n",
        "    'FDP': 'gold',\n",
        "    'LINKE': 'deeppink',\n",
        "    'GRÜNE': 'limegreen',\n",
        "    'AfD': 'dodgerblue',\n",
        "    'Cabinet': 'midnightblue',\n",
        "    'fraktionslos': 'gray'\n",
        "}\n",
        "\n",
        "# Plot mit individuellen Farben erstellen\n",
        "plt.figure(figsize=(12, 6))\n",
        "for party in similarity_pivot.columns:\n",
        "    plt.plot(similarity_pivot.index, similarity_pivot[party], label=party, color=farben.get(party, 'black'))\n",
        "\n",
        "# Achsenbeschriftung\n",
        "plt.ylabel('Kosinus-Ähnlichkeit')\n",
        "plt.xlabel('Jahr')\n",
        "\n",
        "# Einfügen der Legende\n",
        "plt.legend(loc='upper center', bbox_to_anchor=(0.5, -0.15), ncol=4, frameon=False)\n",
        "\n",
        "plt.savefig('ähnlichkeit_parteien_artikel_relevant.png', format='png', dpi=600)\n",
        "\n",
        "plt.show()"
      ],
      "metadata": {
        "collapsed": true,
        "id": "PdWmlbqfk_aX"
      },
      "execution_count": null,
      "outputs": []
    },
    {
      "cell_type": "markdown",
      "source": [
        "## Aussagekräftigste Wörter pro Jahr"
      ],
      "metadata": {
        "id": "ggdA3_sTmY8N"
      }
    },
    {
      "cell_type": "markdown",
      "source": [
        "### In den Artikeln"
      ],
      "metadata": {
        "id": "zdx5exGzoWOa"
      }
    },
    {
      "cell_type": "code",
      "source": [
        "# DataFrame zur Speicherung der Top-Wörter vorbereiten\n",
        "top_words_articles = {}\n",
        "\n",
        "# Iterieren über die Jahre in artikel_tfidf_reduced\n",
        "for jahr in artikel_tfidf_reduced['Jahr'].unique():\n",
        "    # Filtern der TF-IDF-Werte für das aktuelle Jahr\n",
        "    jahr_data = artikel_tfidf_reduced[artikel_tfidf_reduced['Jahr'] == jahr].iloc[:, 1:]  # Ohne Jahr-Spalte\n",
        "\n",
        "    # Umwandlen der TF-IDF-Werte und Wörter in eine sortierbare Struktur\n",
        "    tfidf_values = jahr_data.values.flatten()\n",
        "    words = jahr_data.columns\n",
        "    top_indices = tfidf_values.argsort()[::-1][:10]  # Indizes der Top 10 höchsten Werte\n",
        "\n",
        "    # Speichern der Wörter für das aktuelle Jahr\n",
        "    top_words = [words[idx] for idx in top_indices]\n",
        "    top_words_articles[jahr] = top_words\n",
        "\n",
        "# DataFrame aus der Top-Wörter-Tabelle erstellen\n",
        "top_words_df = pd.DataFrame(top_words_articles)\n",
        "\n",
        "# Ergebnisse anzeigen\n",
        "print(top_words_df)"
      ],
      "metadata": {
        "collapsed": true,
        "id": "7xKwY3IqoEjQ"
      },
      "execution_count": null,
      "outputs": []
    },
    {
      "cell_type": "code",
      "source": [
        "# Optional: Tabelle speichern\n",
        "top_words_df.to_csv('wichtige_wörter_artikel_jahr.csv', index=False, sep=';')"
      ],
      "metadata": {
        "id": "7gKjxmqpoIep"
      },
      "execution_count": null,
      "outputs": []
    },
    {
      "cell_type": "markdown",
      "source": [
        "### In den Reden"
      ],
      "metadata": {
        "id": "XIgGK1W5oaxB"
      }
    },
    {
      "cell_type": "code",
      "source": [
        "partei_tfidf_reduced = pd.read_csv(\"partei_tfidf.csv\")"
      ],
      "metadata": {
        "id": "Hto1VfzAoc8X"
      },
      "execution_count": null,
      "outputs": []
    },
    {
      "cell_type": "code",
      "source": [
        "# Dictionary zur Speicherung der Top-Wörter jeder Partei\n",
        "top_words_party = {}\n",
        "\n",
        "# Iteriere über die Parteien\n",
        "for party in partei_tfidf_reduced['partei'].unique():\n",
        "    # Filtern der TF-IDF-Werte für die aktuelle Partei\n",
        "    party_data = partei_tfidf_reduced[partei_tfidf_reduced['partei'] == party].iloc[:, 1:]  # Ohne Partei-Spalte\n",
        "\n",
        "    # Umwandeln der TF-IDF-Werte und Wörter in eine sortierbare Struktur\n",
        "    tfidf_values = party_data.values.flatten()\n",
        "    words = party_data.columns\n",
        "    top_indices = tfidf_values.argsort()[::-1][:20]  # Indizes der Top 20 höchsten Werte\n",
        "\n",
        "    # Speichern der Wörter für die Tabelle\n",
        "    top_words = [words[idx] for idx in top_indices]\n",
        "    top_words_party[party] = top_words\n",
        "\n",
        "# DataFrame aus der Top-Wörter-Tabelle erstellen\n",
        "top_words_party_df = pd.DataFrame(top_words_party)\n",
        "\n",
        "# Ergebnisse anzeigen\n",
        "print(top_words_party_df)"
      ],
      "metadata": {
        "id": "h8NT6-vxHAIS",
        "collapsed": true
      },
      "execution_count": null,
      "outputs": []
    },
    {
      "cell_type": "code",
      "source": [
        "# Exportieren der Tabelle mit Semikolon als Delimiter (für übersichtlicheres Layout)\n",
        "top_words_party_df.to_csv('wichtige_wörter_reden_partei.csv', index=False, sep=';')"
      ],
      "metadata": {
        "id": "LGbzS0vHHbsL"
      },
      "execution_count": null,
      "outputs": []
    }
  ]
}