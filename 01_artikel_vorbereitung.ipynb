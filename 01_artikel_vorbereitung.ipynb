{
  "cells": [
    {
      "cell_type": "code",
      "source": [
        "!pip install PyPDF2\n",
        "!pip install spacy\n",
        "!python -m spacy download de_core_news_lg"
      ],
      "metadata": {
        "colab": {
          "base_uri": "https://localhost:8080/"
        },
        "collapsed": true,
        "id": "GcwHIHneVfvU",
        "outputId": "b70430f3-81dc-4b29-8688-c091e957fb46"
      },
      "id": "GcwHIHneVfvU",
      "execution_count": null,
      "outputs": [
        {
          "output_type": "stream",
          "name": "stdout",
          "text": [
            "Requirement already satisfied: spacy in /usr/local/lib/python3.10/dist-packages (3.7.5)\n",
            "Requirement already satisfied: spacy-legacy<3.1.0,>=3.0.11 in /usr/local/lib/python3.10/dist-packages (from spacy) (3.0.12)\n",
            "Requirement already satisfied: spacy-loggers<2.0.0,>=1.0.0 in /usr/local/lib/python3.10/dist-packages (from spacy) (1.0.5)\n",
            "Requirement already satisfied: murmurhash<1.1.0,>=0.28.0 in /usr/local/lib/python3.10/dist-packages (from spacy) (1.0.11)\n",
            "Requirement already satisfied: cymem<2.1.0,>=2.0.2 in /usr/local/lib/python3.10/dist-packages (from spacy) (2.0.10)\n",
            "Requirement already satisfied: preshed<3.1.0,>=3.0.2 in /usr/local/lib/python3.10/dist-packages (from spacy) (3.0.9)\n",
            "Requirement already satisfied: thinc<8.3.0,>=8.2.2 in /usr/local/lib/python3.10/dist-packages (from spacy) (8.2.5)\n",
            "Requirement already satisfied: wasabi<1.2.0,>=0.9.1 in /usr/local/lib/python3.10/dist-packages (from spacy) (1.1.3)\n",
            "Requirement already satisfied: srsly<3.0.0,>=2.4.3 in /usr/local/lib/python3.10/dist-packages (from spacy) (2.4.8)\n",
            "Requirement already satisfied: catalogue<2.1.0,>=2.0.6 in /usr/local/lib/python3.10/dist-packages (from spacy) (2.0.10)\n",
            "Requirement already satisfied: weasel<0.5.0,>=0.1.0 in /usr/local/lib/python3.10/dist-packages (from spacy) (0.4.1)\n",
            "Requirement already satisfied: typer<1.0.0,>=0.3.0 in /usr/local/lib/python3.10/dist-packages (from spacy) (0.15.0)\n",
            "Requirement already satisfied: tqdm<5.0.0,>=4.38.0 in /usr/local/lib/python3.10/dist-packages (from spacy) (4.66.6)\n",
            "Requirement already satisfied: requests<3.0.0,>=2.13.0 in /usr/local/lib/python3.10/dist-packages (from spacy) (2.32.3)\n",
            "Requirement already satisfied: pydantic!=1.8,!=1.8.1,<3.0.0,>=1.7.4 in /usr/local/lib/python3.10/dist-packages (from spacy) (2.10.3)\n",
            "Requirement already satisfied: jinja2 in /usr/local/lib/python3.10/dist-packages (from spacy) (3.1.4)\n",
            "Requirement already satisfied: setuptools in /usr/local/lib/python3.10/dist-packages (from spacy) (75.1.0)\n",
            "Requirement already satisfied: packaging>=20.0 in /usr/local/lib/python3.10/dist-packages (from spacy) (24.2)\n",
            "Requirement already satisfied: langcodes<4.0.0,>=3.2.0 in /usr/local/lib/python3.10/dist-packages (from spacy) (3.5.0)\n",
            "Requirement already satisfied: numpy>=1.19.0 in /usr/local/lib/python3.10/dist-packages (from spacy) (1.26.4)\n",
            "Requirement already satisfied: language-data>=1.2 in /usr/local/lib/python3.10/dist-packages (from langcodes<4.0.0,>=3.2.0->spacy) (1.3.0)\n",
            "Requirement already satisfied: annotated-types>=0.6.0 in /usr/local/lib/python3.10/dist-packages (from pydantic!=1.8,!=1.8.1,<3.0.0,>=1.7.4->spacy) (0.7.0)\n",
            "Requirement already satisfied: pydantic-core==2.27.1 in /usr/local/lib/python3.10/dist-packages (from pydantic!=1.8,!=1.8.1,<3.0.0,>=1.7.4->spacy) (2.27.1)\n",
            "Requirement already satisfied: typing-extensions>=4.12.2 in /usr/local/lib/python3.10/dist-packages (from pydantic!=1.8,!=1.8.1,<3.0.0,>=1.7.4->spacy) (4.12.2)\n",
            "Requirement already satisfied: charset-normalizer<4,>=2 in /usr/local/lib/python3.10/dist-packages (from requests<3.0.0,>=2.13.0->spacy) (3.4.0)\n",
            "Requirement already satisfied: idna<4,>=2.5 in /usr/local/lib/python3.10/dist-packages (from requests<3.0.0,>=2.13.0->spacy) (3.10)\n",
            "Requirement already satisfied: urllib3<3,>=1.21.1 in /usr/local/lib/python3.10/dist-packages (from requests<3.0.0,>=2.13.0->spacy) (2.2.3)\n",
            "Requirement already satisfied: certifi>=2017.4.17 in /usr/local/lib/python3.10/dist-packages (from requests<3.0.0,>=2.13.0->spacy) (2024.8.30)\n",
            "Requirement already satisfied: blis<0.8.0,>=0.7.8 in /usr/local/lib/python3.10/dist-packages (from thinc<8.3.0,>=8.2.2->spacy) (0.7.11)\n",
            "Requirement already satisfied: confection<1.0.0,>=0.0.1 in /usr/local/lib/python3.10/dist-packages (from thinc<8.3.0,>=8.2.2->spacy) (0.1.5)\n",
            "Requirement already satisfied: click>=8.0.0 in /usr/local/lib/python3.10/dist-packages (from typer<1.0.0,>=0.3.0->spacy) (8.1.7)\n",
            "Requirement already satisfied: shellingham>=1.3.0 in /usr/local/lib/python3.10/dist-packages (from typer<1.0.0,>=0.3.0->spacy) (1.5.4)\n",
            "Requirement already satisfied: rich>=10.11.0 in /usr/local/lib/python3.10/dist-packages (from typer<1.0.0,>=0.3.0->spacy) (13.9.4)\n",
            "Requirement already satisfied: cloudpathlib<1.0.0,>=0.7.0 in /usr/local/lib/python3.10/dist-packages (from weasel<0.5.0,>=0.1.0->spacy) (0.20.0)\n",
            "Requirement already satisfied: smart-open<8.0.0,>=5.2.1 in /usr/local/lib/python3.10/dist-packages (from weasel<0.5.0,>=0.1.0->spacy) (7.0.5)\n",
            "Requirement already satisfied: MarkupSafe>=2.0 in /usr/local/lib/python3.10/dist-packages (from jinja2->spacy) (3.0.2)\n",
            "Requirement already satisfied: marisa-trie>=1.1.0 in /usr/local/lib/python3.10/dist-packages (from language-data>=1.2->langcodes<4.0.0,>=3.2.0->spacy) (1.2.1)\n",
            "Requirement already satisfied: markdown-it-py>=2.2.0 in /usr/local/lib/python3.10/dist-packages (from rich>=10.11.0->typer<1.0.0,>=0.3.0->spacy) (3.0.0)\n",
            "Requirement already satisfied: pygments<3.0.0,>=2.13.0 in /usr/local/lib/python3.10/dist-packages (from rich>=10.11.0->typer<1.0.0,>=0.3.0->spacy) (2.18.0)\n",
            "Requirement already satisfied: wrapt in /usr/local/lib/python3.10/dist-packages (from smart-open<8.0.0,>=5.2.1->weasel<0.5.0,>=0.1.0->spacy) (1.17.0)\n",
            "Requirement already satisfied: mdurl~=0.1 in /usr/local/lib/python3.10/dist-packages (from markdown-it-py>=2.2.0->rich>=10.11.0->typer<1.0.0,>=0.3.0->spacy) (0.1.2)\n",
            "Collecting de-core-news-lg==3.7.0\n",
            "  Downloading https://github.com/explosion/spacy-models/releases/download/de_core_news_lg-3.7.0/de_core_news_lg-3.7.0-py3-none-any.whl (567.8 MB)\n",
            "\u001b[2K     \u001b[90m━━━━━━━━━━━━━━━━━━━━━━━━━━━━━━━━━━━━━━━━\u001b[0m \u001b[32m567.8/567.8 MB\u001b[0m \u001b[31m1.3 MB/s\u001b[0m eta \u001b[36m0:00:00\u001b[0m\n",
            "\u001b[?25hRequirement already satisfied: spacy<3.8.0,>=3.7.0 in /usr/local/lib/python3.10/dist-packages (from de-core-news-lg==3.7.0) (3.7.5)\n",
            "Requirement already satisfied: spacy-legacy<3.1.0,>=3.0.11 in /usr/local/lib/python3.10/dist-packages (from spacy<3.8.0,>=3.7.0->de-core-news-lg==3.7.0) (3.0.12)\n",
            "Requirement already satisfied: spacy-loggers<2.0.0,>=1.0.0 in /usr/local/lib/python3.10/dist-packages (from spacy<3.8.0,>=3.7.0->de-core-news-lg==3.7.0) (1.0.5)\n",
            "Requirement already satisfied: murmurhash<1.1.0,>=0.28.0 in /usr/local/lib/python3.10/dist-packages (from spacy<3.8.0,>=3.7.0->de-core-news-lg==3.7.0) (1.0.11)\n",
            "Requirement already satisfied: cymem<2.1.0,>=2.0.2 in /usr/local/lib/python3.10/dist-packages (from spacy<3.8.0,>=3.7.0->de-core-news-lg==3.7.0) (2.0.10)\n",
            "Requirement already satisfied: preshed<3.1.0,>=3.0.2 in /usr/local/lib/python3.10/dist-packages (from spacy<3.8.0,>=3.7.0->de-core-news-lg==3.7.0) (3.0.9)\n",
            "Requirement already satisfied: thinc<8.3.0,>=8.2.2 in /usr/local/lib/python3.10/dist-packages (from spacy<3.8.0,>=3.7.0->de-core-news-lg==3.7.0) (8.2.5)\n",
            "Requirement already satisfied: wasabi<1.2.0,>=0.9.1 in /usr/local/lib/python3.10/dist-packages (from spacy<3.8.0,>=3.7.0->de-core-news-lg==3.7.0) (1.1.3)\n",
            "Requirement already satisfied: srsly<3.0.0,>=2.4.3 in /usr/local/lib/python3.10/dist-packages (from spacy<3.8.0,>=3.7.0->de-core-news-lg==3.7.0) (2.4.8)\n",
            "Requirement already satisfied: catalogue<2.1.0,>=2.0.6 in /usr/local/lib/python3.10/dist-packages (from spacy<3.8.0,>=3.7.0->de-core-news-lg==3.7.0) (2.0.10)\n",
            "Requirement already satisfied: weasel<0.5.0,>=0.1.0 in /usr/local/lib/python3.10/dist-packages (from spacy<3.8.0,>=3.7.0->de-core-news-lg==3.7.0) (0.4.1)\n",
            "Requirement already satisfied: typer<1.0.0,>=0.3.0 in /usr/local/lib/python3.10/dist-packages (from spacy<3.8.0,>=3.7.0->de-core-news-lg==3.7.0) (0.15.0)\n",
            "Requirement already satisfied: tqdm<5.0.0,>=4.38.0 in /usr/local/lib/python3.10/dist-packages (from spacy<3.8.0,>=3.7.0->de-core-news-lg==3.7.0) (4.66.6)\n",
            "Requirement already satisfied: requests<3.0.0,>=2.13.0 in /usr/local/lib/python3.10/dist-packages (from spacy<3.8.0,>=3.7.0->de-core-news-lg==3.7.0) (2.32.3)\n",
            "Requirement already satisfied: pydantic!=1.8,!=1.8.1,<3.0.0,>=1.7.4 in /usr/local/lib/python3.10/dist-packages (from spacy<3.8.0,>=3.7.0->de-core-news-lg==3.7.0) (2.10.3)\n",
            "Requirement already satisfied: jinja2 in /usr/local/lib/python3.10/dist-packages (from spacy<3.8.0,>=3.7.0->de-core-news-lg==3.7.0) (3.1.4)\n",
            "Requirement already satisfied: setuptools in /usr/local/lib/python3.10/dist-packages (from spacy<3.8.0,>=3.7.0->de-core-news-lg==3.7.0) (75.1.0)\n",
            "Requirement already satisfied: packaging>=20.0 in /usr/local/lib/python3.10/dist-packages (from spacy<3.8.0,>=3.7.0->de-core-news-lg==3.7.0) (24.2)\n",
            "Requirement already satisfied: langcodes<4.0.0,>=3.2.0 in /usr/local/lib/python3.10/dist-packages (from spacy<3.8.0,>=3.7.0->de-core-news-lg==3.7.0) (3.5.0)\n",
            "Requirement already satisfied: numpy>=1.19.0 in /usr/local/lib/python3.10/dist-packages (from spacy<3.8.0,>=3.7.0->de-core-news-lg==3.7.0) (1.26.4)\n",
            "Requirement already satisfied: language-data>=1.2 in /usr/local/lib/python3.10/dist-packages (from langcodes<4.0.0,>=3.2.0->spacy<3.8.0,>=3.7.0->de-core-news-lg==3.7.0) (1.3.0)\n",
            "Requirement already satisfied: annotated-types>=0.6.0 in /usr/local/lib/python3.10/dist-packages (from pydantic!=1.8,!=1.8.1,<3.0.0,>=1.7.4->spacy<3.8.0,>=3.7.0->de-core-news-lg==3.7.0) (0.7.0)\n",
            "Requirement already satisfied: pydantic-core==2.27.1 in /usr/local/lib/python3.10/dist-packages (from pydantic!=1.8,!=1.8.1,<3.0.0,>=1.7.4->spacy<3.8.0,>=3.7.0->de-core-news-lg==3.7.0) (2.27.1)\n",
            "Requirement already satisfied: typing-extensions>=4.12.2 in /usr/local/lib/python3.10/dist-packages (from pydantic!=1.8,!=1.8.1,<3.0.0,>=1.7.4->spacy<3.8.0,>=3.7.0->de-core-news-lg==3.7.0) (4.12.2)\n",
            "Requirement already satisfied: charset-normalizer<4,>=2 in /usr/local/lib/python3.10/dist-packages (from requests<3.0.0,>=2.13.0->spacy<3.8.0,>=3.7.0->de-core-news-lg==3.7.0) (3.4.0)\n",
            "Requirement already satisfied: idna<4,>=2.5 in /usr/local/lib/python3.10/dist-packages (from requests<3.0.0,>=2.13.0->spacy<3.8.0,>=3.7.0->de-core-news-lg==3.7.0) (3.10)\n",
            "Requirement already satisfied: urllib3<3,>=1.21.1 in /usr/local/lib/python3.10/dist-packages (from requests<3.0.0,>=2.13.0->spacy<3.8.0,>=3.7.0->de-core-news-lg==3.7.0) (2.2.3)\n",
            "Requirement already satisfied: certifi>=2017.4.17 in /usr/local/lib/python3.10/dist-packages (from requests<3.0.0,>=2.13.0->spacy<3.8.0,>=3.7.0->de-core-news-lg==3.7.0) (2024.8.30)\n",
            "Requirement already satisfied: blis<0.8.0,>=0.7.8 in /usr/local/lib/python3.10/dist-packages (from thinc<8.3.0,>=8.2.2->spacy<3.8.0,>=3.7.0->de-core-news-lg==3.7.0) (0.7.11)\n",
            "Requirement already satisfied: confection<1.0.0,>=0.0.1 in /usr/local/lib/python3.10/dist-packages (from thinc<8.3.0,>=8.2.2->spacy<3.8.0,>=3.7.0->de-core-news-lg==3.7.0) (0.1.5)\n",
            "Requirement already satisfied: click>=8.0.0 in /usr/local/lib/python3.10/dist-packages (from typer<1.0.0,>=0.3.0->spacy<3.8.0,>=3.7.0->de-core-news-lg==3.7.0) (8.1.7)\n",
            "Requirement already satisfied: shellingham>=1.3.0 in /usr/local/lib/python3.10/dist-packages (from typer<1.0.0,>=0.3.0->spacy<3.8.0,>=3.7.0->de-core-news-lg==3.7.0) (1.5.4)\n",
            "Requirement already satisfied: rich>=10.11.0 in /usr/local/lib/python3.10/dist-packages (from typer<1.0.0,>=0.3.0->spacy<3.8.0,>=3.7.0->de-core-news-lg==3.7.0) (13.9.4)\n",
            "Requirement already satisfied: cloudpathlib<1.0.0,>=0.7.0 in /usr/local/lib/python3.10/dist-packages (from weasel<0.5.0,>=0.1.0->spacy<3.8.0,>=3.7.0->de-core-news-lg==3.7.0) (0.20.0)\n",
            "Requirement already satisfied: smart-open<8.0.0,>=5.2.1 in /usr/local/lib/python3.10/dist-packages (from weasel<0.5.0,>=0.1.0->spacy<3.8.0,>=3.7.0->de-core-news-lg==3.7.0) (7.0.5)\n",
            "Requirement already satisfied: MarkupSafe>=2.0 in /usr/local/lib/python3.10/dist-packages (from jinja2->spacy<3.8.0,>=3.7.0->de-core-news-lg==3.7.0) (3.0.2)\n",
            "Requirement already satisfied: marisa-trie>=1.1.0 in /usr/local/lib/python3.10/dist-packages (from language-data>=1.2->langcodes<4.0.0,>=3.2.0->spacy<3.8.0,>=3.7.0->de-core-news-lg==3.7.0) (1.2.1)\n",
            "Requirement already satisfied: markdown-it-py>=2.2.0 in /usr/local/lib/python3.10/dist-packages (from rich>=10.11.0->typer<1.0.0,>=0.3.0->spacy<3.8.0,>=3.7.0->de-core-news-lg==3.7.0) (3.0.0)\n",
            "Requirement already satisfied: pygments<3.0.0,>=2.13.0 in /usr/local/lib/python3.10/dist-packages (from rich>=10.11.0->typer<1.0.0,>=0.3.0->spacy<3.8.0,>=3.7.0->de-core-news-lg==3.7.0) (2.18.0)\n",
            "Requirement already satisfied: wrapt in /usr/local/lib/python3.10/dist-packages (from smart-open<8.0.0,>=5.2.1->weasel<0.5.0,>=0.1.0->spacy<3.8.0,>=3.7.0->de-core-news-lg==3.7.0) (1.17.0)\n",
            "Requirement already satisfied: mdurl~=0.1 in /usr/local/lib/python3.10/dist-packages (from markdown-it-py>=2.2.0->rich>=10.11.0->typer<1.0.0,>=0.3.0->spacy<3.8.0,>=3.7.0->de-core-news-lg==3.7.0) (0.1.2)\n",
            "Installing collected packages: de-core-news-lg\n",
            "Successfully installed de-core-news-lg-3.7.0\n",
            "\u001b[38;5;2m✔ Download and installation successful\u001b[0m\n",
            "You can now load the package via spacy.load('de_core_news_lg')\n",
            "\u001b[38;5;3m⚠ Restart to reload dependencies\u001b[0m\n",
            "If you are in a Jupyter or Colab notebook, you may need to restart Python in\n",
            "order to load all the package's dependencies. You can do this by selecting the\n",
            "'Restart kernel' or 'Restart runtime' option.\n"
          ]
        }
      ]
    },
    {
      "cell_type": "code",
      "execution_count": null,
      "id": "72c4ba0b-6351-42c5-9b81-5f5ec5f20fc3",
      "metadata": {
        "id": "72c4ba0b-6351-42c5-9b81-5f5ec5f20fc3"
      },
      "outputs": [],
      "source": [
        "import os\n",
        "import re\n",
        "import spacy\n",
        "import pandas as pd\n",
        "import numpy as np\n",
        "import nltk\n",
        "import gensim\n",
        "import gensim.corpora as corpora\n",
        "from gensim.utils import simple_preprocess\n",
        "from nltk.corpus import stopwords\n",
        "from tqdm import tqdm\n",
        "from datetime import date\n",
        "import time\n",
        "import itertools\n",
        "import collections\n",
        "from collections import Counter"
      ]
    },
    {
      "cell_type": "code",
      "execution_count": null,
      "id": "98de899e-7872-4bf7-9127-b8ad1757fdb8",
      "metadata": {
        "id": "98de899e-7872-4bf7-9127-b8ad1757fdb8"
      },
      "outputs": [],
      "source": [
        "from PyPDF2 import PdfReader"
      ]
    },
    {
      "cell_type": "markdown",
      "id": "4669a811-5709-456e-84e4-d69bbe6f70ed",
      "metadata": {
        "id": "4669a811-5709-456e-84e4-d69bbe6f70ed"
      },
      "source": [
        "## Artikel in geordnete Form bringen"
      ]
    },
    {
      "cell_type": "markdown",
      "source": [
        "### Text aus PDFs extrahieren"
      ],
      "metadata": {
        "id": "kn6nc5gvitKr"
      },
      "id": "kn6nc5gvitKr"
    },
    {
      "cell_type": "code",
      "execution_count": null,
      "id": "cd80a1ec-ae47-448e-874d-9d03e356d919",
      "metadata": {
        "id": "cd80a1ec-ae47-448e-874d-9d03e356d919"
      },
      "outputs": [],
      "source": [
        "# Funktion zum Lesen von Daten in einer .txt-Datei\n",
        "def load_data(file):\n",
        "    with open(file, \"r\", encoding=\"utf-8\") as f:\n",
        "        text = f.read()\n",
        "    return text\n",
        "\n",
        "# Funktion zum Schreiben von Daten in eine .txt-Datei\n",
        "def write_data(file, text):\n",
        "    with open(file, \"w\", encoding=\"utf-8\") as f:\n",
        "        f.write(text)"
      ]
    },
    {
      "cell_type": "code",
      "execution_count": null,
      "id": "075ca5cb-d1c7-4205-ba8d-ecddce2bc3ac",
      "metadata": {
        "id": "075ca5cb-d1c7-4205-ba8d-ecddce2bc3ac"
      },
      "outputs": [],
      "source": [
        "# Schritt 1: PDF-Dateien öffnen und gesamten Text extrahieren\n",
        "text = \"\"\n",
        "\n",
        "pdf_directory = r\"D:\\Datensatz\\Handelsblatt\"  # Auf Verzeichnis anpassen\n",
        "\n",
        "# Durchlaufen aller PDF-Dateien (durchnummeriert von Dokument1.pdf bis Dokument36.pdf)\n",
        "for i in range(1, 37):\n",
        "    pdf_filename = f\"Dokument{i}.pdf\"\n",
        "    pdf_path = os.path.join(pdf_directory, pdf_filename)\n",
        "\n",
        "    # Prüfe, ob die Datei existiert\n",
        "    if os.path.exists(pdf_path):\n",
        "        print(f\"Verarbeite {pdf_filename}...\")\n",
        "        with open(pdf_path, \"rb\") as pdf_file:\n",
        "            reader = PdfReader(pdf_file)\n",
        "            # Extrahiere Text aus allen Seiten\n",
        "            for page in reader.pages:\n",
        "                text += page.extract_text() + \"\\n\"\n",
        "    else:\n",
        "        print(f\"Warnung: {pdf_filename} wurde nicht gefunden.\")\n",
        "\n",
        "# Speichern des gesamten Texts in einer .txt-Datei\n",
        "output_file = \"extrahierter_text.txt\"\n",
        "write_data(output_file, text)\n",
        "print(f\"Text aus allen PDFs wurde in {output_file} gespeichert.\")"
      ]
    },
    {
      "cell_type": "markdown",
      "source": [
        "### Anpassen der Artikel"
      ],
      "metadata": {
        "id": "tNBMYevGiw28"
      },
      "id": "tNBMYevGiw28"
    },
    {
      "cell_type": "markdown",
      "id": "e0fd85c0-dd9a-4ac0-9e5f-63363f1245c9",
      "metadata": {
        "id": "e0fd85c0-dd9a-4ac0-9e5f-63363f1245c9"
      },
      "source": [
        "Anpassen des Datumsformats, sodass es für alle Artikel identisch ist."
      ]
    },
    {
      "cell_type": "code",
      "execution_count": null,
      "id": "3e7ca5bc-0dc1-499b-b476-bd69eb8d1623",
      "metadata": {
        "id": "3e7ca5bc-0dc1-499b-b476-bd69eb8d1623"
      },
      "outputs": [],
      "source": [
        "text = load_data('extrahierter_text.txt')\n",
        "\n",
        "# Schritt 2: Datumsformat ändern (zweistellige Jahreszahlen in vierstellige umwandeln)\n",
        "def convert_short_year(match):\n",
        "    day, month, year = match.groups()\n",
        "    year = '20' + year if int(year) <= 50 else '19' + year\n",
        "    return f\"{day}.{month}.{year}\"\n",
        "\n",
        "pattern = r\"(\\d{2})\\.(\\d{2})\\.(\\d{2})(?=\\s|[^0-9])\"\n",
        "text = re.sub(pattern, convert_short_year, text)  # `text` wird aktualisiert"
      ]
    },
    {
      "cell_type": "markdown",
      "source": [
        "Unnötige Textteile entfernen."
      ],
      "metadata": {
        "id": "P2YrnDvwi1gm"
      },
      "id": "P2YrnDvwi1gm"
    },
    {
      "cell_type": "code",
      "execution_count": null,
      "id": "7a8addbb-a44b-4703-b92b-5a84b91665fb",
      "metadata": {
        "id": "7a8addbb-a44b-4703-b92b-5a84b91665fb"
      },
      "outputs": [],
      "source": [
        "print(f'Der Term \"Handelsblatt print:\" kommt vor dem Bereinigen {text.count(\"Handelsblatt print:\")} mal vor.')\n",
        "\n",
        "# Schritt 3: Entfernen des Texts zwischen den alternativen Quellenangaben und dem nächsten \"Handelsblatt print:\" oder bis zum Ende des Dokuments\n",
        "pattern = r\"(Quelle Handelsblatt print:|Quelle Verlagsbeilage im Handelsblatt print:).*?(?=Handelsblatt print:|$)\"\n",
        "text = re.sub(pattern, \"\", text, flags=re.DOTALL)\n",
        "\n",
        "# Schritt 4: Entfernen von allem zwischen \"Handelsblatt print:\" und \"vom\", aber behalte \"Handelsblatt print:\" und \"vom\" selbst bei\n",
        "pattern = r\"(Handelsblatt print:).*?vom\"\n",
        "text = re.sub(pattern, r\"\\1 vom\", text, flags=re.DOTALL)\n",
        "\n",
        "# Schritt 5: Entfernen von allem von \"Seite  von\" bis zum nächsten Buchstaben\n",
        "pattern = r\"Seite  von [0-9\\s]+(?=[a-zA-ZäöüÄÖÜß])\"\n",
        "text = re.sub(pattern, \"\", text, flags=re.DOTALL)\n",
        "\n",
        "# Schritt 6: Entfernen von groß geschriebenen Wörtern, die länger als 4 Zeichen sind\n",
        "def remove_uppercase_words(text):\n",
        "    pattern = r'\\b[A-ZÄÖÜ]{5,}\\b'\n",
        "    text = re.sub(pattern, '', text)\n",
        "    return text\n",
        "\n",
        "# Funktion zur Bereinigung des Textes\n",
        "def clean_text_spacing(text):\n",
        "    # Entferne überflüssige Zeilenumbrüche oder doppelte Leerzeichen\n",
        "    text = re.sub(r\"\\s+\", \" \", text).strip()\n",
        "    return text\n",
        "\n",
        "text = remove_uppercase_words(text)\n",
        "text = clean_text_spacing(text)\n",
        "\n",
        "# Zählen des Vorkommen von \"Handelsblatt print:\" nach der Bereinigung (Kontrolle)\n",
        "occurrences = text.count(\"Handelsblatt print:\")\n",
        "print(f'Der Begriff \"Handelsblatt print:\" kommt {occurrences} Mal im bereinigten Text vor.')\n",
        "\n",
        "# Speichern des geänderten Texts wieder in einer .txt Datei\n",
        "write_data('bereinigter_text.txt', text)"
      ]
    },
    {
      "cell_type": "markdown",
      "id": "78047278-731d-4c36-bd19-d40b40752af9",
      "metadata": {
        "id": "78047278-731d-4c36-bd19-d40b40752af9"
      },
      "source": [
        "### Speichern in einer .csv Datei"
      ]
    },
    {
      "cell_type": "code",
      "source": [
        "import csv\n",
        "import string"
      ],
      "metadata": {
        "id": "5-RDCu26ZWSd"
      },
      "id": "5-RDCu26ZWSd",
      "execution_count": null,
      "outputs": []
    },
    {
      "cell_type": "code",
      "execution_count": null,
      "id": "bccbff18-cef6-4a7f-bec8-056698210fa2",
      "metadata": {
        "id": "bccbff18-cef6-4a7f-bec8-056698210fa2"
      },
      "outputs": [],
      "source": [
        "text = load_data('bereinigter_text.txt')\n",
        "\n",
        "# Schritt 1: Artikel und Daten extrahieren\n",
        "articles = re.split(r\"Handelsblatt print: vom \", text)[1:]  # Splitte anhand des Keywords und ignoriere den ersten Teil\n",
        "data = []\n",
        "\n",
        "def remove_punctuation(text):\n",
        "    text = text.translate(str.maketrans('', '', string.punctuation))\n",
        "    return text\n",
        "\n",
        "# Schritt 2: Durch Artikel interieren und Datum und Text extrahieren\n",
        "for article in articles:\n",
        "    # Extrahieren des Datums (ersten 10 Zeichen)\n",
        "    date = article[:10]\n",
        "    if re.match(r\"\\d{2}\\.\\d{2}\\.\\d{4}\", date):\n",
        "        # Extrahieren des restlichen Texts\n",
        "        text = article[10:].strip()\n",
        "        # Entfernen des Teils vor dem nächsten \"Handelsblatt print:\" oder bis zum Ende\n",
        "        text = re.split(r\"Handelsblatt print: vom \\d{2}\\.\\d{2}\\.\\d{4}\", text, maxsplit=1)[0].strip()\n",
        "        # Datum hinzufügen\n",
        "        data.append({\"Datum\": date, \"Text\": text})\n",
        "\n",
        "for article_data in data:\n",
        "    article_data['Text'] = remove_punctuation(article_data['Text'])\n",
        "\n",
        "# Schritt 3: DataFrame erstellen\n",
        "df = pd.DataFrame(data)"
      ]
    },
    {
      "cell_type": "markdown",
      "source": [
        "Entfernen von doppelten Artikeln."
      ],
      "metadata": {
        "id": "-22TxDD3dCbe"
      },
      "id": "-22TxDD3dCbe"
    },
    {
      "cell_type": "code",
      "source": [
        "def remove_duplicate_articles(df):\n",
        "    # Erstellen einer Hilfsspalte für den Vergleich (Kombination aus Datum und ersten 100 Zeichen)\n",
        "    df['duplicate_key'] = df['Datum'].astype(str) + '_' + df['Text'].str[:100]\n",
        "\n",
        "    # Entfernen von Duplikaten basierend auf der Hilfsspalte\n",
        "    df = df[~df.duplicated(subset='duplicate_key')].copy()\n",
        "\n",
        "    # Entfernen der Hilfsspalte\n",
        "    df.drop(columns=['duplicate_key'], inplace=True)\n",
        "\n",
        "    # Index zurücksetzen\n",
        "    df.reset_index(drop=True, inplace=True)\n",
        "\n",
        "    return df\n",
        "\n",
        "df = remove_duplicate_articles(df)"
      ],
      "metadata": {
        "id": "v_7Ixp0-dGhn"
      },
      "id": "v_7Ixp0-dGhn",
      "execution_count": null,
      "outputs": []
    },
    {
      "cell_type": "code",
      "source": [
        "print(len(df))"
      ],
      "metadata": {
        "colab": {
          "base_uri": "https://localhost:8080/"
        },
        "id": "u7iEUd7qdTrm",
        "outputId": "28278786-7f78-44fa-c7f5-3c168b0613f3"
      },
      "id": "u7iEUd7qdTrm",
      "execution_count": null,
      "outputs": [
        {
          "output_type": "stream",
          "name": "stdout",
          "text": [
            "25180\n"
          ]
        }
      ]
    },
    {
      "cell_type": "markdown",
      "source": [
        "Begrenzen auf Artikel mit mehr als 200 Wörtern."
      ],
      "metadata": {
        "id": "d5Ei6fpssDRx"
      },
      "id": "d5Ei6fpssDRx"
    },
    {
      "cell_type": "code",
      "source": [
        "# Funktion zur Zählung der Wörter in einem Artikel\n",
        "def word_count(text):\n",
        "    return len(str(text).split())\n",
        "\n",
        "# Zählen der Wörter und filtern der Artikel mit mindestens 200 Wörtern\n",
        "df['Word Count'] = df['Text'].apply(word_count)\n",
        "df_filtered = df[df['Word Count'] >= 200].drop(columns=['Word Count'])  # Entfernen der Hilfsspalte 'Word Count'\n",
        "\n",
        "print(len(df_filtered))"
      ],
      "metadata": {
        "colab": {
          "base_uri": "https://localhost:8080/",
          "height": 228
        },
        "id": "MF8f5EpVtvxM",
        "outputId": "8a2dd0b0-a34e-4638-d543-4179c4d067af",
        "collapsed": true
      },
      "id": "MF8f5EpVtvxM",
      "execution_count": null,
      "outputs": [
        {
          "output_type": "error",
          "ename": "NameError",
          "evalue": "name 'df' is not defined",
          "traceback": [
            "\u001b[0;31m---------------------------------------------------------------------------\u001b[0m",
            "\u001b[0;31mNameError\u001b[0m                                 Traceback (most recent call last)",
            "\u001b[0;32m<ipython-input-1-abd1e84417fa>\u001b[0m in \u001b[0;36m<cell line: 0>\u001b[0;34m()\u001b[0m\n\u001b[1;32m      4\u001b[0m \u001b[0;34m\u001b[0m\u001b[0m\n\u001b[1;32m      5\u001b[0m \u001b[0;31m# Zählen die Wörter und filtere die Artikel mit mindestens 200 Wörtern\u001b[0m\u001b[0;34m\u001b[0m\u001b[0;34m\u001b[0m\u001b[0m\n\u001b[0;32m----> 6\u001b[0;31m \u001b[0mdf\u001b[0m\u001b[0;34m[\u001b[0m\u001b[0;34m'Word Count'\u001b[0m\u001b[0;34m]\u001b[0m \u001b[0;34m=\u001b[0m \u001b[0mdf\u001b[0m\u001b[0;34m[\u001b[0m\u001b[0;34m'Text'\u001b[0m\u001b[0;34m]\u001b[0m\u001b[0;34m.\u001b[0m\u001b[0mapply\u001b[0m\u001b[0;34m(\u001b[0m\u001b[0mword_count\u001b[0m\u001b[0;34m)\u001b[0m\u001b[0;34m\u001b[0m\u001b[0;34m\u001b[0m\u001b[0m\n\u001b[0m\u001b[1;32m      7\u001b[0m \u001b[0mdf_filtered\u001b[0m \u001b[0;34m=\u001b[0m \u001b[0mdf\u001b[0m\u001b[0;34m[\u001b[0m\u001b[0mdf\u001b[0m\u001b[0;34m[\u001b[0m\u001b[0;34m'Word Count'\u001b[0m\u001b[0;34m]\u001b[0m \u001b[0;34m>=\u001b[0m \u001b[0;36m200\u001b[0m\u001b[0;34m]\u001b[0m\u001b[0;34m.\u001b[0m\u001b[0mdrop\u001b[0m\u001b[0;34m(\u001b[0m\u001b[0mcolumns\u001b[0m\u001b[0;34m=\u001b[0m\u001b[0;34m[\u001b[0m\u001b[0;34m'Word Count'\u001b[0m\u001b[0;34m]\u001b[0m\u001b[0;34m)\u001b[0m  \u001b[0;31m# Entferne die Hilfsspalte 'Word Count'\u001b[0m\u001b[0;34m\u001b[0m\u001b[0;34m\u001b[0m\u001b[0m\n\u001b[1;32m      8\u001b[0m \u001b[0;34m\u001b[0m\u001b[0m\n",
            "\u001b[0;31mNameError\u001b[0m: name 'df' is not defined"
          ]
        }
      ]
    },
    {
      "cell_type": "markdown",
      "source": [
        "DataFrame als .csv abspeichern."
      ],
      "metadata": {
        "id": "3zaXB_nkj23C"
      },
      "id": "3zaXB_nkj23C"
    },
    {
      "cell_type": "code",
      "source": [
        "df_filtered.to_csv('artikel_tabelle.csv', index=False, encoding=\"utf-8\")"
      ],
      "metadata": {
        "id": "RrorudxZuCI8"
      },
      "id": "RrorudxZuCI8",
      "execution_count": null,
      "outputs": []
    },
    {
      "cell_type": "markdown",
      "id": "c83b0d84-c7a8-4976-ac10-d295bee1be10",
      "metadata": {
        "id": "c83b0d84-c7a8-4976-ac10-d295bee1be10"
      },
      "source": [
        "## Lemmatisieren und Stoppwörter entfernen\n",
        "1. Lemmatisieren des Textes\n",
        "2. Umlaute umwandeln\n",
        "3. Sonderzeichen und Bindestriche entfernen\n",
        "4. Standard Stoppwörter entfernen\n",
        "5. Text kleinschreiben\n",
        "\n",
        "**Dieser Abschnitt des Codes ist stark am Code von Latifi et al. (2024) orientiert. Dieser ist hier zu finden:**\n",
        "https://github.com/albi-lt/Fiscal-Policy-in-the-Bundestag/tree/main"
      ]
    },
    {
      "cell_type": "code",
      "execution_count": null,
      "id": "e8449881-cbd5-45fa-bff7-9100224722f5",
      "metadata": {
        "colab": {
          "base_uri": "https://localhost:8080/"
        },
        "id": "e8449881-cbd5-45fa-bff7-9100224722f5",
        "outputId": "2b5e9c67-7244-466f-9ace-47ff62cb44a3",
        "collapsed": true
      },
      "outputs": [
        {
          "output_type": "stream",
          "name": "stderr",
          "text": [
            "[nltk_data] Downloading package stopwords to /root/nltk_data...\n",
            "[nltk_data]   Unzipping corpora/stopwords.zip.\n"
          ]
        }
      ],
      "source": [
        "nltk.download('stopwords')\n",
        "stop_words = set(stopwords.words('german'))"
      ]
    },
    {
      "cell_type": "markdown",
      "source": [
        "Benötigte Funktionen."
      ],
      "metadata": {
        "id": "tG4WoVyZkbU-"
      },
      "id": "tG4WoVyZkbU-"
    },
    {
      "cell_type": "code",
      "execution_count": null,
      "id": "42f8144b-823c-420f-9881-949b56cd5ccd",
      "metadata": {
        "id": "42f8144b-823c-420f-9881-949b56cd5ccd"
      },
      "outputs": [],
      "source": [
        "def convert_umlauts(dataframe,textcolumn):\n",
        "    dataframe[textcolumn].replace('Ä','AE',regex=True, inplace = True)\n",
        "    dataframe[textcolumn].replace('ä','ae',regex=True, inplace = True)\n",
        "    dataframe[textcolumn].replace('Ü','UE',regex=True, inplace = True)\n",
        "    dataframe[textcolumn].replace('ü','ue',regex=True, inplace = True)\n",
        "    dataframe[textcolumn].replace('Ö','OE',regex=True, inplace = True)\n",
        "    dataframe[textcolumn].replace('ö','oe',regex=True, inplace = True)\n",
        "    dataframe[textcolumn].replace('ß','ss',regex=True, inplace = True)\n",
        "\n",
        "    return dataframe\n",
        "\n",
        "def convert_umlauts_strings(texts):\n",
        "    mapping = {ord(u\"Ü\"): u\"Ue\", ord(u\"ü\"): u\"ue\", ord(u\"ß\"): u\"ss\", ord(u\"ä\"): u\"ae\", ord(u\"Ä\"): u\"Ae\",\n",
        "               ord(u\"ö\"): u\"oe\", ord(u\"Ö\"): u\"Oe\"}\n",
        "    converted_texts = [i.translate(mapping) for i in texts]\n",
        "\n",
        "    return converted_texts\n",
        "\n",
        "def sent_to_words(sentences):\n",
        "    for sentence in sentences:\n",
        "        yield(gensim.utils.simple_preprocess(str(sentence), deacc=True,max_len = 30))\n",
        "        #exclude tokens with one character and those with more than 30 characters\n",
        "\n",
        "def remove_words(texts,words):\n",
        "    docs = []\n",
        "    for doc in tqdm(texts):\n",
        "        doc_cleaned = list(filter(lambda word: word.lower() not in words, doc.split()))\n",
        "        docs.append(' '.join(doc_cleaned))\n",
        "    return docs\n",
        "\n",
        "def remove_stopwords(texttoken,stopwordslist):\n",
        "    filtered_text = [word for word in texttoken if word.lower() not in stopwordslist]\n",
        "    return filtered_text\n",
        "\n",
        "def lemmatize_texts(texts, spacy_model):\n",
        "    nlp_model = spacy.load(spacy_model)\n",
        "    pp = []\n",
        "    print('Start lemmatization...')\n",
        "    t0 = time.time()\n",
        "    for i in tqdm(range(len(texts))):\n",
        "        text = \" \".join([token.lemma_ for token in nlp_model(texts[i])])#\n",
        "        pp.append(text)\n",
        "    t1 = time.time()\n",
        "    print('Finished lemmatization. Process took', t1 - t0, 'seconds')\n",
        "    return pp\n",
        "\n",
        "def remove_specific_stopwords(text):\n",
        "    words = text.split()\n",
        "    filtered_words = [word for word in words if word not in lemmatized_stopwords]\n",
        "    return ' '.join(filtered_words)"
      ]
    },
    {
      "cell_type": "code",
      "execution_count": null,
      "id": "a8137d6a-a8bd-4c32-ba0e-17c538335427",
      "metadata": {
        "id": "a8137d6a-a8bd-4c32-ba0e-17c538335427"
      },
      "outputs": [],
      "source": [
        "# Artikel einlesen\n",
        "data = pd.read_csv('artikel_tabelle.csv')\n",
        "data['länge_vorher'] = [len(i.split()) for i in data.Text]"
      ]
    },
    {
      "cell_type": "markdown",
      "source": [
        "### Lemmatisieren"
      ],
      "metadata": {
        "id": "j4V-1VJTkrkM"
      },
      "id": "j4V-1VJTkrkM"
    },
    {
      "cell_type": "code",
      "execution_count": null,
      "id": "e6ca3297-ba81-4e7b-bd9e-5b422b3dff86",
      "metadata": {
        "colab": {
          "base_uri": "https://localhost:8080/"
        },
        "collapsed": true,
        "id": "e6ca3297-ba81-4e7b-bd9e-5b422b3dff86",
        "outputId": "3db6a1cb-698d-4ce4-b792-010cf9aa43a1"
      },
      "outputs": [
        {
          "output_type": "stream",
          "name": "stdout",
          "text": [
            "Start lemmatization...\n"
          ]
        },
        {
          "output_type": "stream",
          "name": "stderr",
          "text": [
            "100%|██████████| 23681/23681 [56:59<00:00,  6.92it/s]\n"
          ]
        },
        {
          "output_type": "stream",
          "name": "stdout",
          "text": [
            "Finished lemmatization. Process took 3419.946244239807 seconds\n"
          ]
        }
      ],
      "source": [
        "# Lemmatisieren der Texte\n",
        "lemmatized = lemmatize_texts([data.Text[i] for i in range(data.shape[0])], 'de_core_news_lg')\n",
        "\n",
        "# Erstellen einer neuen Spalte mit den lemmatisierten Texten\n",
        "data['lemmatized_text'] = lemmatized\n",
        "\n",
        "# Ersetzen von Zeilenumbrüchen innerhalb von Wörtern\n",
        "data_lemmatized = data.replace('-\\n', '', regex=True)\n",
        "\n",
        "data_lemmatized[['Datum', 'länge_vorher', 'lemmatized_text']].to_csv('lemmatisierte_artikel.csv', index=False, encoding=\"utf-8\")"
      ]
    },
    {
      "cell_type": "markdown",
      "source": [
        "### Entfernen von nltk-Stoppwörtern"
      ],
      "metadata": {
        "id": "-OSkZAsxl0ts"
      },
      "id": "-OSkZAsxl0ts"
    },
    {
      "cell_type": "code",
      "source": [
        "data_lemmatized = pd.read_csv('lemmatisierte_artikel.csv')\n",
        "# Umlaute umschreiben\n",
        "data_lemmatized['lemmatized_text'] = convert_umlauts_strings(data_lemmatized['lemmatized_text'])\n",
        "# Spezielle Satzzeichen entfernen, einzelne Buchstaben und Zeichenketten mit mehr als 30 Buchstaben entfernen\n",
        "data_lemmatized['lemmatized_text'] = [' '.join(words) for words in sent_to_words(data_lemmatized['lemmatized_text'])]"
      ],
      "metadata": {
        "id": "4sAQXM5Sl3ue"
      },
      "id": "4sAQXM5Sl3ue",
      "execution_count": null,
      "outputs": []
    },
    {
      "cell_type": "code",
      "source": [
        "print(data_lemmatized[['lemmatized_text']].head())"
      ],
      "metadata": {
        "colab": {
          "base_uri": "https://localhost:8080/"
        },
        "id": "KDVzqjKOLzGN",
        "outputId": "296adc1d-12eb-414b-bdf7-e2a4095f9ea3",
        "collapsed": true
      },
      "id": "KDVzqjKOLzGN",
      "execution_count": null,
      "outputs": [
        {
          "output_type": "stream",
          "name": "stdout",
          "text": [
            "                                     lemmatized_text\n",
            "0  politik homo wachstum sein der gut schuldenbre...\n",
            "1  politik wachsende kritik und forderung fehlend...\n",
            "2  politik green bonds statt eegumlage der regier...\n",
            "3  special der sofortabschreibung digital wirtsch...\n",
            "4  politik wir erwarten ein stufenplan der praesi...\n"
          ]
        }
      ]
    },
    {
      "cell_type": "code",
      "source": [
        "# Standard-Stoppwörter von nltk entfernen\n",
        "data_lemmatized['text_preprocessed'] = remove_words(data_lemmatized['lemmatized_text'], convert_umlauts_strings(stop_words))\n",
        "\n",
        "# Wörter zählen\n",
        "gesamt_wörter_nachher = data_lemmatized['text_preprocessed'].apply(lambda x: len(str(x).split())).sum()\n",
        "gesamt_wörter_vorher = data_lemmatized['lemmatized_text'].apply(lambda x: len(str(x).split())).sum()\n",
        "\n",
        "# Ergebnisse ausgeben\n",
        "entfernte_wörter = gesamt_wörter_vorher - gesamt_wörter_nachher\n",
        "print(f\"Vor der Entfernung spezifischer Stoppwörter umfasste der Datensatz {gesamt_wörter_vorher} Wörter.\")\n",
        "print(f\"Durch die Entfernung entfielen {entfernte_wörter} Wörter.\")\n",
        "print(f\"Somit umfasst der Korpus jetzt noch {gesamt_wörter_nachher} Wörter.\")"
      ],
      "metadata": {
        "colab": {
          "base_uri": "https://localhost:8080/"
        },
        "id": "felXyF0HoUo0",
        "outputId": "fef4192d-1921-45ec-91a6-682a24a60a33"
      },
      "id": "felXyF0HoUo0",
      "execution_count": null,
      "outputs": [
        {
          "output_type": "stream",
          "name": "stderr",
          "text": [
            "100%|██████████| 23681/23681 [00:55<00:00, 429.06it/s]\n"
          ]
        },
        {
          "output_type": "stream",
          "name": "stdout",
          "text": [
            "Vor der Entfernung spezifischer Stoppwörter umfasste der Datensatz 15114608 Wörter.\n",
            "Durch die Entfernung entfielen 6567451 Wörter.\n",
            "Somit umfasst der Korpus jetzt noch 8547157 Wörter.\n"
          ]
        }
      ]
    },
    {
      "cell_type": "markdown",
      "source": [
        "Speichern der bereinigten Texte."
      ],
      "metadata": {
        "id": "biaf4CkHonOo"
      },
      "id": "biaf4CkHonOo"
    },
    {
      "cell_type": "code",
      "source": [
        "text_length_lemmatized = [len(i.split()) for i in data_lemmatized.text_preprocessed] # Textlänge nach dem Bereinigen der Artikel\n",
        "\n",
        "data_lemmatized['länge_bereinigt'] = text_length_lemmatized\n",
        "\n",
        "# Datum in datetime Format umwandeln\n",
        "data_lemmatized['Datum'] = pd.to_datetime(data_lemmatized['Datum'], format='%d.%m.%Y')\n",
        "\n",
        "# Extrahieren von Jahr und Quartal aus dem Datum\n",
        "data_lemmatized['datum_jahr'] = data_lemmatized['Datum'].dt.year\n",
        "data_lemmatized['datum_quartal'] = data_lemmatized['Datum'].dt.quarter\n",
        "\n",
        "# Speichern in einer neuen .csv Datei\n",
        "data_lemmatized[['Datum', 'datum_jahr', 'datum_quartal', 'text_preprocessed', 'länge_vorher', 'länge_bereinigt']].to_csv(\n",
        "    'bereinigte_artikel.csv',\n",
        "    index=False\n",
        ")"
      ],
      "metadata": {
        "id": "kFInIaWYortx"
      },
      "id": "kFInIaWYortx",
      "execution_count": null,
      "outputs": []
    },
    {
      "cell_type": "code",
      "source": [
        "data_lemmatized[['Datum', 'datum_jahr', 'datum_quartal', 'text_preprocessed', 'länge_vorher', 'länge_bereinigt']]"
      ],
      "metadata": {
        "colab": {
          "base_uri": "https://localhost:8080/",
          "height": 424
        },
        "id": "JmiUhqW3sOeW",
        "outputId": "93a06c48-a493-4fbd-e536-7d0817c83228",
        "collapsed": true
      },
      "id": "JmiUhqW3sOeW",
      "execution_count": null,
      "outputs": [
        {
          "output_type": "execute_result",
          "data": {
            "text/plain": [
              "           Datum  datum_jahr  datum_quartal  \\\n",
              "0     2021-02-16        2021              1   \n",
              "1     2021-02-16        2021              1   \n",
              "2     2021-02-16        2021              1   \n",
              "3     2021-02-16        2021              1   \n",
              "4     2021-02-16        2021              1   \n",
              "...          ...         ...            ...   \n",
              "23676 2000-11-13        2000              4   \n",
              "23677 2000-11-13        2000              4   \n",
              "23678 2000-11-10        2000              4   \n",
              "23679 2000-11-10        2000              4   \n",
              "23680 2000-11-10        2000              4   \n",
              "\n",
              "                                       text_preprocessed  länge_vorher  \\\n",
              "0      politik homo wachstum gut schuldenbremse kredi...           427   \n",
              "1      politik wachsende kritik forderung fehlend oef...           989   \n",
              "2      politik green bonds statt eegumlage regierung ...          1260   \n",
              "3      special sofortabschreibung digital wirtschafts...           201   \n",
              "4      politik erwarten stufenplan praesident verband...           809   \n",
              "...                                                  ...           ...   \n",
              "23676  seite deu tschland vertraulicher rechnungshofb...           677   \n",
              "23677  seite deu tschland vorsitzend sonderausschuss ...           459   \n",
              "23678  seite deu tschland kommentar eichel vision fer...           365   \n",
              "23679  seite deu tschland grundsatzrede bundesﬁnanzmi...           771   \n",
              "23680  seite deu tschland bundesregierung halten anga...           206   \n",
              "\n",
              "       länge_bereinigt  \n",
              "0                  236  \n",
              "1                  569  \n",
              "2                  692  \n",
              "3                  114  \n",
              "4                  428  \n",
              "...                ...  \n",
              "23676              358  \n",
              "23677              243  \n",
              "23678              202  \n",
              "23679              427  \n",
              "23680              119  \n",
              "\n",
              "[23681 rows x 6 columns]"
            ],
            "text/html": [
              "\n",
              "  <div id=\"df-e1dbe724-d505-49f8-bab3-cf43bbb73409\" class=\"colab-df-container\">\n",
              "    <div>\n",
              "<style scoped>\n",
              "    .dataframe tbody tr th:only-of-type {\n",
              "        vertical-align: middle;\n",
              "    }\n",
              "\n",
              "    .dataframe tbody tr th {\n",
              "        vertical-align: top;\n",
              "    }\n",
              "\n",
              "    .dataframe thead th {\n",
              "        text-align: right;\n",
              "    }\n",
              "</style>\n",
              "<table border=\"1\" class=\"dataframe\">\n",
              "  <thead>\n",
              "    <tr style=\"text-align: right;\">\n",
              "      <th></th>\n",
              "      <th>Datum</th>\n",
              "      <th>datum_jahr</th>\n",
              "      <th>datum_quartal</th>\n",
              "      <th>text_preprocessed</th>\n",
              "      <th>länge_vorher</th>\n",
              "      <th>länge_bereinigt</th>\n",
              "    </tr>\n",
              "  </thead>\n",
              "  <tbody>\n",
              "    <tr>\n",
              "      <th>0</th>\n",
              "      <td>2021-02-16</td>\n",
              "      <td>2021</td>\n",
              "      <td>1</td>\n",
              "      <td>politik homo wachstum gut schuldenbremse kredi...</td>\n",
              "      <td>427</td>\n",
              "      <td>236</td>\n",
              "    </tr>\n",
              "    <tr>\n",
              "      <th>1</th>\n",
              "      <td>2021-02-16</td>\n",
              "      <td>2021</td>\n",
              "      <td>1</td>\n",
              "      <td>politik wachsende kritik forderung fehlend oef...</td>\n",
              "      <td>989</td>\n",
              "      <td>569</td>\n",
              "    </tr>\n",
              "    <tr>\n",
              "      <th>2</th>\n",
              "      <td>2021-02-16</td>\n",
              "      <td>2021</td>\n",
              "      <td>1</td>\n",
              "      <td>politik green bonds statt eegumlage regierung ...</td>\n",
              "      <td>1260</td>\n",
              "      <td>692</td>\n",
              "    </tr>\n",
              "    <tr>\n",
              "      <th>3</th>\n",
              "      <td>2021-02-16</td>\n",
              "      <td>2021</td>\n",
              "      <td>1</td>\n",
              "      <td>special sofortabschreibung digital wirtschafts...</td>\n",
              "      <td>201</td>\n",
              "      <td>114</td>\n",
              "    </tr>\n",
              "    <tr>\n",
              "      <th>4</th>\n",
              "      <td>2021-02-16</td>\n",
              "      <td>2021</td>\n",
              "      <td>1</td>\n",
              "      <td>politik erwarten stufenplan praesident verband...</td>\n",
              "      <td>809</td>\n",
              "      <td>428</td>\n",
              "    </tr>\n",
              "    <tr>\n",
              "      <th>...</th>\n",
              "      <td>...</td>\n",
              "      <td>...</td>\n",
              "      <td>...</td>\n",
              "      <td>...</td>\n",
              "      <td>...</td>\n",
              "      <td>...</td>\n",
              "    </tr>\n",
              "    <tr>\n",
              "      <th>23676</th>\n",
              "      <td>2000-11-13</td>\n",
              "      <td>2000</td>\n",
              "      <td>4</td>\n",
              "      <td>seite deu tschland vertraulicher rechnungshofb...</td>\n",
              "      <td>677</td>\n",
              "      <td>358</td>\n",
              "    </tr>\n",
              "    <tr>\n",
              "      <th>23677</th>\n",
              "      <td>2000-11-13</td>\n",
              "      <td>2000</td>\n",
              "      <td>4</td>\n",
              "      <td>seite deu tschland vorsitzend sonderausschuss ...</td>\n",
              "      <td>459</td>\n",
              "      <td>243</td>\n",
              "    </tr>\n",
              "    <tr>\n",
              "      <th>23678</th>\n",
              "      <td>2000-11-10</td>\n",
              "      <td>2000</td>\n",
              "      <td>4</td>\n",
              "      <td>seite deu tschland kommentar eichel vision fer...</td>\n",
              "      <td>365</td>\n",
              "      <td>202</td>\n",
              "    </tr>\n",
              "    <tr>\n",
              "      <th>23679</th>\n",
              "      <td>2000-11-10</td>\n",
              "      <td>2000</td>\n",
              "      <td>4</td>\n",
              "      <td>seite deu tschland grundsatzrede bundesﬁnanzmi...</td>\n",
              "      <td>771</td>\n",
              "      <td>427</td>\n",
              "    </tr>\n",
              "    <tr>\n",
              "      <th>23680</th>\n",
              "      <td>2000-11-10</td>\n",
              "      <td>2000</td>\n",
              "      <td>4</td>\n",
              "      <td>seite deu tschland bundesregierung halten anga...</td>\n",
              "      <td>206</td>\n",
              "      <td>119</td>\n",
              "    </tr>\n",
              "  </tbody>\n",
              "</table>\n",
              "<p>23681 rows × 6 columns</p>\n",
              "</div>\n",
              "    <div class=\"colab-df-buttons\">\n",
              "\n",
              "  <div class=\"colab-df-container\">\n",
              "    <button class=\"colab-df-convert\" onclick=\"convertToInteractive('df-e1dbe724-d505-49f8-bab3-cf43bbb73409')\"\n",
              "            title=\"Convert this dataframe to an interactive table.\"\n",
              "            style=\"display:none;\">\n",
              "\n",
              "  <svg xmlns=\"http://www.w3.org/2000/svg\" height=\"24px\" viewBox=\"0 -960 960 960\">\n",
              "    <path d=\"M120-120v-720h720v720H120Zm60-500h600v-160H180v160Zm220 220h160v-160H400v160Zm0 220h160v-160H400v160ZM180-400h160v-160H180v160Zm440 0h160v-160H620v160ZM180-180h160v-160H180v160Zm440 0h160v-160H620v160Z\"/>\n",
              "  </svg>\n",
              "    </button>\n",
              "\n",
              "  <style>\n",
              "    .colab-df-container {\n",
              "      display:flex;\n",
              "      gap: 12px;\n",
              "    }\n",
              "\n",
              "    .colab-df-convert {\n",
              "      background-color: #E8F0FE;\n",
              "      border: none;\n",
              "      border-radius: 50%;\n",
              "      cursor: pointer;\n",
              "      display: none;\n",
              "      fill: #1967D2;\n",
              "      height: 32px;\n",
              "      padding: 0 0 0 0;\n",
              "      width: 32px;\n",
              "    }\n",
              "\n",
              "    .colab-df-convert:hover {\n",
              "      background-color: #E2EBFA;\n",
              "      box-shadow: 0px 1px 2px rgba(60, 64, 67, 0.3), 0px 1px 3px 1px rgba(60, 64, 67, 0.15);\n",
              "      fill: #174EA6;\n",
              "    }\n",
              "\n",
              "    .colab-df-buttons div {\n",
              "      margin-bottom: 4px;\n",
              "    }\n",
              "\n",
              "    [theme=dark] .colab-df-convert {\n",
              "      background-color: #3B4455;\n",
              "      fill: #D2E3FC;\n",
              "    }\n",
              "\n",
              "    [theme=dark] .colab-df-convert:hover {\n",
              "      background-color: #434B5C;\n",
              "      box-shadow: 0px 1px 3px 1px rgba(0, 0, 0, 0.15);\n",
              "      filter: drop-shadow(0px 1px 2px rgba(0, 0, 0, 0.3));\n",
              "      fill: #FFFFFF;\n",
              "    }\n",
              "  </style>\n",
              "\n",
              "    <script>\n",
              "      const buttonEl =\n",
              "        document.querySelector('#df-e1dbe724-d505-49f8-bab3-cf43bbb73409 button.colab-df-convert');\n",
              "      buttonEl.style.display =\n",
              "        google.colab.kernel.accessAllowed ? 'block' : 'none';\n",
              "\n",
              "      async function convertToInteractive(key) {\n",
              "        const element = document.querySelector('#df-e1dbe724-d505-49f8-bab3-cf43bbb73409');\n",
              "        const dataTable =\n",
              "          await google.colab.kernel.invokeFunction('convertToInteractive',\n",
              "                                                    [key], {});\n",
              "        if (!dataTable) return;\n",
              "\n",
              "        const docLinkHtml = 'Like what you see? Visit the ' +\n",
              "          '<a target=\"_blank\" href=https://colab.research.google.com/notebooks/data_table.ipynb>data table notebook</a>'\n",
              "          + ' to learn more about interactive tables.';\n",
              "        element.innerHTML = '';\n",
              "        dataTable['output_type'] = 'display_data';\n",
              "        await google.colab.output.renderOutput(dataTable, element);\n",
              "        const docLink = document.createElement('div');\n",
              "        docLink.innerHTML = docLinkHtml;\n",
              "        element.appendChild(docLink);\n",
              "      }\n",
              "    </script>\n",
              "  </div>\n",
              "\n",
              "\n",
              "<div id=\"df-09d028ea-56ed-4bac-93df-881a02607e59\">\n",
              "  <button class=\"colab-df-quickchart\" onclick=\"quickchart('df-09d028ea-56ed-4bac-93df-881a02607e59')\"\n",
              "            title=\"Suggest charts\"\n",
              "            style=\"display:none;\">\n",
              "\n",
              "<svg xmlns=\"http://www.w3.org/2000/svg\" height=\"24px\"viewBox=\"0 0 24 24\"\n",
              "     width=\"24px\">\n",
              "    <g>\n",
              "        <path d=\"M19 3H5c-1.1 0-2 .9-2 2v14c0 1.1.9 2 2 2h14c1.1 0 2-.9 2-2V5c0-1.1-.9-2-2-2zM9 17H7v-7h2v7zm4 0h-2V7h2v10zm4 0h-2v-4h2v4z\"/>\n",
              "    </g>\n",
              "</svg>\n",
              "  </button>\n",
              "\n",
              "<style>\n",
              "  .colab-df-quickchart {\n",
              "      --bg-color: #E8F0FE;\n",
              "      --fill-color: #1967D2;\n",
              "      --hover-bg-color: #E2EBFA;\n",
              "      --hover-fill-color: #174EA6;\n",
              "      --disabled-fill-color: #AAA;\n",
              "      --disabled-bg-color: #DDD;\n",
              "  }\n",
              "\n",
              "  [theme=dark] .colab-df-quickchart {\n",
              "      --bg-color: #3B4455;\n",
              "      --fill-color: #D2E3FC;\n",
              "      --hover-bg-color: #434B5C;\n",
              "      --hover-fill-color: #FFFFFF;\n",
              "      --disabled-bg-color: #3B4455;\n",
              "      --disabled-fill-color: #666;\n",
              "  }\n",
              "\n",
              "  .colab-df-quickchart {\n",
              "    background-color: var(--bg-color);\n",
              "    border: none;\n",
              "    border-radius: 50%;\n",
              "    cursor: pointer;\n",
              "    display: none;\n",
              "    fill: var(--fill-color);\n",
              "    height: 32px;\n",
              "    padding: 0;\n",
              "    width: 32px;\n",
              "  }\n",
              "\n",
              "  .colab-df-quickchart:hover {\n",
              "    background-color: var(--hover-bg-color);\n",
              "    box-shadow: 0 1px 2px rgba(60, 64, 67, 0.3), 0 1px 3px 1px rgba(60, 64, 67, 0.15);\n",
              "    fill: var(--button-hover-fill-color);\n",
              "  }\n",
              "\n",
              "  .colab-df-quickchart-complete:disabled,\n",
              "  .colab-df-quickchart-complete:disabled:hover {\n",
              "    background-color: var(--disabled-bg-color);\n",
              "    fill: var(--disabled-fill-color);\n",
              "    box-shadow: none;\n",
              "  }\n",
              "\n",
              "  .colab-df-spinner {\n",
              "    border: 2px solid var(--fill-color);\n",
              "    border-color: transparent;\n",
              "    border-bottom-color: var(--fill-color);\n",
              "    animation:\n",
              "      spin 1s steps(1) infinite;\n",
              "  }\n",
              "\n",
              "  @keyframes spin {\n",
              "    0% {\n",
              "      border-color: transparent;\n",
              "      border-bottom-color: var(--fill-color);\n",
              "      border-left-color: var(--fill-color);\n",
              "    }\n",
              "    20% {\n",
              "      border-color: transparent;\n",
              "      border-left-color: var(--fill-color);\n",
              "      border-top-color: var(--fill-color);\n",
              "    }\n",
              "    30% {\n",
              "      border-color: transparent;\n",
              "      border-left-color: var(--fill-color);\n",
              "      border-top-color: var(--fill-color);\n",
              "      border-right-color: var(--fill-color);\n",
              "    }\n",
              "    40% {\n",
              "      border-color: transparent;\n",
              "      border-right-color: var(--fill-color);\n",
              "      border-top-color: var(--fill-color);\n",
              "    }\n",
              "    60% {\n",
              "      border-color: transparent;\n",
              "      border-right-color: var(--fill-color);\n",
              "    }\n",
              "    80% {\n",
              "      border-color: transparent;\n",
              "      border-right-color: var(--fill-color);\n",
              "      border-bottom-color: var(--fill-color);\n",
              "    }\n",
              "    90% {\n",
              "      border-color: transparent;\n",
              "      border-bottom-color: var(--fill-color);\n",
              "    }\n",
              "  }\n",
              "</style>\n",
              "\n",
              "  <script>\n",
              "    async function quickchart(key) {\n",
              "      const quickchartButtonEl =\n",
              "        document.querySelector('#' + key + ' button');\n",
              "      quickchartButtonEl.disabled = true;  // To prevent multiple clicks.\n",
              "      quickchartButtonEl.classList.add('colab-df-spinner');\n",
              "      try {\n",
              "        const charts = await google.colab.kernel.invokeFunction(\n",
              "            'suggestCharts', [key], {});\n",
              "      } catch (error) {\n",
              "        console.error('Error during call to suggestCharts:', error);\n",
              "      }\n",
              "      quickchartButtonEl.classList.remove('colab-df-spinner');\n",
              "      quickchartButtonEl.classList.add('colab-df-quickchart-complete');\n",
              "    }\n",
              "    (() => {\n",
              "      let quickchartButtonEl =\n",
              "        document.querySelector('#df-09d028ea-56ed-4bac-93df-881a02607e59 button');\n",
              "      quickchartButtonEl.style.display =\n",
              "        google.colab.kernel.accessAllowed ? 'block' : 'none';\n",
              "    })();\n",
              "  </script>\n",
              "</div>\n",
              "\n",
              "    </div>\n",
              "  </div>\n"
            ],
            "application/vnd.google.colaboratory.intrinsic+json": {
              "type": "dataframe",
              "summary": "{\n  \"name\": \"data_lemmatized[['Datum', 'datum_jahr', 'datum_quartal', 'text_preprocessed', 'l\\u00e4nge_vorher', 'l\\u00e4nge_bereinigt']]\",\n  \"rows\": 23681,\n  \"fields\": [\n    {\n      \"column\": \"Datum\",\n      \"properties\": {\n        \"dtype\": \"date\",\n        \"min\": \"2000-01-03 00:00:00\",\n        \"max\": \"2024-11-27 00:00:00\",\n        \"num_unique_values\": 5206,\n        \"samples\": [\n          \"2019-01-17 00:00:00\",\n          \"2019-09-26 00:00:00\",\n          \"2000-08-25 00:00:00\"\n        ],\n        \"semantic_type\": \"\",\n        \"description\": \"\"\n      }\n    },\n    {\n      \"column\": \"datum_jahr\",\n      \"properties\": {\n        \"dtype\": \"int32\",\n        \"num_unique_values\": 23,\n        \"samples\": [\n          2006,\n          2012,\n          2021\n        ],\n        \"semantic_type\": \"\",\n        \"description\": \"\"\n      }\n    },\n    {\n      \"column\": \"datum_quartal\",\n      \"properties\": {\n        \"dtype\": \"int32\",\n        \"num_unique_values\": 4,\n        \"samples\": [\n          4,\n          2,\n          1\n        ],\n        \"semantic_type\": \"\",\n        \"description\": \"\"\n      }\n    },\n    {\n      \"column\": \"text_preprocessed\",\n      \"properties\": {\n        \"dtype\": \"string\",\n        \"num_unique_values\": 23521,\n        \"samples\": [\n          \"seite meinung analyse arbeit reformprozess agenda hinaus entschlossen vorantreiben agenda seit lang ueberfaellig ende reformstau deutschland ei nleit hoffnung naemlich bundeskanzler neuausrichtung sozialdemokratisch pol itik fordern leistung staat kuerzen eigenverantwortung foerdern mehr eigenleistung einzelner abfordern muessen sagen regierungserklaerung maerz anfang juni sonderparteitag spd reformvorhabe kanzler kontroverse diskussion mehrheitlich zustimmen vergangen wochenende folgen koalit ionspartn allmaehlich scheinen mehrheit sozialdemokrat einsicht durchsetzen sozialstaat reformbeduerftig negativ wirtschaftlich dynamik beschaefti gung auswirken allein reichen muessen tat folgen mehr bisher diskutieren deutschland strukturproblem lange ignorieren erforderlich veraenderung lange verzoegern arbeitslosigkeit staatsverschuldung wirtschaftswachstum krise si ch zunehmend verschaerfen immer bedrueckend konsequent marktwirtscha ftlich reformprogramm zentral bereich wirtschaft sozialsystem loe sen heute morgen bewaeltigen reform fuehren erst zeitlich verzoegerung mehr investition arbeitsplatz entscheidend neu zukunftsvertrauen agenda lediglich einstieg notwendig reformprozess kanzler reformvorhabe einstieg verstehen gelingen agenda erster schritt zuegig gross abstrich umsetzen vertrauen investor konsume nten schaffen nachhaltig belebung wachstum beschaeftigung muessen abe weit schritt folgen betrachtet zentral reformbaustelle arbeitsmarktpolitik gross veraenderung notwendig bezugsdauer arbeitslosengeld verkuerzen sozialhilfe arbeitslose hilfe sammenzulegen handwerksordnung liberalisieren vorgesehen reform fordern wirtschaftsexperte seit lang lockerung kuendigungsschutz gehen richti ge richtung zaghaft ausfallen beschaeftigungshemmend regulierung bleiben jedoch unangetastet etwa guenstigkeitsprinzip anhaltend diskussion ausbi ldungsabgabe konterkarieren eingeschlagen richtung perspektive heissen weniger rigiditaet weniger kosten sozial sicherungssystem nachhaltig ausgabenkorrektur erforderlich aesst anhaltend anstieg beitrag umkehren lohnzusatzkosten immer erhoehen ei ne wesentlich ursache hoch arbeitslosigkeit bundesregierung richti ge ziel ausgeben gesamtbeitragssatz prozent beitragssatz krankenversicherung prozent druecken grundlegend strukturreform ziel realistisch ersch inen lassen sozialsystem langfristig solide finanziell grundlage stellen bleiben ie bisher schuldig enthalten ministerin ulla schmidt vorgelegt entwurf gesetz modernisieru ng gesundheitssystem richtig ansatz hierzu zaehlen korrektur finanzierung krankengeld massnahme gelten gesamt gesetzentwurf gesundheitsmi nisterin bleiben weniger halb mehr wettbewerb mehr eigenverantwortung stehen de einzeln versicherter beispiel kuenftig entscheiden ueben rhaupt umfang krankengeldversicherung abschliessen rentenversicherung bereits weit beitragssatzanstieg rede obwoh beitrag bemessungsgrenz erst jahresbeginn anheben bundesregierung verweisen vage ruerupkommission finanzpolitik herrschen notstand neuverschuldung voraussichtlich demnaechs hoch stand seit wiedervereinigung erreichen bedenklich deutschland jahr stabilitaets wachstumspakt verstossen finanzminister offenbar ziel aufgeg eben jahr ausgeglichen haushalt vorlegen wirtschaftlich krise hans eichel derzeit besonders schwer situatio raechen bundesregierung vergangen jahr konsequent konsolidierung wachstumspolitik betreiben finanzminister fordern recht staatlich leistung uf pruefstand stellen weit einsparung vornehmen forderung allein genuegen notwendig entscheidung staatsausgabe subvention abbauen oeffentlich hau shalte konsolidieren steuerrecht vereinfachen buerger unternehmen entlasten ec kpfeiler nachhaltig finanzpolitik erhoehung tabaksteuer endend diskus sion hoch vermoegen erbschaft mehrwertsteuer lassen befuerchten nic ht konsequent beschreiten fazit agenda anfang mehr weniger wichtig rasch umsetz ung kommen darauf eingeleitet schritt hinaus reformprozess entschlossen voranzutrei ben verantwortung stehen dabei bundesregierung bundesratsmehrheit muessen slogan arbeit fahne schreiben hans tietmeyer vorsitzend kuratorium initiative neu sozial marktwirtschaft tietmeyer hans\",\n          \"seite europa reynders kuendigen kommentar haushaltssituation gross mitgliedstaat eichel wegen budgetplan druck ruthb bundesfinanzminister hans eichel spd ger aet wegen budgetproblem europaeisch union eu zunehmend druck ankuendigung mini ster deutsch staatshaushalt womoeglich erst jahr ausgleichen kommen bruesse gut euwirtschaftskommissar pedro solbes moegen zunaechst offiziell kommen ntar abgeben zumal neu deutsch stabilitaetsprogramm sparzielen naechster haushalt jahr bruessel vorliegen spaet finden solbe klar wort verfolgen hoch aufmerk samkeit deutschland passieren sagen euwaehrungskommissar anlaesslich monatlich treffen finanzminister eurozone frage wegen deutsch konjunkturlage besorgt sagen spanien stammend kommissar viele sagen deutschland jahr vorhersage eukommission november zufolge wachstum defizit schlusslicht zwoelfergruppe interesse sorge brues sel annahme kommission registrieren wonach oeffentlich defizit deutschland kommend ahr wert prozent bruttoinlandsprodukt nah dreiprozentschwell ruecken marke stabilitaets wachstumspakt fixieren pakt insbes onder draengen damalig deutsch finanzminister theo waigel eugipfel dublin besiegeln vorsitzend eufinanzministerrat didier reynder ueben kritik name nennen schwierig haushaltslage gross eustaat demnaechst kommentar abgeben kuendigen belgisch finanzminister belgien klein mitgliedstaat eurozone deutsch haushaltslage achsend argwohn beobachten heissen diplomatisch kreis bruessel gr dafuer duerfen klein eurostaat staatsfinanz erheblich gut kontrolle gross en neben deutschland drohen frankreich kreuzfeuer kritik geraten pariser regi erung kommend jahr deutlich niedrig haushaltsdefizit versprechen deutschland eukommission trauen franzoesisch rechnung paris gehen kalkulation deutlich optimistisch wachstumsprognose deshalb haushaltsdefizit naechster jahr hoe her ausfallen bisher franzoesisch regierung ankuendigen heissen bruesseler kom missionskreisen treffen eufinanzminister ecofin heutig dienstag budgetproblem beid gross eustaate offiziell rolle spielen rut\",\n          \"seite titelseite landesbank erbost neu rating schwarz tag landesbank gestern ratingagentur standard poors daumen fuenf sechs oeffentlichrechtlich institut senken niedrig ere bonitaetsnoten verteilen besonders deutlich bayernlb hsh nordbank landesbank badenwuerttemberg heruntergestufen massnahme stossen betroffen institut kritik westlb landesbank muenchen erklaeren neu rating nachvollziehbar schliesslich befinden mitten neuausrichtung geschaeftsmodell abstimmung bruesseler wettbewerbshueter verweisen begruendung schwierig wirtschaftlich situation bank sowie ie herausforderung refinanzierung herabstufung fallen mitten politisch debatte zukunft geldhaus teilen meinung politisch massnahme angemessen gleichwohl wachsen druck bundesregierung di land entscheidung gleich doppelt erstens bundesfinanzministerium oeglichst bald badbankkonzept auslagerung schrottpapieren bilanz landesbank vorleg zweitens muessen ministerpraesident konsolidierung information handelsblatt sollen beide thema bereits naechster woche zw isch finanzminister peer steinbrueck vertreter land verhandeln laenderkreis heissen grundsaetzlich fusion bereit bund bankenrettungsfond staatshilf en entgiftung bilanz hrefhttpanbietepksaf targetblankanbietepksafa saf pk\"\n        ],\n        \"semantic_type\": \"\",\n        \"description\": \"\"\n      }\n    },\n    {\n      \"column\": \"l\\u00e4nge_vorher\",\n      \"properties\": {\n        \"dtype\": \"number\",\n        \"std\": 480,\n        \"min\": 200,\n        \"max\": 8928,\n        \"num_unique_values\": 2021,\n        \"samples\": [\n          618,\n          2795,\n          461\n        ],\n        \"semantic_type\": \"\",\n        \"description\": \"\"\n      }\n    },\n    {\n      \"column\": \"l\\u00e4nge_bereinigt\",\n      \"properties\": {\n        \"dtype\": \"number\",\n        \"std\": 254,\n        \"min\": 99,\n        \"max\": 4820,\n        \"num_unique_values\": 1287,\n        \"samples\": [\n          4820,\n          262,\n          1552\n        ],\n        \"semantic_type\": \"\",\n        \"description\": \"\"\n      }\n    }\n  ]\n}"
            }
          },
          "metadata": {},
          "execution_count": 32
        }
      ]
    },
    {
      "cell_type": "markdown",
      "source": [
        "### Entfernen spezifischer Stoppwörter\n",
        "Die Stoppwörter basieren auf der Liste von Latifi et al., (2024) und wurden manuell angepasst."
      ],
      "metadata": {
        "id": "Kwk0BC6OwImE"
      },
      "id": "Kwk0BC6OwImE"
    },
    {
      "cell_type": "code",
      "source": [
        "# Schritt 1: Einlesen der CSV mit spezifischen Stoppwörtern\n",
        "stopwords_df = pd.read_csv('self_filtered_stopwords_german_bundestag.csv', header=None)\n",
        "\n",
        "# Schritt 2: Extrahieren der lemmatisierten Stoppwörter aus der Tabelle\n",
        "lemmatized_stopwords = stopwords_df[2].drop(0).tolist()\n",
        "\n",
        "# Wörter vor der Entfernung spezifischer Stoppwörter zählen\n",
        "gesamt_wörter_vorher = data_lemmatized['text_preprocessed'].apply(lambda x: len(str(x).split())).sum()\n",
        "\n",
        "# Anwenden der Funktion auf die Spalte 'text_preprocessed'\n",
        "data_lemmatized['text_preprocessed_specific'] = data_lemmatized['text_preprocessed'].apply(remove_specific_stopwords)\n",
        "\n",
        "# Wörter nach der Entfernung spezifischer Stoppwörter zählen\n",
        "gesamt_wörter_nachher = data_lemmatized['text_preprocessed_specific'].apply(lambda x: len(str(x).split())).sum()\n",
        "\n",
        "# Schritt 6: Ergebnisse ausgeben\n",
        "entfernte_wörter = gesamt_wörter_vorher - gesamt_wörter_nachher\n",
        "print(f\"Vor der Entfernung spezifischer Stoppwörter umfasste der Datensatz {gesamt_wörter_vorher} Wörter.\")\n",
        "print(f\"Durch die Entfernung entfielen {entfernte_wörter} Wörter.\")\n",
        "print(f\"Somit umfasst der Korpus jetzt noch {gesamt_wörter_nachher} Wörter.\")"
      ],
      "metadata": {
        "colab": {
          "base_uri": "https://localhost:8080/"
        },
        "id": "XHalxO_8wPvm",
        "outputId": "086f3711-58ce-4898-bf61-6bbe13b8b0d5"
      },
      "id": "XHalxO_8wPvm",
      "execution_count": null,
      "outputs": [
        {
          "output_type": "stream",
          "name": "stdout",
          "text": [
            "Vor der Entfernung spezifischer Stoppwörter umfasste der Datensatz 8547157 Wörter.\n",
            "Durch die Entfernung entfielen 2217274 Wörter.\n",
            "Somit umfasst der Korpus jetzt noch 6329883 Wörter.\n"
          ]
        }
      ]
    },
    {
      "cell_type": "code",
      "source": [
        "text_length_specific = [len(i.split()) for i in data_lemmatized.text_preprocessed_specific] # Textlänge nach dem Bereinigen der Artikel\n",
        "\n",
        "data_lemmatized['länge_bereinigt_spezifisch'] = text_length_specific\n",
        "\n",
        "# Speichern in einer neuen .csv Datei\n",
        "data_lemmatized[['Datum', 'datum_jahr', 'datum_quartal', 'text_preprocessed_specific', 'länge_vorher', 'länge_bereinigt', 'länge_bereinigt_spezifisch']].to_csv(\n",
        "    'bereinigte_artikel_spezifisch.csv',\n",
        "    index=False\n",
        ")"
      ],
      "metadata": {
        "id": "5mZ7AE2b0rxC"
      },
      "id": "5mZ7AE2b0rxC",
      "execution_count": null,
      "outputs": []
    },
    {
      "cell_type": "markdown",
      "source": [
        "## Graphische Darstellung"
      ],
      "metadata": {
        "id": "fvRE0BIe1cU8"
      },
      "id": "fvRE0BIe1cU8"
    },
    {
      "cell_type": "code",
      "source": [
        "import matplotlib.pyplot as plt"
      ],
      "metadata": {
        "id": "lt9CGU5K4sWz"
      },
      "id": "lt9CGU5K4sWz",
      "execution_count": null,
      "outputs": []
    },
    {
      "cell_type": "code",
      "source": [
        "data_lemmatized = pd.read_csv('bereinigte_artikel_spezifisch.csv')\n",
        "\n",
        "# Definieren von Bins für Gruppen von 20 Tokens\n",
        "bin_edges = range(0, data_lemmatized[\"länge_vorher\"].max() + 20, 20)\n",
        "\n",
        "# Frequenzberechnung für jede Textlängenspalte\n",
        "freq_original = pd.cut(data_lemmatized[\"länge_vorher\"], bins=bin_edges).value_counts().sort_index()\n",
        "freq_nltk = pd.cut(data_lemmatized[\"länge_bereinigt\"], bins=bin_edges).value_counts().sort_index()\n",
        "freq_specific = pd.cut(data_lemmatized[\"länge_bereinigt_spezifisch\"], bins=bin_edges).value_counts().sort_index()\n",
        "\n",
        "# Mittelpunkte der Bins\n",
        "bin_midpoints = [interval.mid for interval in freq_original.index.categories]\n",
        "\n",
        "# Plot\n",
        "plt.figure(figsize=(12, 6))\n",
        "plt.bar(bin_midpoints, freq_original, width=18, label=\"Originale Artikellänge\", alpha=0.7, color='blue')\n",
        "plt.bar(bin_midpoints, freq_nltk, width=18, label=\"Länge nltk-Stoppwörter entfernt\", alpha=0.7, color='orange')\n",
        "plt.bar(bin_midpoints, freq_specific, width=18, label=\"Länge spezifische Stoppwörter entfernt\", alpha=0.7, color='green')\n",
        "\n",
        "# Achsenbeschriftungen und Titel\n",
        "plt.xlabel(\"Anzahl der Wörter im Artikel\", fontsize=12)\n",
        "plt.ylabel(\"Anzahl der Artikel\", fontsize=12)\n",
        "# plt.title(\"\", fontsize=14)\n",
        "plt.legend()\n",
        "plt.grid(alpha=0.3)\n",
        "# Begrenze die x-Achse auf 4000 Wörter\n",
        "plt.xlim(0, 4000)\n",
        "plt.tight_layout()\n",
        "\n",
        "# Speichern der Grafik\n",
        "plt.savefig('EDA_artikel_1.png', format='png', dpi=600)\n",
        "\n",
        "plt.show()"
      ],
      "metadata": {
        "colab": {
          "base_uri": "https://localhost:8080/",
          "height": 606
        },
        "id": "VdfgFd311ga1",
        "outputId": "b4a2dc9f-f19c-4fd8-c26c-70ed5510d244",
        "collapsed": true
      },
      "id": "VdfgFd311ga1",
      "execution_count": null,
      "outputs": [
        {
          "output_type": "display_data",
          "data": {
            "text/plain": [
              "<Figure size 1200x600 with 1 Axes>"
            ],
            "image/png": "[encoded data removed]"
          },
          "metadata": {}
        }
      ]
    }
  ],
  "metadata": {
    "kernelspec": {
      "display_name": "Python (ba_env)",
      "language": "python",
      "name": "ba_env"
    },
    "language_info": {
      "codemirror_mode": {
        "name": "ipython",
        "version": 3
      },
      "file_extension": ".py",
      "mimetype": "text/x-python",
      "name": "python",
      "nbconvert_exporter": "python",
      "pygments_lexer": "ipython3",
      "version": "3.11.10"
    },
    "colab": {
      "provenance": []
    }
  },
  "nbformat": 4,
  "nbformat_minor": 5
}