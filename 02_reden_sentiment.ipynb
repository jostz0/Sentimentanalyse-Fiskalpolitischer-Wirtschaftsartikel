{
  "nbformat": 4,
  "nbformat_minor": 0,
  "metadata": {
    "colab": {
      "provenance": [],
      "authorship_tag": "ABX9TyNgBPuqjC9hXWNaQ25lW426"
    },
    "kernelspec": {
      "name": "python3",
      "display_name": "Python 3"
    },
    "language_info": {
      "name": "python"
    }
  },
  "cells": [
    {
      "cell_type": "code",
      "execution_count": null,
      "metadata": {
        "id": "-FQkmw5pukmx"
      },
      "outputs": [],
      "source": [
        "import pandas as pd\n",
        "from sklearn.feature_extraction.text import CountVectorizer\n",
        "from scipy.interpolate import make_interp_spline\n",
        "import numpy as np\n",
        "from collections import Counter\n",
        "import matplotlib.pyplot as plt"
      ]
    },
    {
      "cell_type": "markdown",
      "source": [
        "## LNTWS Wörterbuch anwenden"
      ],
      "metadata": {
        "id": "dWM4gFP3qW12"
      }
    },
    {
      "cell_type": "markdown",
      "source": [
        "Laden der bereinigten Reden und der expansiven sowie restriktiven Uni- und Bigramme."
      ],
      "metadata": {
        "id": "2m6hw01bu2gk"
      }
    },
    {
      "cell_type": "code",
      "source": [
        "df = pd.read_csv('bereinigte_reden_spezifisch.csv')\n",
        "terms_df = pd.read_csv('scoring_modell.csv', delimiter=';')\n",
        "\n",
        "expansionary_terms = terms_df['expansive_terme'].dropna().tolist()\n",
        "contractionary_terms = terms_df['restriktive_terme'].dropna().tolist()\n",
        "expansionary_terms = [term.replace(\"_\", \" \") for term in expansionary_terms]\n",
        "contractionary_terms = [term.replace(\"_\", \" \") for term in contractionary_terms]\n",
        "print(len(df))"
      ],
      "metadata": {
        "id": "Gndou5zMuzKy"
      },
      "execution_count": null,
      "outputs": []
    },
    {
      "cell_type": "code",
      "source": [
        "# Definieren der Krisen und deren Zeiträume in datetime\n",
        "events = {\n",
        "    \"Dotcom-Blase\": (\"2001-02-01\", \"2003-06-30\"),\n",
        "    \"Weltwirtschaftskrise\": (\"2008-01-01\", \"2009-04-30\"),\n",
        "    \"Coronakrise\": (\"2019-09-01\", \"2020-04-30\")\n",
        "}"
      ],
      "metadata": {
        "id": "KlPyzcbTDzOz"
      },
      "execution_count": null,
      "outputs": []
    },
    {
      "cell_type": "markdown",
      "source": [
        "Zählen der Terme in den Reden."
      ],
      "metadata": {
        "id": "4CZ0UYYgvQzS"
      }
    },
    {
      "cell_type": "code",
      "source": [
        "# Funktion zur Extraktion der Terme (Uni- und Bigramme) mit Häufigkeiten\n",
        "def extract_terms_with_frequencies(text, term_list, ngram_range=(1, 2)):\n",
        "    vectorizer = CountVectorizer(ngram_range=ngram_range, vocabulary=term_list, token_pattern=r'\\b\\w+\\b')\n",
        "    term_counts = vectorizer.fit_transform([text]).toarray().flatten()\n",
        "    term_freq = {term: count for term, count in zip(term_list, term_counts) if count > 0}\n",
        "    return term_freq\n",
        "\n",
        "# Konvertiere die Spalte \"Datum\" in datetime-Format\n",
        "df['Datum'] = pd.to_datetime(df['Datum'], errors='coerce')  # Fehler mit NaN markieren\n",
        "df.dropna(subset=['Datum'], inplace=True)  # Fehler entfernen\n",
        "\n",
        "print(len(df))\n",
        "\n",
        "results = []\n",
        "\n",
        "for index, row in df.iterrows():\n",
        "    speech = row['text_preprocessed_specific'] # Text der Rede\n",
        "    date = row['Datum']  # Datum der Rede\n",
        "    year = row['datum_jahr'] # Jahr der Rede\n",
        "    quarter = row['datum_quartal'] # Quartal der Rede\n",
        "    month = row['Datum'].month  # Monat der Rede\n",
        "    total_words = row['länge_bereinigt_spezifisch']\n",
        "    speech_id = index + 1  # Nummerierung der Reden\n",
        "\n",
        "    # Extrahieren der expansiven und kontraktiven Terme mit ihren Häufigkeiten\n",
        "    expansive_terms_freq = extract_terms_with_frequencies(speech, expansionary_terms, ngram_range=(1, 2))\n",
        "    contractionary_terms_freq = extract_terms_with_frequencies(speech, contractionary_terms, ngram_range=(1, 2))\n",
        "\n",
        "    # Gesamtanzahl der gefundenen Terme\n",
        "    expansive_count = sum(expansive_terms_freq.values())\n",
        "    contractionary_count = sum(contractionary_terms_freq.values())\n",
        "    total_terms_found = expansive_count + contractionary_count\n",
        "\n",
        "    # Berechnung des Sentiment Scores\n",
        "    sentiment_score = (expansive_count - contractionary_count) / total_words if total_words > 0 else 0\n",
        "\n",
        "    # Ergebnisse in Liste einfügen\n",
        "    results.append({\n",
        "        'Datum': date,\n",
        "        'Jahr': year,\n",
        "        'Quartal': quarter,\n",
        "        'Monat': month,\n",
        "        'Gesamtanzahl Wörter': total_words,\n",
        "        'Insgesamt gefundene Terme': total_terms_found,\n",
        "        'Sentiment Score': sentiment_score,\n",
        "        'Gefundene expansive Terme': expansive_terms_freq,\n",
        "        'Gefundene kontraktive Terme': contractionary_terms_freq\n",
        "    })\n",
        "\n",
        "# Konvertieren der Ergebnisse in einen DataFrame\n",
        "results_df = pd.DataFrame(results)\n",
        "\n",
        "# Beispielhafte Ausgabe zur Kontrolle\n",
        "# print(results_df.head())"
      ],
      "metadata": {
        "id": "Z4aPQD0evUvG",
        "collapsed": true
      },
      "execution_count": null,
      "outputs": []
    },
    {
      "cell_type": "markdown",
      "source": [
        "Überprüfen, welche Terme am häufigsten im gesamten Korpus auftreten."
      ],
      "metadata": {
        "id": "StghLqWq-bzC"
      }
    },
    {
      "cell_type": "code",
      "source": [
        "# Summieren der Häufigkeiten der expansiven Terme über den gesamten Datensatz\n",
        "expansive_term_totals = {}\n",
        "for result in results:\n",
        "    for term, freq in result['Gefundene expansive Terme'].items():\n",
        "        expansive_term_totals[term] = expansive_term_totals.get(term, 0) + freq\n",
        "\n",
        "# Summieren der Häufigkeiten der kontraktiven Terme über den gesamten Datensatz\n",
        "contractionary_term_totals = {}\n",
        "for result in results:\n",
        "    for term, freq in result['Gefundene kontraktive Terme'].items():\n",
        "        contractionary_term_totals[term] = contractionary_term_totals.get(term, 0) + freq\n",
        "\n",
        "# Konvertieren der Ergebnisse in DataFrames\n",
        "expansive_terms_df = pd.DataFrame(list(expansive_term_totals.items()), columns=['expansive_terme', 'expansiv_häufigkeit'])\n",
        "contractionary_terms_df = pd.DataFrame(list(contractionary_term_totals.items()), columns=['restriktive_terme', 'restriktiv_häufigkeit'])\n",
        "\n",
        "# Verbinden beider Tabellen zu einer Übersichtstabelle\n",
        "final_df = pd.concat([expansive_terms_df, contractionary_terms_df], axis=1)\n",
        "\n",
        "# Beispielhafte Ausgabe der Übersichtstabelle\n",
        "print(final_df.head())"
      ],
      "metadata": {
        "id": "7HEA3tq-SYRi",
        "collapsed": true
      },
      "execution_count": null,
      "outputs": []
    },
    {
      "cell_type": "code",
      "source": [
        "# Exportieren der Häufigkeiten der einzelnen restriktiven und expansiven Terme\n",
        "final_df.to_csv('termhäufigkeit_reden.csv', index=False, sep=';')"
      ],
      "metadata": {
        "id": "rD18C20JSZGQ"
      },
      "execution_count": null,
      "outputs": []
    },
    {
      "cell_type": "markdown",
      "source": [
        "### Filtern der Reden\n",
        "Es werden nur die Reden behalten, die mindestens einen expansiven oder restriktiven Term enthalten."
      ],
      "metadata": {
        "id": "AKVXNuwG9Wnm"
      }
    },
    {
      "cell_type": "code",
      "source": [
        "# Filtern nur der Reden, die mindestens einen expansiven oder kontraktiven Begriff enthalten\n",
        "filtered_results_df = results_df[\n",
        "    (results_df['Gefundene expansive Terme'].apply(len) > 0) |\n",
        "    (results_df['Gefundene kontraktive Terme'].apply(len) > 0)\n",
        "]\n",
        "\n",
        "# Filtern der ursprünglichen Datei basierend auf dem Index der relevanten Reden\n",
        "filtered_df = df.loc[filtered_results_df.index]"
      ],
      "metadata": {
        "id": "WrWeYw0m9ewN"
      },
      "execution_count": null,
      "outputs": []
    },
    {
      "cell_type": "code",
      "source": [
        "# Speichern der gefilterten Reden in einer neuen Datei\n",
        "filtered_df.to_csv('reden_relevant.csv', index=False, encoding='utf-8')\n",
        "\n",
        "print(f\"Gefilterte Reden wurden gespeichert. Anzahl der Reden: {filtered_df.shape[0]}\")"
      ],
      "metadata": {
        "id": "ab2viFwyBHA_"
      },
      "execution_count": null,
      "outputs": []
    },
    {
      "cell_type": "code",
      "source": [
        "# Anzahl der herausgefallenen Reden\n",
        "dropped_speeches = results_df[\n",
        "    (results_df['Gefundene expansive Terme'].apply(len) == 0) &\n",
        "    (results_df['Gefundene kontraktive Terme'].apply(len) == 0)\n",
        "]\n",
        "\n",
        "print(f\"Anzahl der herausgefallenen Reden: {dropped_speeches.shape[0]}\")"
      ],
      "metadata": {
        "id": "QiNY490iBsx-"
      },
      "execution_count": null,
      "outputs": []
    },
    {
      "cell_type": "markdown",
      "source": [
        "Monatliches und quartalsweises Aggregieren der gefilterten Sentimentwerte."
      ],
      "metadata": {
        "id": "mieWXyKpA62i"
      }
    },
    {
      "cell_type": "code",
      "source": [
        "# Aggregieren der Scores quartalsweise (nur gefilterte Reden)\n",
        "sentiment_quarterly = filtered_results_df.groupby(['Jahr', 'Quartal'])[['Sentiment Score']].mean().reset_index()\n",
        "\n",
        "# Aggregieren der Scores monatlich (nur gefilterte Reden)\n",
        "sentiment_monthly = filtered_results_df.groupby(['Jahr', 'Monat'])[['Sentiment Score']].mean().reset_index()"
      ],
      "metadata": {
        "id": "lTy022I2A6IR"
      },
      "execution_count": null,
      "outputs": []
    },
    {
      "cell_type": "code",
      "source": [
        "# Speichern der Ergebnisse in einer CSV-Datei\n",
        "sentiment_quarterly.to_csv('reden_sentiment_relevant_quartal.csv', index=False)\n",
        "sentiment_monthly.to_csv('reden_sentiment_relevant_monat.csv', index=False)"
      ],
      "metadata": {
        "id": "ZvGpwtxDv5ek"
      },
      "execution_count": null,
      "outputs": []
    },
    {
      "cell_type": "markdown",
      "source": [
        "### Diagramm erstellen\n",
        "Erstellen eines Diagramms zur Veranschaulichung der Entwicklung des Sentiments in den Reden."
      ],
      "metadata": {
        "id": "w9b-vo6VwWvD"
      }
    },
    {
      "cell_type": "code",
      "source": [
        "sentiment_quarterly = pd.read_csv('reden_sentiment_relevant_quartal.csv')\n",
        "sentiment_monthly = pd.read_csv('reden_sentiment_relevant_monat.csv')"
      ],
      "metadata": {
        "id": "RhOOsETml7Ei"
      },
      "execution_count": null,
      "outputs": []
    },
    {
      "cell_type": "code",
      "source": [
        "# Konvertieren der Quartale und Monate in datetime-Format\n",
        "sentiment_quarterly['Datum'] = pd.PeriodIndex(\n",
        "    sentiment_quarterly['Jahr'].astype(int).astype(str) + 'Q' + sentiment_quarterly['Quartal'].astype(int).astype(str), freq='Q' # Convert 'Jahr' and 'Quartal' to integers before converting to strings\n",
        ").to_timestamp()\n",
        "\n",
        "sentiment_monthly['Datum'] = pd.to_datetime(\n",
        "    sentiment_monthly['Jahr'].astype(int).astype(str) + '-' + sentiment_monthly['Monat'].astype(str).str.zfill(2) + '-01')\n",
        "\n",
        "# Begrenzen der Daten auf den Zeitraum bis Ende Q3 2021\n",
        "end_date = pd.to_datetime(\"2021-09-30\")\n",
        "sentiment_quarterly = sentiment_quarterly[sentiment_quarterly['Datum'] <= end_date]\n",
        "sentiment_monthly = sentiment_monthly[sentiment_monthly['Datum'] <= end_date]\n",
        "\n",
        "# Erstellen des Plots\n",
        "plt.figure(figsize=(12, 6))\n",
        "\n",
        "# Plot für quartalsweises Sentiment\n",
        "plt.plot(sentiment_quarterly['Datum'], sentiment_quarterly['Sentiment Score'], label='LNTWS Sentiment der Artikel (quartalsweise)', color='darkgreen')\n",
        "\n",
        "# Plot für monatliches Sentiment\n",
        "plt.plot(sentiment_monthly['Datum'], sentiment_monthly['Sentiment Score'], label='LNTWS Sentiment der Artikel (monatlich)', color='darkseagreen')\n",
        "\n",
        "# Horizontale Linie für Neutralität\n",
        "plt.axhline(0, color='gray', linestyle='--', linewidth=0.8)\n",
        "\n",
        "# Markieren der Krisen mit roten Bereichen\n",
        "for event, (start_date, end_date) in events.items():\n",
        "    plt.axvspan(pd.to_datetime(start_date), pd.to_datetime(end_date), color='red', alpha=0.3)\n",
        "\n",
        "# Erstellen der xticks (jedes zweite Quartal)\n",
        "tick_dates = pd.date_range(start=sentiment_quarterly['Datum'].min(),\n",
        "                           end=sentiment_quarterly['Datum'].max(),\n",
        "                           freq='2Q')  # Jedes zweite Quartal\n",
        "tick_labels = [f\"{date.year}Q{(date.month // 3) or 4}\" for date in tick_dates]  # Dynamische Quartalslabels\n",
        "\n",
        "plt.xticks(ticks=tick_dates, labels=tick_labels, rotation=45)\n",
        "\n",
        "# Achsentitel und Beschriftungen\n",
        "plt.title('', fontsize=14)\n",
        "# plt.xlabel('Quartal', fontsize=12)\n",
        "plt.ylabel('Sentiment-Score', fontsize=12)\n",
        "plt.grid(alpha=0.3)\n",
        "# Einfügen der Legende\n",
        "plt.legend(loc='upper center', bbox_to_anchor=(0.5, -0.15), ncol=3, frameon=False)\n",
        "plt.tight_layout()\n",
        "\n",
        "# Speichern der Artikel\n",
        "plt.savefig('reden_sentiment_parteien_relevant.png', format='png', dpi=600)\n",
        "\n",
        "plt.show()"
      ],
      "metadata": {
        "id": "D7apcysEwdlq",
        "collapsed": true
      },
      "execution_count": null,
      "outputs": []
    },
    {
      "cell_type": "markdown",
      "source": [
        "### Vergleich mit BIP\n"
      ],
      "metadata": {
        "id": "CGdE6MQj0_ts"
      }
    },
    {
      "cell_type": "code",
      "source": [
        "# Lade die Datei mit den Veränderung des deutschen BIPs\n",
        "gdp_change_data = pd.read_csv('bip_veränderung.csv')\n",
        "\n",
        "# Funktion zur Umwandlung von Quartalen in Enddatum\n",
        "def convert_quarter_to_date(year, quarter):\n",
        "    if quarter == \"1. Quartal\":\n",
        "        return f\"{year}-03-31\"\n",
        "    elif quarter == \"2. Quartal\":\n",
        "        return f\"{year}-06-30\"\n",
        "    elif quarter == \"3. Quartal\":\n",
        "        return f\"{year}-09-30\"\n",
        "    elif quarter == \"4. Quartal\":\n",
        "        return f\"{year}-12-31\"\n",
        "    else:\n",
        "        return None  # Für unerwartete Werte\n",
        "\n",
        "# Erstellen einer neuen Spalte 'Date' mit dem Enddatum des Quartals\n",
        "gdp_change_data['Date'] = gdp_change_data.apply(\n",
        "    lambda row: convert_quarter_to_date(row['Year'], row['Quarter']),\n",
        "    axis=1\n",
        ")\n",
        "\n",
        "# Konvertieren der neuen 'Date'-Spalte in datetime-Format\n",
        "gdp_change_data['Date'] = pd.to_datetime(gdp_change_data['Date'], format='%Y-%m-%d')\n",
        "\n",
        "# Begrenzen der Daten auf den Zeitraum bis Ende Q3 2021\n",
        "end_date = pd.to_datetime(\"2021-09-30\")\n",
        "gdp_change_data = gdp_change_data[gdp_change_data['Date'] <= end_date]\n",
        "sentiment_quarterly = sentiment_quarterly[sentiment_quarterly['Datum'] <= end_date]\n",
        "\n",
        "# Sortieren der BIP-Daten nach Datum\n",
        "gdp_change_data = gdp_change_data.sort_values(by='Date')\n",
        "\n",
        "# Erstellen der Grafik\n",
        "fig, ax1 = plt.subplots(figsize=(12, 6))\n",
        "\n",
        "# Erstellen der xticks (jedes zweite Quartal)\n",
        "tick_dates = pd.date_range(start=sentiment_quarterly['Datum'].min(),\n",
        "                           end=sentiment_quarterly['Datum'].max(),\n",
        "                           freq='2Q')  # Jedes zweite Quartal\n",
        "tick_labels = [f\"{date.year}Q{(date.month // 3) or 4}\" for date in tick_dates]  # Dynamische Quartalslabels\n",
        "\n",
        "# Setzen der xticks und Labels\n",
        "plt.xticks(ticks=tick_dates, labels=tick_labels, rotation=45)\n",
        "\n",
        "# Plot für Sentiment\n",
        "line1, = ax1.plot(sentiment_quarterly['Datum'], sentiment_quarterly['Sentiment Score'],\n",
        "                  label='LNTWS Sentiment der Artikel (quartalsweise)', color='darkgreen')\n",
        "ax1.axhline(0, color='gray', linestyle='--', linewidth=0.8)\n",
        "ax1.set_ylabel('Sentiment-Score', color='darkgreen')\n",
        "ax1.tick_params(axis='y', labelcolor='darkgreen')\n",
        "ax1.grid(alpha=0.3)\n",
        "\n",
        "# Plot für die quartalsweise Veränderung des BIPs\n",
        "ax2 = ax1.twinx()\n",
        "line2, = ax2.plot(gdp_change_data['Date'], gdp_change_data['GDP Change %'],\n",
        "                  label='Veränderung des BIP in % (quartalsweise)', color='darkorange', linestyle='--')\n",
        "ax2.set_ylabel('BIP-Veränderung (%)', color='darkorange')\n",
        "ax2.tick_params(axis='y', labelcolor='darkorange')\n",
        "\n",
        "# Anpassen der y-Achse\n",
        "ax2.set_ylim([gdp_change_data['GDP Change %'].min() - 1, gdp_change_data['GDP Change %'].max() + 1])  # Example: add 1 to min/max for padding\n",
        "\n",
        "for event, (start_date, end_date) in events.items():\n",
        "    ax1.axvspan(pd.to_datetime(start_date), pd.to_datetime(end_date), color='red', alpha=0.3, label=f'{event} (Krise)')\n",
        "\n",
        "# Kombinieren der Legenden\n",
        "lines = [line1, line2]\n",
        "labels = [line.get_label() for line in lines]\n",
        "ax1.legend(lines, labels, loc='upper center', bbox_to_anchor=(0.5, -0.15), ncol=3, frameon=False)\n",
        "\n",
        "# Titel und Layout\n",
        "# plt.title('', fontsize=14)\n",
        "plt.tight_layout()\n",
        "\n",
        "# Speichern der Grafik\n",
        "plt.savefig('reden_vergleich_bip_relevant.png', format='png', dpi=600)\n",
        "\n",
        "# Zeige den Plot\n",
        "plt.show()"
      ],
      "metadata": {
        "id": "p7hcZwz61F9s",
        "collapsed": true
      },
      "execution_count": null,
      "outputs": []
    },
    {
      "cell_type": "markdown",
      "source": [
        "#### Korrelation mit BIP"
      ],
      "metadata": {
        "id": "qqfQnvjD_4aK"
      }
    },
    {
      "cell_type": "code",
      "source": [
        "# Laden der quartalsweisen Daten\n",
        "sentiment_quarterly = pd.read_csv('artikel_sentiment_quartal.csv')\n",
        "gdp_change_data = pd.read_csv('bip_veränderung.csv')"
      ],
      "metadata": {
        "id": "tG8gcXGoo6KR"
      },
      "execution_count": null,
      "outputs": []
    },
    {
      "cell_type": "code",
      "source": [
        "# Erstellen eines konsistenten Quartalsformats für die BIP-Daten\n",
        "def convert_quarter_to_numeric(quarter_str):\n",
        "     \"\"\"Konvertiert 'X. Quartal' in eine numerische Darstellung (1, 2, 3, 4).\"\"\"\n",
        "     return int(quarter_str.split('.')[0])\n",
        "\n",
        "gdp_change_data['Quarter'] = gdp_change_data['Quarter'].apply(convert_quarter_to_numeric)\n",
        "\n",
        "# Umwanldeln der 'Jahr' Spalte in int64 vor dem Verbiden\n",
        "sentiment_quarterly['Jahr'] = sentiment_quarterly['Jahr'].astype(int) # This line has been added to ensure both columns have the same data type.\n",
        "\n",
        "# Zusammenführen beider Datensätze anhand von Jahr und Quartal\n",
        "merged_data = pd.merge(\n",
        "    sentiment_quarterly[['Jahr', 'Quartal', 'Sentiment Score']],\n",
        "    gdp_change_data[['Year', 'Quarter', 'GDP Change %']],\n",
        "    left_on=['Jahr', 'Quartal'],\n",
        "    right_on=['Year', 'Quarter']\n",
        ")\n",
        "\n",
        "# Berechnen der Korrelation zwischen Sentiment Score und GDP Change %\n",
        "correlation = (merged_data['Sentiment Score']).corr(merged_data['GDP Change %'])\n",
        "\n",
        "print(f\"Korrelation zwischen Sentiment-Score und BIP-Veränderung: {correlation:.2f}\")\n",
        "\n",
        "# Streudiagramm der Korrelation\n",
        "plt.figure(figsize=(8, 6))\n",
        "plt.scatter(merged_data['Sentiment Score'], merged_data['GDP Change %'], alpha=0.7, color='darkgreen')\n",
        "plt.title('Zusammenhang zwischen Sentiment-Score und BIP-Veränderung', fontsize=14)\n",
        "plt.xlabel('Sentiment-Score')\n",
        "plt.ylabel('BIP-Veränderung (%)')\n",
        "plt.grid(alpha=0.3)\n",
        "plt.tight_layout()\n",
        "plt.show()"
      ],
      "metadata": {
        "id": "-mdELQVe_8vi",
        "collapsed": true
      },
      "execution_count": null,
      "outputs": []
    },
    {
      "cell_type": "markdown",
      "source": [
        "#### Lag-Analyse"
      ],
      "metadata": {
        "id": "D1RQBiJXHMpH"
      }
    },
    {
      "cell_type": "code",
      "source": [
        "# Funktion der Lag-Analyse\n",
        "def lag_analysis(data, max_lag, sentiment_column, gdp_column):\n",
        "    lag_results = []\n",
        "    for lag in range(-max_lag, max_lag + 1):  # Von negativem bis positivem Lag\n",
        "        if lag < 0:  # Sentiment führt das BIP an\n",
        "            lagged_sentiment = data[sentiment_column].shift(-lag)\n",
        "            correlation = data[gdp_column].corr(lagged_sentiment)\n",
        "        elif lag > 0:  # BIP führt das Sentiment an\n",
        "            lagged_gdp = data[gdp_column].shift(lag)\n",
        "            correlation = data[sentiment_column].corr(lagged_gdp)\n",
        "        else:  # Kein Lag, normale Korrelation\n",
        "            correlation = data[sentiment_column].corr(data[gdp_column])\n",
        "        lag_results.append({'Lag': lag, 'Correlation': correlation})\n",
        "\n",
        "    return pd.DataFrame(lag_results)\n",
        "\n",
        "# Durchführen der Lag-Analyse\n",
        "max_lag = 4  # Analysieren von bis zu 4 Quartale vor/nach\n",
        "lag_results = lag_analysis(merged_data, max_lag, 'Sentiment Score', 'GDP Change %')\n",
        "\n",
        "# Zeigen der Ergebnisse\n",
        "# print(lag_results)\n",
        "\n",
        "# Plot der Lag-Analyse\n",
        "plt.figure(figsize=(10, 6))\n",
        "plt.plot(lag_results['Lag'], lag_results['Correlation'], marker='o', linestyle='-', color='darkgreen')\n",
        "plt.axhline(0, color='gray', linestyle='--', linewidth=0.8)\n",
        "plt.title('Lag-Analyse: Korrelation zwischen Sentiment und BIP-Veränderung', fontsize=14)\n",
        "plt.xlabel('Lag (Quartale)', fontsize=12)\n",
        "plt.ylabel('Korrelation', fontsize=12)\n",
        "plt.grid(alpha=0.3)\n",
        "plt.tight_layout()\n",
        "\n",
        "# Speichern der Grafik\n",
        "plt.savefig('reden_bip_lag_relevant.png', format='png', dpi=600)\n",
        "\n",
        "# Anzeigen des Plots\n",
        "plt.show()"
      ],
      "metadata": {
        "id": "AZKYJLQuHPmL",
        "collapsed": true
      },
      "execution_count": null,
      "outputs": []
    },
    {
      "cell_type": "markdown",
      "source": [
        "#### Regressionsgrade"
      ],
      "metadata": {
        "id": "c7Pw8sd-xk45"
      }
    },
    {
      "cell_type": "code",
      "source": [
        "from sklearn.linear_model import LinearRegression\n",
        "import seaborn as sns"
      ],
      "metadata": {
        "id": "TBezbUTbx247"
      },
      "execution_count": null,
      "outputs": []
    },
    {
      "cell_type": "code",
      "source": [
        "# Regressionsanalyse\n",
        "X = merged_data[['Sentiment Score']]\n",
        "y = merged_data['GDP Change %']\n",
        "\n",
        "model = LinearRegression()\n",
        "model.fit(X, y)\n",
        "\n",
        "print(\"Koeffizienten:\", model.coef_)\n",
        "print(\"Intercept:\", model.intercept_)\n",
        "print(\"R^2-Score:\", model.score(X, y))"
      ],
      "metadata": {
        "id": "Lwbndkk-xvXC",
        "collapsed": true
      },
      "execution_count": null,
      "outputs": []
    },
    {
      "cell_type": "code",
      "source": [
        "# Scatterplot für Latifi et al. Score\n",
        "plt.figure(figsize=(10, 6))\n",
        "sns.scatterplot(x='Sentiment Score', y='GDP Change %', data=merged_data, label='Datenpunkte', color='darkgreen')  # Farbe auf darkgreen setzen\n",
        "\n",
        "# Berechnen der Regressionsgrade (für Sentiment Score)\n",
        "x_values = np.linspace(merged_data['Sentiment Score'].min(), merged_data['Sentiment Score'].max(), 100)\n",
        "y_pred = model.intercept_ + model.coef_[0] * x_values  # Nutze nur den Koeffizienten für 'Sentiment Score'\n",
        "plt.plot(x_values, y_pred, color='red', label='Regressionsgrade')\n",
        "\n",
        "# plt.title('LNTWS Score vs. BIP Veränderung %')\n",
        "plt.xlabel('LNTWS Sentiment der Reden (quartalsweise)')\n",
        "plt.ylabel('BIP Veränderung %')\n",
        "plt.legend()\n",
        "\n",
        "# Speichern der Grafik\n",
        "plt.savefig('regression_reden_relevant.png', format='png', dpi=600)\n",
        "\n",
        "plt.show()"
      ],
      "metadata": {
        "id": "V4AmtK79xndY",
        "collapsed": true
      },
      "execution_count": null,
      "outputs": []
    },
    {
      "cell_type": "markdown",
      "source": [
        "## BPWS Wörterbuch anwenden"
      ],
      "metadata": {
        "id": "wvuyPx3BrLm1"
      }
    },
    {
      "cell_type": "markdown",
      "source": [
        "Als Grundlage diente das Wörterbuch von Bannier et al., (2019) (https://www.uni-giessen.de/de/fbz/fb02/forschung/research-networks/bsfa/textual_analysis/index)"
      ],
      "metadata": {
        "id": "Ehx0JIyuzhO_"
      }
    },
    {
      "cell_type": "code",
      "source": [
        "# Laden der relevanten Reden\n",
        "speeches = pd.read_csv(\"reden_relevant.csv\")\n",
        "terms_df = pd.read_csv('bpws_wörterbuch.csv', delimiter=';')\n",
        "\n",
        "positives = terms_df['lemma_positiv'].dropna().tolist()\n",
        "negatives = terms_df['lemma_negativ'].dropna().tolist()"
      ],
      "metadata": {
        "id": "_J2nD6uerPgW"
      },
      "execution_count": null,
      "outputs": []
    },
    {
      "cell_type": "code",
      "source": [
        "# Funktion zur Berechnung des Sentiment-Scores\n",
        "def calculate_sentiment(text, positives, negatives):\n",
        "    lemmas = text.split()\n",
        "\n",
        "    # Zählen positiver und negativer Wörter\n",
        "    positive_count = sum(1 for lemma in lemmas if lemma in positives)\n",
        "    negative_count = sum(1 for lemma in lemmas if lemma in negatives)\n",
        "\n",
        "    # Berechnen des Sentiment-Scores\n",
        "    word_count = len(lemmas)\n",
        "    if word_count == 0:\n",
        "        return 0\n",
        "    bpw_score = (positive_count - negative_count) / word_count\n",
        "    return bpw_score\n",
        "\n",
        "# Berechnen des bpw-Scores für jede Rede\n",
        "speeches[\"BPW Score\"] = speeches[\"text_preprocessed_specific\"].apply(\n",
        "    lambda text: calculate_sentiment(text, positives, negatives)\n",
        ")\n",
        "\n",
        "# Beispielhafte Ausgabe zur Kontrolle\n",
        "print(speeches[[\"Datum\", \"BPW Score\"]].head())"
      ],
      "metadata": {
        "id": "zXQVt0TpruNN"
      },
      "execution_count": null,
      "outputs": []
    },
    {
      "cell_type": "code",
      "source": [
        "# Speichern der Ergebnisse in einer neuen Datei\n",
        "speeches.to_csv(\"reden_bpw_relevant_scores.csv\", index=False)"
      ],
      "metadata": {
        "id": "aL5K7Ep_r5fu"
      },
      "execution_count": null,
      "outputs": []
    },
    {
      "cell_type": "code",
      "source": [
        "# Konvertieren des Datums in ein datetime-Format mit dem Format 'DD.MM.YYYY'\n",
        "speeches['Datum'] = pd.to_datetime(speeches['Datum'], format='%Y-%m-%d')\n",
        "\n",
        "# Quartalsweise aggregieren und normalisieren\n",
        "speeches['Jahr'] = speeches['Datum'].dt.year\n",
        "speeches['Quartal'] = speeches['Datum'].dt.quarter  # Get quarter as numeric\n",
        "speeches['Monat'] = speeches['Datum'].dt.month\n",
        "\n",
        "# Aggregieren des Sentiments quartalsweise (und Durchschnitt bilden)\n",
        "bpw_quarterly = speeches.groupby(['Jahr', 'Quartal'])[['BPW Score']].mean().reset_index()\n",
        "bpw_monthly = speeches.groupby(['Jahr', 'Monat'])[['BPW Score']].mean().reset_index()\n",
        "\n",
        "bpw_quarterly.head()"
      ],
      "metadata": {
        "collapsed": true,
        "id": "QmcgSrcBr9l5"
      },
      "execution_count": null,
      "outputs": []
    },
    {
      "cell_type": "code",
      "source": [
        "# Speichern der Ergebnisse in einer neuen CSV-Datei\n",
        "bpw_quarterly.to_csv('reden_bpw_relevant_quartal.csv', index=False)\n",
        "bpw_monthly.to_csv('reden_bpw_relevant_monat.csv', index=False)"
      ],
      "metadata": {
        "id": "KImXsIclsFRc"
      },
      "execution_count": null,
      "outputs": []
    },
    {
      "cell_type": "markdown",
      "source": [
        "### Grafik erstellen"
      ],
      "metadata": {
        "id": "EbU26MEDte4K"
      }
    },
    {
      "cell_type": "markdown",
      "source": [
        "Plotten der mit dem BPWS ermittelten Senitmentsentwicklung in den Reden (monatlich und quartalsweise)"
      ],
      "metadata": {
        "id": "_U2r815VJ-Lq"
      }
    },
    {
      "cell_type": "code",
      "source": [
        "# Konvertieren der Quartale und Monate in datetime-Format\n",
        "bpw_quarterly['Datum'] = pd.PeriodIndex(\n",
        "    bpw_quarterly['Jahr'].astype(int).astype(str) + 'Q' + bpw_quarterly['Quartal'].astype(int).astype(str), freq='Q' # Convert 'Jahr' and 'Quartal' to integers before converting to strings\n",
        ").to_timestamp()\n",
        "\n",
        "bpw_monthly['Datum'] = pd.to_datetime(bpw_monthly['Jahr'].astype(int).astype(str) + '-' + bpw_monthly['Monat'].astype(str).str.zfill(2) + '-01')\n",
        "\n",
        "# Filtern der bpw-Daten\n",
        "end_date = pd.to_datetime(\"2021-09-30\")\n",
        "bpw_quarterly = bpw_quarterly[bpw_quarterly['Datum'] <= end_date]\n",
        "bpw_monthly = bpw_monthly[bpw_monthly['Datum'] <= end_date]\n",
        "\n",
        "# Erstellen des Plots\n",
        "plt.figure(figsize=(12, 6))\n",
        "\n",
        "# Plot für quartalsweises bpw\n",
        "plt.plot(bpw_quarterly['Datum'], bpw_quarterly['BPW Score'], label='BPW Sentiment der Reden (quartalsweise)', color='darkgreen')\n",
        "\n",
        "# Plot für monatliches Sentiment\n",
        "plt.plot(bpw_monthly['Datum'], bpw_monthly['BPW Score'], label='BPW Sentiment der Reden (monatlich)', color='darkseagreen')\n",
        "\n",
        "# Horizontale Linie für Neutralität\n",
        "plt.axhline(0, color='gray', linestyle='--', linewidth=0.8)\n",
        "\n",
        "# Markieren der Ereignisse mit roten Bereichen\n",
        "for event, (start_date, end_date) in events.items():\n",
        "    plt.axvspan(pd.to_datetime(start_date), pd.to_datetime(end_date), color='red', alpha=0.3)\n",
        "\n",
        "# Erstellen der xticks (jedes zweite Quartal)\n",
        "tick_dates = pd.date_range(start=bpw_quarterly['Datum'].min(),\n",
        "                           end=bpw_quarterly['Datum'].max(),\n",
        "                           freq='2Q')  # Jedes zweite Quartal\n",
        "tick_labels = [f\"{date.year}Q{(date.month // 3) or 4}\" for date in tick_dates]  # Dynamische Quartalslabels\n",
        "\n",
        "# Setzen der xticks und Labels\n",
        "plt.xticks(ticks=tick_dates, labels=tick_labels, rotation=45)\n",
        "\n",
        "# Achsentitel und Beschriftungen\n",
        "plt.title('', fontsize=14)\n",
        "# plt.xlabel('Quartal', fontsize=12)\n",
        "plt.ylabel('Sentiment-Score', fontsize=12)\n",
        "plt.grid(alpha=0.3)\n",
        "# Einfügen der Legende\n",
        "plt.legend(loc='upper center', bbox_to_anchor=(0.5, -0.15), ncol=3, frameon=False)\n",
        "plt.tight_layout()\n",
        "\n",
        "# Speichern der Artikel\n",
        "plt.savefig('reden_bpw_relevant.png', format='png', dpi=600)\n",
        "\n",
        "plt.show()"
      ],
      "metadata": {
        "id": "TLXmer7VsLDl",
        "collapsed": true
      },
      "execution_count": null,
      "outputs": []
    },
    {
      "cell_type": "markdown",
      "source": [
        "### Vergleich mit ifo-Geschäftsklimaindex"
      ],
      "metadata": {
        "id": "6Hgy1X2OslXD"
      }
    },
    {
      "cell_type": "code",
      "source": [
        "# Definieren der Ereignisse und deren Zeiträume in datetime\n",
        "events = {\n",
        "    # \"Dotcom-Blase\": (\"2001-02-01\", \"2003-06-30\"),\n",
        "    \"Weltwirtschaftskrise\": (\"2008-01-01\", \"2009-04-30\"),\n",
        "    \"Coronakrise\": (\"2019-09-01\", \"2020-04-30\")\n",
        "}"
      ],
      "metadata": {
        "id": "qIblTbaXsqTE"
      },
      "execution_count": null,
      "outputs": []
    },
    {
      "cell_type": "markdown",
      "source": [
        "Monatlich"
      ],
      "metadata": {
        "id": "DkLJ4To8K3CY"
      }
    },
    {
      "cell_type": "code",
      "source": [
        "bpw_monthly = pd.read_csv('reden_bpw_relevant_monat.csv')"
      ],
      "metadata": {
        "id": "6Z0mZz3uuBlu"
      },
      "execution_count": null,
      "outputs": []
    },
    {
      "cell_type": "code",
      "source": [
        "# Begrenzen der Daten auf den entdprechenden Zeitraum\n",
        "end_date = pd.to_datetime(\"2021-09-30\")\n",
        "start_date = pd.to_datetime(\"2005-01-01\")\n",
        "\n",
        "# Datei mit ifo-Geschäftsklimaindex laden\n",
        "file_path = \"ifo-Geschäftsklima.xlsx\"\n",
        "ifo_data = pd.read_excel(file_path)\n",
        "\n",
        "# Konvertieren der Spalte \"Monat/Jahr\" in datetime-Format\n",
        "ifo_data['Datum'] = pd.to_datetime(ifo_data['Monat/Jahr'], format=' %m/%Y')\n",
        "\n",
        "# Sortieren der Daten nach Datum\n",
        "ifo_data = ifo_data.sort_values(by='Datum')\n",
        "ifo_data = ifo_data[ifo_data['Datum'] <= end_date]\n",
        "\n",
        "# Konvertieren der Quartale und Monate in datetime-Format\n",
        "bpw_monthly['Datum'] = pd.to_datetime(\n",
        "    bpw_monthly['Jahr'].astype(int).astype(str) + '-' + bpw_monthly['Monat'].astype(str).str.zfill(2) + '-01'\n",
        ")\n",
        "\n",
        "# Filtern der bpw-Daten\n",
        "bpw_monthly = bpw_monthly[(bpw_monthly['Datum'] >= start_date) & (bpw_monthly['Datum'] <= end_date)]\n",
        "\n",
        "# Erstellen einer Grafik\n",
        "fig, ax1 = plt.subplots(figsize=(12, 6))\n",
        "\n",
        "# Erstellen der xticks (jedes zweite Quartal)\n",
        "tick_dates = pd.date_range(start=bpw_monthly['Datum'].min(),\n",
        "                           end=bpw_monthly['Datum'].max(),\n",
        "                           freq='2Q')  # Jedes zweite Quartal\n",
        "tick_labels = [f\"{date.year}Q{(date.month // 3) or 4}\" for date in tick_dates]  # Dynamische Quartalslabels\n",
        "\n",
        "# Setzen der xticks und Labels\n",
        "plt.xticks(ticks=tick_dates, labels=tick_labels, rotation=45)\n",
        "\n",
        "# Plot für monatliches Sentiment\n",
        "line1, = ax1.plot(bpw_monthly['Datum'], bpw_monthly['BPW Score'], label='BPW Sentiment der Reden (monatlich)', color='darkseagreen')\n",
        "ax1.axhline(0, color='gray', linestyle='--', linewidth=0.8)\n",
        "ax1.set_ylabel('Sentiment-Score', color='darkseagreen')\n",
        "ax1.tick_params(axis='y', labelcolor='darkseagreen')\n",
        "ax1.grid(alpha=0.3)\n",
        "\n",
        "# Plot für den ifo-Geschäftsklimaindex (monatlich)\n",
        "ax2 = ax1.twinx()\n",
        "line2, = ax2.plot(ifo_data['Datum'], ifo_data['geschäftsklima-veränderung'],\n",
        "                  label='ifo-Geschäftsklimaindex (monatlich)', color='tomato')\n",
        "ax2.set_ylabel('ifo-Geschäftsklimaindex', color='tomato')\n",
        "ax2.tick_params(axis='y', labelcolor='tomato')\n",
        "\n",
        "for event, (start_date, end_date) in events.items():\n",
        "    ax1.axvspan(pd.to_datetime(start_date), pd.to_datetime(end_date), color='red', alpha=0.3, label=f'{event} (Krise)')\n",
        "\n",
        "# Kombinieren der Legenden\n",
        "lines = [line1, line2]\n",
        "labels = [line.get_label() for line in lines]\n",
        "ax1.legend(lines, labels, loc='upper center', bbox_to_anchor=(0.5, -0.15), ncol=3, frameon=False)\n",
        "\n",
        "# Titel und Layout\n",
        "plt.title('', fontsize=14)\n",
        "plt.tight_layout()\n",
        "\n",
        "# Speichern der Grafik\n",
        "plt.savefig('reden_ifo_relevant_m.png', format='png', dpi=600)\n",
        "\n",
        "# Zeigen des Plots\n",
        "plt.show()"
      ],
      "metadata": {
        "id": "0jGonzRxst5s",
        "collapsed": true
      },
      "execution_count": null,
      "outputs": []
    },
    {
      "cell_type": "markdown",
      "source": [
        "Quartalsweise"
      ],
      "metadata": {
        "id": "yNsTtYAAK5ZC"
      }
    },
    {
      "cell_type": "code",
      "source": [
        "bpw_quarterly = pd.read_csv('reden_bpw_relevant_quartal.csv')"
      ],
      "metadata": {
        "id": "gtng9GVJwXOz"
      },
      "execution_count": null,
      "outputs": []
    },
    {
      "cell_type": "code",
      "source": [
        "# Begrenzen der Daten auf den Zeitraum bis Ende Q3 2021\n",
        "end_date = pd.to_datetime(\"2021-09-30\")\n",
        "start_date = pd.to_datetime(\"2005-01-01\")\n",
        "\n",
        "# Laden des ifo-Geschäftsklimaindex und konvertieren von 'Datum' in datetime-Format\n",
        "file_path = \"ifo-Geschäftsklima.xlsx\"\n",
        "ifo_data = pd.read_excel(file_path)\n",
        "ifo_data['Datum'] = pd.to_datetime(ifo_data['Monat/Jahr'], format=' %m/%Y')\n",
        "\n",
        "ifo_data = ifo_data[ifo_data['Datum'] <= end_date]\n",
        "\n",
        "# Konvertieren von 'Datum' in Quartale\n",
        "ifo_data['Quartal'] = ifo_data['Datum'].dt.to_period('Q')\n",
        "\n",
        "# Aggregieren des Geschäftsklimaindex quartalsweise (Mittelwert pro Quartal)\n",
        "ifo_quarterly = ifo_data.groupby('Quartal')['geschäftsklima-veränderung'].mean().reset_index()\n",
        "\n",
        "# Konvertieren der Quartale in Timestamps für den Plot\n",
        "ifo_quarterly['Datum'] = ifo_quarterly['Quartal'].dt.to_timestamp()\n",
        "\n",
        "# Konvertieren der Quartale und Monate in datetime-Format\n",
        "bpw_quarterly['Datum'] = pd.PeriodIndex(\n",
        "    bpw_quarterly['Jahr'].astype(int).astype(str) + 'Q' + bpw_quarterly['Quartal'].astype(int).astype(str), freq='Q' # Convert 'Jahr' and 'Quartal' to integers before converting to strings\n",
        ").to_timestamp()\n",
        "\n",
        "# Filtern der bpw-Daten\n",
        "bpw_quarterly = bpw_quarterly[(bpw_quarterly['Datum'] >= start_date) & (bpw_quarterly['Datum'] <= end_date)]\n",
        "\n",
        "# Erstellen der Grafik\n",
        "fig, ax1 = plt.subplots(figsize=(12, 6))\n",
        "\n",
        "# Erstellen der xticks (jedes zweite Quartal)\n",
        "tick_dates = pd.date_range(start=bpw_quarterly['Datum'].min(),\n",
        "                           end=bpw_quarterly['Datum'].max(),\n",
        "                           freq='2Q')  # Jedes zweite Quartal\n",
        "tick_labels = [f\"{date.year}Q{(date.month // 3) or 4}\" for date in tick_dates]  # Dynamische Quartalslabels\n",
        "\n",
        "# Setzen der xticks und Labels\n",
        "plt.xticks(ticks=tick_dates, labels=tick_labels, rotation=45)\n",
        "\n",
        "# Plot für monatliches Sentiment\n",
        "line1, = ax1.plot(bpw_quarterly['Datum'], bpw_quarterly['BPW Score'], label='BPW Sentiment der Reden (quartalsweise)', color='darkgreen')\n",
        "ax1.axhline(0, color='gray', linestyle='--', linewidth=0.8)\n",
        "ax1.set_ylabel('Sentiment-Score', color='darkgreen')\n",
        "ax1.tick_params(axis='y', labelcolor='darkgreen')\n",
        "ax1.grid(alpha=0.3)\n",
        "\n",
        "# Plot für den ifo-Geschäftsklimaindex\n",
        "ax2 = ax1.twinx()\n",
        "line2, = ax2.plot(ifo_quarterly['Datum'], ifo_quarterly['geschäftsklima-veränderung'], label='ifo-Geschäftsklimaindex (quartalsweise)', color='maroon')\n",
        "ax2.set_ylabel('ifo-Geschäftsklimaindex', color='maroon')\n",
        "ax2.tick_params(axis='y', labelcolor='maroon')\n",
        "\n",
        "for event, (start_date, end_date) in events.items():\n",
        "    ax1.axvspan(pd.to_datetime(start_date), pd.to_datetime(end_date), color='red', alpha=0.3, label=f'{event} (Krise)')\n",
        "\n",
        "# Kombiniere die Legenden\n",
        "lines = [line1, line2]\n",
        "labels = [line.get_label() for line in lines]\n",
        "ax1.legend(lines, labels, loc='upper center', bbox_to_anchor=(0.5, -0.15), ncol=3, frameon=False)\n",
        "\n",
        "# Titel und Layout\n",
        "plt.title('', fontsize=14)\n",
        "plt.tight_layout()\n",
        "\n",
        "# Speichern der Grafik\n",
        "plt.savefig('reden_ifo_relevant_q.png', format='png', dpi=600)\n",
        "\n",
        "# Zeige den Plot\n",
        "plt.show()"
      ],
      "metadata": {
        "id": "2f9b6c6vs1Rv",
        "collapsed": true
      },
      "execution_count": null,
      "outputs": []
    },
    {
      "cell_type": "markdown",
      "source": [
        "### Korrelation mit der Entwicklung des ifo-Geschäftsklimaindex"
      ],
      "metadata": {
        "id": "5baGxPFPtreE"
      }
    },
    {
      "cell_type": "code",
      "source": [
        "# Konvertieren der Datumsangaben in datetime-Format\n",
        "bpw_monthly['Datum'] = pd.to_datetime(bpw_monthly['Datum'])\n",
        "bpw_quarterly['Datum'] = pd.to_datetime(bpw_quarterly['Datum'])\n",
        "ifo_data['Datum'] = pd.to_datetime(ifo_data['Monat/Jahr'], format=' %m/%Y')\n",
        "\n",
        "# Filtern des Zeitraums von Januar 2005 bis September 2021\n",
        "start_date = pd.to_datetime(\"2005-01-01\")\n",
        "end_date = pd.to_datetime(\"2021-09-30\")\n",
        "\n",
        "bpw_monthly = bpw_monthly[(bpw_monthly['Datum'] >= start_date) & (bpw_monthly['Datum'] <= end_date)]\n",
        "bpw_quarterly = bpw_quarterly[(bpw_quarterly['Datum'] >= start_date) & (bpw_quarterly['Datum'] <= end_date)]\n",
        "ifo_data = ifo_data[(ifo_data['Datum'] >= start_date) & (ifo_data['Datum'] <= end_date)]\n",
        "\n",
        "# Berechnen der Korrelation für monatliche Daten\n",
        "monthly_merged = pd.merge(\n",
        "    bpw_monthly[['Datum', 'BPW Score']],\n",
        "    ifo_data[['Datum', 'geschäftsklima-veränderung']],\n",
        "    on='Datum'\n",
        ")\n",
        "\n",
        "monthly_correlation = monthly_merged['BPW Score'].corr(monthly_merged['geschäftsklima-veränderung'])\n",
        "\n",
        "# Berechnen der Korrelation für quartalsweise Daten\n",
        "bpw_quarterly['Quartal'] = bpw_quarterly['Datum'].dt.to_period('Q')\n",
        "ifo_data['Quartal'] = ifo_data['Datum'].dt.to_period('Q')\n",
        "\n",
        "quarterly_merged = pd.merge(\n",
        "    bpw_quarterly[['Quartal', 'BPW Score']],\n",
        "    ifo_data.groupby('Quartal')['geschäftsklima-veränderung'].mean().reset_index(),\n",
        "    on='Quartal'\n",
        ")\n",
        "\n",
        "quarterly_correlation = quarterly_merged['BPW Score'].corr(quarterly_merged['geschäftsklima-veränderung'])\n",
        "\n",
        "# Ausgabe der Korrelationswerte\n",
        "print(f\"Korrelation (monatlich): {monthly_correlation:.2f}\")\n",
        "print(f\"Korrelation (quartalsweise): {quarterly_correlation:.2f}\")"
      ],
      "metadata": {
        "id": "pxZ85ckftxoQ"
      },
      "execution_count": null,
      "outputs": []
    },
    {
      "cell_type": "code",
      "source": [
        "# Berechnung der Lag-Korrelationen\n",
        "def calculate_lag_correlation(data, score_col, index_col, target_col, lags):\n",
        "    correlations = []\n",
        "    for lag in lags:\n",
        "        shifted = data.copy()\n",
        "        shifted[score_col] = shifted[score_col].shift(lag)\n",
        "        corr = shifted[score_col].corr(shifted[target_col])\n",
        "        correlations.append({'Lag': lag, 'Correlation': corr})\n",
        "    return pd.DataFrame(correlations)\n",
        "\n",
        "# Lags definieren\n",
        "lags = range(-4, 5)  # Lags von -4 bis +4\n",
        "\n",
        "# Berechnung der monatlichen Korrelationen\n",
        "monthly_correlation_data = calculate_lag_correlation(\n",
        "    data=monthly_merged,\n",
        "    score_col='BPW Score',\n",
        "    index_col='Datum',\n",
        "    target_col='geschäftsklima-veränderung',\n",
        "    lags=lags\n",
        ")\n",
        "\n",
        "# Berechnung der quartalsweisen Korrelationen\n",
        "quarterly_correlation_data = calculate_lag_correlation(\n",
        "    data=quarterly_merged,\n",
        "    score_col='BPW Score',\n",
        "    index_col='Quartal',\n",
        "    target_col='geschäftsklima-veränderung',\n",
        "    lags=lags\n",
        ")\n",
        "\n",
        "# Plot der Lag-Analyse (monatlich)\n",
        "plt.figure(figsize=(12, 6))\n",
        "plt.plot(monthly_correlation_data['Lag'], monthly_correlation_data['Correlation'], marker='o', color='darkseagreen')\n",
        "plt.axhline(0, color='gray', linestyle='--', linewidth=0.8)\n",
        "# plt.title('Lag-Analyse: Monatliche Sentiment- und ifo-Geschäftsklima-Korrelation', fontsize=14)\n",
        "plt.xlabel('Lag (Monate)', fontsize=12)\n",
        "plt.ylabel('Korrelation', fontsize=12)\n",
        "plt.grid(alpha=0.3)\n",
        "plt.legend()\n",
        "plt.tight_layout()\n",
        "plt.savefig('lag_reden_relevant_m.png', dpi=600)\n",
        "plt.show()\n",
        "\n",
        "# Plot der Lag-Analyse (quartalsweise)\n",
        "plt.figure(figsize=(12, 6))\n",
        "plt.plot(quarterly_correlation_data['Lag'], quarterly_correlation_data['Correlation'], marker='o', color='darkgreen')\n",
        "plt.axhline(0, color='gray', linestyle='--', linewidth=0.8)\n",
        "# plt.title('Lag-Analyse: Quartalsweise Sentiment- und ifo-Geschäftsklima-Korrelation', fontsize=14)\n",
        "plt.xlabel('Lag (Quartale)', fontsize=12)\n",
        "plt.ylabel('Korrelation', fontsize=12)\n",
        "plt.grid(alpha=0.3)\n",
        "plt.legend()\n",
        "plt.tight_layout()\n",
        "plt.savefig('lag_reden_relevant_q.png', dpi=600)\n",
        "plt.show()"
      ],
      "metadata": {
        "id": "SLgUTAUOt6Ek",
        "collapsed": true
      },
      "execution_count": null,
      "outputs": []
    },
    {
      "cell_type": "markdown",
      "source": [
        "## Häufigkeit der Reden über die Zeit"
      ],
      "metadata": {
        "id": "qRCkbx3urB1X"
      }
    },
    {
      "cell_type": "code",
      "source": [
        "from scipy.interpolate import make_interp_spline"
      ],
      "metadata": {
        "id": "4hlWafINV0oA"
      },
      "execution_count": null,
      "outputs": []
    },
    {
      "cell_type": "markdown",
      "source": [
        "### Häufigskeitverteilung pro Monat"
      ],
      "metadata": {
        "id": "xLzzS63yIQWc"
      }
    },
    {
      "cell_type": "code",
      "source": [
        "# Laden der Daten\n",
        "df = pd.read_csv('bereinigte_reden_spezifisch.csv')"
      ],
      "metadata": {
        "id": "3bNaQfFprOT9"
      },
      "execution_count": null,
      "outputs": []
    },
    {
      "cell_type": "code",
      "source": [
        "# Konvertieren des Datums in datetime-Format\n",
        "df['Datum'] = pd.to_datetime(df['Datum'], format='%Y-%m-%d')\n",
        "\n",
        "# Extrahiere Jahr, Quartal und Monat\n",
        "df['datum_monat'] = df['Datum'].dt.month\n",
        "df['jahr_quartal'] = df['datum_jahr'].astype(str) + 'Q' + df['datum_quartal'].astype(str)\n",
        "\n",
        "reden_pro_monat = df.groupby(['datum_jahr', 'datum_monat']).size()\n",
        "reden_pro_monat.index = pd.to_datetime([f\"{year}-{month}-01\" for year, month in reden_pro_monat.index])\n",
        "\n",
        "# Erstellen der xticks für Jahr-Quartal\n",
        "tick_dates = pd.date_range(start=reden_pro_monat.index.min(),\n",
        "                           end=reden_pro_monat.index.max(),\n",
        "                           freq='2Q')  # Jedes zweite Quartal\n",
        "tick_labels = [f\"{date.year}Q{(date.month // 3) or 4}\" for date in tick_dates]\n",
        "\n",
        "# Plot\n",
        "plt.figure(figsize=(12, 6))\n",
        "\n",
        "# Markieren der Ereignisse mit roten Bereichen\n",
        "for event, (start_date, end_date) in events.items():\n",
        "    plt.axvspan(pd.to_datetime(start_date), pd.to_datetime(end_date), color='red', alpha=0.3)\n",
        "\n",
        "plt.bar(reden_pro_monat.index, reden_pro_monat.values, width=20, color='darkseagreen')\n",
        "\n",
        "# Setzen der xticks und Labels\n",
        "plt.xticks(ticks=tick_dates, labels=tick_labels, rotation=45)\n",
        "\n",
        "# Beschriftungen und Titel\n",
        "plt.ylabel('Anzahl der Reden', fontsize=12)\n",
        "# plt.title('Anzahl der Titelseiten pro Monat', fontsize=14)\n",
        "# plt.legend(loc='upper right')\n",
        "plt.grid(axis='y', alpha=0.3)\n",
        "plt.tight_layout()\n",
        "\n",
        "# Speichern der Grafik\n",
        "plt.savefig('reden_monat_relevant.png', format='png', dpi=600)\n",
        "\n",
        "plt.show()"
      ],
      "metadata": {
        "id": "LI5aEMsPVtil",
        "collapsed": true
      },
      "execution_count": null,
      "outputs": []
    },
    {
      "cell_type": "markdown",
      "source": [
        "### Häufigskeitverteilung pro Quartal"
      ],
      "metadata": {
        "id": "9nwcmaEyIVdg"
      }
    },
    {
      "cell_type": "code",
      "source": [
        "# Kombinieren von Jahr und Quartal zu einer neuen Spalte 'jahr_quartal' im Format YYYYQX\n",
        "df['jahr_quartal'] = df['datum_jahr'].astype(str) + 'Q' + df['datum_quartal'].astype(str)\n",
        "\n",
        "# Zählen der Anzahl an Reden pro Quartal\n",
        "reden_pro_quartal = df.groupby('jahr_quartal').size()\n",
        "\n",
        "# Sortieren nach Quartalen\n",
        "reden_pro_quartal = reden_pro_quartal.sort_index()\n",
        "\n",
        "reden_pro_quartal.index = pd.PeriodIndex(reden_pro_quartal.index, freq='Q').to_timestamp()\n",
        "\n",
        "# Erstellen der xticks für Jahr-Quartal\n",
        "tick_dates = pd.date_range(start=reden_pro_quartal.index.min(),\n",
        "                           end=reden_pro_quartal.index.max(),\n",
        "                           freq='2Q')  # Jedes zweite Quartal\n",
        "tick_labels = [f\"{date.year}Q{(date.month // 3) or 4}\" for date in tick_dates]\n",
        "\n",
        "# Plot\n",
        "plt.figure(figsize=(12, 6))\n",
        "\n",
        "# Markieren der Ereignisse mit roten Bereichen\n",
        "for event, (start_date, end_date) in events.items():\n",
        "    plt.axvspan(pd.to_datetime(start_date), pd.to_datetime(end_date), color='red', alpha=0.3)\n",
        "\n",
        "# Plot\n",
        "plt.bar(reden_pro_quartal.index, reden_pro_quartal.values, width=80, color='darkgreen')\n",
        "\n",
        "# Setzen der xticks und Labels\n",
        "plt.xticks(ticks=tick_dates, labels=tick_labels, rotation=45)\n",
        "\n",
        "# Beschriftungen und Titel\n",
        "plt.ylabel('Anzahl der Reden', fontsize=12)\n",
        "# plt.title('Anzahl der Titelseiten pro Monat', fontsize=14)\n",
        "# plt.legend(loc='upper right')\n",
        "plt.grid(axis='y', alpha=0.3)\n",
        "plt.tight_layout()\n",
        "\n",
        "# Speichern der Grafik\n",
        "plt.savefig('reden_quartal_relevant.png', format='png', dpi=600)\n",
        "\n",
        "plt.show()"
      ],
      "metadata": {
        "collapsed": true,
        "id": "kPHiHurEZ1b_"
      },
      "execution_count": null,
      "outputs": []
    }
  ]
}