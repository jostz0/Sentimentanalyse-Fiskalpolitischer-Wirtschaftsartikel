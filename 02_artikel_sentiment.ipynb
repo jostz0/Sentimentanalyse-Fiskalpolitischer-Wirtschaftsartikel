{
  "nbformat": 4,
  "nbformat_minor": 0,
  "metadata": {
    "colab": {
      "provenance": []
    },
    "kernelspec": {
      "name": "python3",
      "display_name": "Python 3"
    },
    "language_info": {
      "name": "python"
    }
  },
  "cells": [
    {
      "cell_type": "code",
      "execution_count": null,
      "metadata": {
        "id": "-FQkmw5pukmx"
      },
      "outputs": [],
      "source": [
        "import pandas as pd\n",
        "from sklearn.feature_extraction.text import CountVectorizer\n",
        "from scipy.interpolate import make_interp_spline\n",
        "from scipy.stats import pearsonr\n",
        "import numpy as np\n",
        "import seaborn as sns\n",
        "from collections import Counter\n",
        "import matplotlib.pyplot as plt"
      ]
    },
    {
      "cell_type": "markdown",
      "source": [
        "## LNTWS Wörterbuch anwenden"
      ],
      "metadata": {
        "id": "7x80g-jeNAr9"
      }
    },
    {
      "cell_type": "markdown",
      "source": [
        "Laden der bereinigten Artikel und der expansiven sowie restriktiven Uni- und Bigramme."
      ],
      "metadata": {
        "id": "2m6hw01bu2gk"
      }
    },
    {
      "cell_type": "code",
      "source": [
        "df = pd.read_csv('bereinigte_artikel_spezifisch.csv')\n",
        "terms_df = pd.read_csv('lntws_wörterbuch.csv', delimiter=';')\n",
        "\n",
        "expansionary_terms = terms_df['expansive_terme'].dropna().tolist()\n",
        "contractionary_terms = terms_df['restriktive_terme'].dropna().tolist()\n",
        "expansionary_terms = [term.replace(\"_\", \" \") for term in expansionary_terms]\n",
        "contractionary_terms = [term.replace(\"_\", \" \") for term in contractionary_terms]\n",
        "print(len(df))"
      ],
      "metadata": {
        "id": "Gndou5zMuzKy"
      },
      "execution_count": null,
      "outputs": []
    },
    {
      "cell_type": "code",
      "source": [
        "# Definieren der Ereignisse und deren Zeiträume in datetime\n",
        "events = {\n",
        "    \"Dotcom-Blase\": (\"2001-02-01\", \"2003-06-30\"),\n",
        "    \"Weltwirtschaftskrise\": (\"2008-01-01\", \"2009-04-30\"),\n",
        "    \"Coronakrise\": (\"2019-09-01\", \"2020-04-30\")\n",
        "}"
      ],
      "metadata": {
        "id": "Tzz0UhN0aof7"
      },
      "execution_count": null,
      "outputs": []
    },
    {
      "cell_type": "markdown",
      "source": [
        "Zählen der Terme in den Artikeln."
      ],
      "metadata": {
        "id": "4CZ0UYYgvQzS"
      }
    },
    {
      "cell_type": "code",
      "source": [
        "# Funktion zur Extraktion der Terme mit Häufigkeiten\n",
        "def extract_terms_with_frequencies(text, term_list, ngram_range=(1, 2)):\n",
        "    vectorizer = CountVectorizer(ngram_range=ngram_range, vocabulary=term_list, token_pattern=r'\\b\\w+\\b')\n",
        "    term_counts = vectorizer.fit_transform([text]).toarray().flatten()\n",
        "    term_freq = {term: count for term, count in zip(term_list, term_counts) if count > 0}\n",
        "    return term_freq\n",
        "\n",
        "# Beispiel: Konvertiere die Spalte \"Datum\" in datetime\n",
        "df['Datum'] = pd.to_datetime(df['Datum'], format='%Y-%m-%d')\n",
        "\n",
        "# Liste zur Speicherung der Ergebnisse\n",
        "results = []\n",
        "\n",
        "for index, row in df.iterrows():\n",
        "    article = row['text_preprocessed_specific']\n",
        "    date = row['Datum']  # Datum des Artikels\n",
        "    year = row['datum_jahr'] # Jahr des Artikels\n",
        "    quarter = row['datum_quartal'] # Quartal des Artikels\n",
        "    month = row['Datum'].month  # Monat des Artikels\n",
        "    total_words = row['länge_bereinigt_spezifisch']\n",
        "    article_id = index + 1  # Nummerierung der Artikel\n",
        "\n",
        "    # Gesamtanzahl der Wörter in den jeweiligen Artikeln\n",
        "    #total_words = len(article.split())\n",
        "\n",
        "    # Extrahiere expansive und kontraktive Terme mit ihren Häufigkeiten\n",
        "    expansive_terms_freq = extract_terms_with_frequencies(article, expansionary_terms, ngram_range=(1, 2))\n",
        "    contractionary_terms_freq = extract_terms_with_frequencies(article, contractionary_terms, ngram_range=(1, 2))\n",
        "\n",
        "    # Berechne die Summe der expansiven und kontraktiven Terme\n",
        "    expansive_count = sum(expansive_terms_freq.values())\n",
        "    contractionary_count = sum(contractionary_terms_freq.values())\n",
        "\n",
        "    # Gesamtanzahl der gefundenen Terme\n",
        "    total_terms_found = expansive_count + contractionary_count\n",
        "\n",
        "    # Berechnung des Sentiment Scores\n",
        "    sentiment_score = (expansive_count - contractionary_count) / total_words if total_words > 0 else 0\n",
        "\n",
        "    # Füge die Ergebnisse in die Liste ein\n",
        "    results.append({\n",
        "        'Datum': date,\n",
        "        'Jahr': year,\n",
        "        'Quartal': quarter,\n",
        "        'Monat': month,\n",
        "        'Gesamtanzahl Wörter': total_words,\n",
        "        'Insgesamt gefundene Terme': total_terms_found,\n",
        "        'Sentiment Score': sentiment_score,\n",
        "        'Gefundene expansive Terme': expansive_terms_freq,\n",
        "        'Gefundene kontraktive Terme': contractionary_terms_freq\n",
        "    })\n",
        "\n",
        "# Konvertiere die Ergebnisse in einen DataFrame\n",
        "results_df = pd.DataFrame(results)\n",
        "\n",
        "# Beispielhafte Ausgabe zur Kontrolle\n",
        "print(results_df.head())"
      ],
      "metadata": {
        "id": "Z4aPQD0evUvG",
        "collapsed": true
      },
      "execution_count": null,
      "outputs": []
    },
    {
      "cell_type": "markdown",
      "source": [
        "Überprüfen, welche Terme am häufigsten im gesamten Korpus auftreten."
      ],
      "metadata": {
        "id": "8dABGpHzj8--"
      }
    },
    {
      "cell_type": "code",
      "source": [
        "# Summieren der Häufigkeiten der expansiven Terme über den gesamten Datensatz\n",
        "expansive_term_totals = {}\n",
        "for result in results:\n",
        "    for term, freq in result['Gefundene expansive Terme'].items():\n",
        "        expansive_term_totals[term] = expansive_term_totals.get(term, 0) + freq\n",
        "\n",
        "# Summieren der Häufigkeiten der kontraktiven Terme über den gesamten Datensatz\n",
        "contractionary_term_totals = {}\n",
        "for result in results:\n",
        "    for term, freq in result['Gefundene kontraktive Terme'].items():\n",
        "        contractionary_term_totals[term] = contractionary_term_totals.get(term, 0) + freq\n",
        "\n",
        "# Konvertieren der Ergebnisse in DataFrames\n",
        "expansive_terms_df = pd.DataFrame(list(expansive_term_totals.items()), columns=['expansive_terme', 'expansiv_häufigkeit'])\n",
        "contractionary_terms_df = pd.DataFrame(list(contractionary_term_totals.items()), columns=['restriktive_terme', 'restriktiv_häufigkeit'])\n",
        "\n",
        "# Verbinden beider Tabellen zu einer Übersichtstabelle\n",
        "final_df = pd.concat([expansive_terms_df, contractionary_terms_df], axis=1)\n",
        "\n",
        "# Beispielhafte Ausgabe der Übersichtstabelle\n",
        "print(final_df.head())"
      ],
      "metadata": {
        "id": "YggDQxB-M54X",
        "collapsed": true
      },
      "execution_count": null,
      "outputs": []
    },
    {
      "cell_type": "code",
      "source": [
        "# Exportieren der Häufigkeiten der einzelnen restriktiven und expansiven Terme\n",
        "final_df.to_csv('termhäufigkeit_artikel.csv', index=False, sep=';')"
      ],
      "metadata": {
        "id": "1SgGzuhYOhcT"
      },
      "execution_count": null,
      "outputs": []
    },
    {
      "cell_type": "markdown",
      "source": [
        "### Filtern der Artikel\n",
        "Es werden nur die Artikel behalten, die mindestens einen expansiven oder restriktiven Term enthalten."
      ],
      "metadata": {
        "id": "ZZB_xn0IkJ8C"
      }
    },
    {
      "cell_type": "code",
      "source": [
        "# Filtern nur der Artikel, die mindestens einen expansiven oder kontraktiven Begriff enthalten\n",
        "filtered_results_df = results_df[\n",
        "    (results_df['Gefundene expansive Terme'].apply(len) > 0) |\n",
        "    (results_df['Gefundene kontraktive Terme'].apply(len) > 0)\n",
        "]\n",
        "\n",
        "# Filtern der ursprünglichen Datei basierend auf dem Index der relevanten Artikel\n",
        "filtered_df = df.loc[filtered_results_df.index]"
      ],
      "metadata": {
        "id": "4oTNZT4T4-2Y"
      },
      "execution_count": null,
      "outputs": []
    },
    {
      "cell_type": "code",
      "source": [
        "# Speichern der gefilterten Artikel in einer neuen Datei\n",
        "filtered_df.to_csv('artikel_relevant.csv', index=False, encoding='utf-8')\n",
        "\n",
        "print(f\"Gefilterte Artikel wurden gespeichert. Anzahl der Artikel: {filtered_df.shape[0]}\")"
      ],
      "metadata": {
        "id": "GLZhFt_TGKmr"
      },
      "execution_count": null,
      "outputs": []
    },
    {
      "cell_type": "code",
      "source": [
        "# Anzahl der herausgefallenen Artikel\n",
        "dropped_articles = results_df[\n",
        "    (results_df['Gefundene expansive Terme'].apply(len) == 0) &\n",
        "    (results_df['Gefundene kontraktive Terme'].apply(len) == 0)\n",
        "]\n",
        "\n",
        "print(f\"Anzahl der herausgefallenen Artikel: {dropped_articles.shape[0]}\")"
      ],
      "metadata": {
        "id": "A_3nAW7g6FPV"
      },
      "execution_count": null,
      "outputs": []
    },
    {
      "cell_type": "markdown",
      "source": [
        "Monatliches und quartalsweises Aggregieren der gefilterten Sentimentwerte."
      ],
      "metadata": {
        "id": "uXWcMRoRlNe2"
      }
    },
    {
      "cell_type": "code",
      "source": [
        "# Aggregieren der Scores quartalsweise (nur gefilterte Artikel)\n",
        "sentiment_quarterly = filtered_results_df.groupby(['Jahr', 'Quartal'])[['Sentiment Score']].mean().reset_index()\n",
        "\n",
        "# Aggregieren der Scores monatlich (nur gefilterte Artikel)\n",
        "sentiment_monthly = filtered_results_df.groupby(['Jahr', 'Monat'])[['Sentiment Score']].mean().reset_index()"
      ],
      "metadata": {
        "id": "m9TPPl0Bkrip"
      },
      "execution_count": null,
      "outputs": []
    },
    {
      "cell_type": "code",
      "source": [
        "# Speichern der Ergebnisse in einer CSV-Datei\n",
        "sentiment_quarterly.to_csv('artikel_sentiment_lntws_quartal.csv', index=False)\n",
        "sentiment_monthly.to_csv('artikel_sentiment_lntws_monat.csv', index=False)"
      ],
      "metadata": {
        "id": "ZvGpwtxDv5ek"
      },
      "execution_count": null,
      "outputs": []
    },
    {
      "cell_type": "markdown",
      "source": [
        "#### Artikel mit extremen Sentimentwerten (LNTWS)"
      ],
      "metadata": {
        "id": "lkcjBWZbm196"
      }
    },
    {
      "cell_type": "code",
      "source": [
        "# Bestimmen der 3 Monate mit den höchsten Sentimentwerten\n",
        "top_3_months = sentiment_monthly.nlargest(3, 'Sentiment Score')[['Datum', 'Sentiment Score']]\n",
        "\n",
        "# Bestimmen der 3 Monate mit den niedrigsten Sentimentwerten\n",
        "bottom_3_months = sentiment_monthly.nsmallest(3, 'Sentiment Score')[['Datum', 'Sentiment Score']]\n",
        "\n",
        "# Ausgabe der Ergebnisse\n",
        "print(\"Top 3 Monate mit höchsten Sentimentwerten:\")\n",
        "print(top_3_months)\n",
        "\n",
        "print(\"\\nTop 3 Monate mit niedrigsten Sentimentwerten:\")\n",
        "print(bottom_3_months)"
      ],
      "metadata": {
        "id": "8E7-aIX0yFVV",
        "collapsed": true
      },
      "execution_count": null,
      "outputs": []
    },
    {
      "cell_type": "markdown",
      "source": [
        "### Diagramm erstellen\n",
        "Erstellen eines Diagramms zur Veranschaulichung der Entwicklung des Sentiments in den Wirtschaftsartikeln."
      ],
      "metadata": {
        "id": "w9b-vo6VwWvD"
      }
    },
    {
      "cell_type": "code",
      "source": [
        "sentiment_quarterly = pd.read_csv('artikel_sentiment_lntws_quartal.csv')\n",
        "sentiment_monthly = pd.read_csv('artikel_sentiment_lntws_monat.csv')"
      ],
      "metadata": {
        "id": "XU4t_Go1ZepJ"
      },
      "execution_count": null,
      "outputs": []
    },
    {
      "cell_type": "code",
      "source": [
        "# Konvertieren der Quartale und Monate in datetime-Format\n",
        "sentiment_quarterly['Datum'] = pd.PeriodIndex(\n",
        "    sentiment_quarterly['Jahr'].astype(str) + 'Q' + sentiment_quarterly['Quartal'].astype(str), freq='Q'\n",
        ").to_timestamp()\n",
        "\n",
        "sentiment_monthly['Datum'] = pd.to_datetime(\n",
        "    sentiment_monthly['Jahr'].astype(str) + '-' + sentiment_monthly['Monat'].astype(str).str.zfill(2) + '-01')\n",
        "\n",
        "# Filtern der Sentiment-Daten\n",
        "end_date = pd.to_datetime(\"2021-09-30\")\n",
        "sentiment_quarterly = sentiment_quarterly[sentiment_quarterly['Datum'] <= end_date]\n",
        "sentiment_monthly = sentiment_monthly[sentiment_monthly['Datum'] <= end_date]\n",
        "\n",
        "# Erstellen des Plots\n",
        "plt.figure(figsize=(12, 6))\n",
        "\n",
        "# Plot für quartalsweises Sentiment\n",
        "plt.plot(sentiment_quarterly['Datum'], sentiment_quarterly['Sentiment Score'], label='LNTWS Sentiment der Artikel (quartalsweise)', color='blue')\n",
        "\n",
        "# Plot für monatliches Sentiment\n",
        "plt.plot(sentiment_monthly['Datum'], sentiment_monthly['Sentiment Score'], label='LNTWS Sentiment der Artikel (monatlich)', color='cornflowerblue')\n",
        "\n",
        "# Horizontale Linie für Neutralität\n",
        "plt.axhline(0, color='gray', linestyle='--', linewidth=0.8)\n",
        "\n",
        "# Markieren der Ereignisse mit roten Bereichen\n",
        "for event, (start_date, end_date) in events.items():\n",
        "    plt.axvspan(pd.to_datetime(start_date), pd.to_datetime(end_date), color='red', alpha=0.3)\n",
        "\n",
        "# Erstellen der xticks (jedes zweite Quartal)\n",
        "tick_dates = pd.date_range(start=sentiment_quarterly['Datum'].min(),\n",
        "                           end=sentiment_quarterly['Datum'].max(),\n",
        "                           freq='2Q')  # Jedes zweite Quartal\n",
        "tick_labels = [f\"{date.year}Q{(date.month // 3) or 4}\" for date in tick_dates]  # Dynamische Quartalslabels\n",
        "\n",
        "plt.xticks(ticks=tick_dates, labels=tick_labels, rotation=45)\n",
        "\n",
        "# Achsentitel und Beschriftungen\n",
        "plt.title('', fontsize=14)\n",
        "# plt.xlabel('Quartal', fontsize=12)\n",
        "plt.ylabel('Sentiment-Score', fontsize=12)\n",
        "plt.grid(alpha=0.3)\n",
        "# Einfügen der Legende\n",
        "plt.legend(loc='upper center', bbox_to_anchor=(0.5, -0.15), ncol=3, frameon=False)\n",
        "plt.tight_layout()\n",
        "\n",
        "# Speichern der Artikel\n",
        "plt.savefig('artikel_sentiment_relevant.png', format='png', dpi=600)\n",
        "\n",
        "plt.show()"
      ],
      "metadata": {
        "id": "D7apcysEwdlq",
        "collapsed": true
      },
      "execution_count": null,
      "outputs": []
    },
    {
      "cell_type": "markdown",
      "source": [
        "### Vergleich mit BIP"
      ],
      "metadata": {
        "id": "CGdE6MQj0_ts"
      }
    },
    {
      "cell_type": "code",
      "source": [
        "# Lade die Datei mit den GDP Change-Daten\n",
        "gdp_change_data = pd.read_csv('bip_veränderung.csv')\n",
        "\n",
        "# Funktion zur Umwandlung von Quartalen in Enddatum\n",
        "def convert_quarter_to_date(year, quarter):\n",
        "    if quarter == \"1. Quartal\":\n",
        "        return f\"{year}-03-31\"\n",
        "    elif quarter == \"2. Quartal\":\n",
        "        return f\"{year}-06-30\"\n",
        "    elif quarter == \"3. Quartal\":\n",
        "        return f\"{year}-09-30\"\n",
        "    elif quarter == \"4. Quartal\":\n",
        "        return f\"{year}-12-31\"\n",
        "    else:\n",
        "        return None  # Für unerwartete Werte\n",
        "\n",
        "# Erstellen einer neue Spalte 'Date' mit dem Enddatum des Quartals\n",
        "gdp_change_data['Date'] = gdp_change_data.apply(\n",
        "    lambda row: convert_quarter_to_date(row['Year'], row['Quarter']),\n",
        "    axis=1\n",
        ")\n",
        "\n",
        "# Konvertieren der neuen 'Date'-Spalte in datetime-Format\n",
        "gdp_change_data['Date'] = pd.to_datetime(gdp_change_data['Date'], format='%Y-%m-%d')\n",
        "\n",
        "# Begrenzen der Daten auf den Zeitraum bis Ende Q3 2021\n",
        "end_date = pd.to_datetime(\"2021-09-30\")\n",
        "gdp_change_data = gdp_change_data[gdp_change_data['Date'] <= end_date]\n",
        "sentiment_quarterly = sentiment_quarterly[sentiment_quarterly['Datum'] <= end_date]\n",
        "\n",
        "# Sortieren der BIP-Daten nach Datum\n",
        "gdp_change_data = gdp_change_data.sort_values(by='Date')\n",
        "\n",
        "# Erstellen der Grafik\n",
        "fig, ax1 = plt.subplots(figsize=(12, 6))\n",
        "\n",
        "# Erstellen der xticks (jedes zweite Quartal)\n",
        "tick_dates = pd.date_range(start=sentiment_quarterly['Datum'].min(),\n",
        "                           end=sentiment_quarterly['Datum'].max(),\n",
        "                           freq='2Q')  # Jedes zweite Quartal\n",
        "tick_labels = [f\"{date.year}Q{(date.month // 3) or 4}\" for date in tick_dates]  # Dynamische Quartalslabels\n",
        "\n",
        "# Setzen der xticks und Labels\n",
        "plt.xticks(ticks=tick_dates, labels=tick_labels, rotation=45)\n",
        "\n",
        "# Plot für Sentiment\n",
        "line1, = ax1.plot(sentiment_quarterly['Datum'], sentiment_quarterly['Sentiment Score'],\n",
        "                  label='LNTWS Sentiment der Artikel (quartalsweise)', color='blue')\n",
        "ax1.axhline(0, color='gray', linestyle='--', linewidth=0.8)\n",
        "ax1.set_ylabel('Sentiment-Score', color='blue')\n",
        "ax1.tick_params(axis='y', labelcolor='blue')\n",
        "ax1.grid(alpha=0.3)\n",
        "\n",
        "# Plot für die quartalsweise Veränderung des BIPs\n",
        "ax2 = ax1.twinx()\n",
        "line2, = ax2.plot(gdp_change_data['Date'], gdp_change_data['GDP Change %'],\n",
        "                  label='Veränderung des BIP in % (quartalsweise)', color='darkorange', linestyle='--')\n",
        "ax2.set_ylabel('BIP-Veränderung (%)', color='darkorange')\n",
        "ax2.tick_params(axis='y', labelcolor='darkorange')\n",
        "\n",
        "# Anpassen der y-Achse\n",
        "ax2.set_ylim([gdp_change_data['GDP Change %'].min() - 1, gdp_change_data['GDP Change %'].max() + 1])  # Example: add 1 to min/max for padding\n",
        "\n",
        "for event, (start_date, end_date) in events.items():\n",
        "    ax1.axvspan(pd.to_datetime(start_date), pd.to_datetime(end_date), color='red', alpha=0.3, label=f'{event} (Krise)')\n",
        "\n",
        "# Kombinieren der Legenden\n",
        "lines = [line1, line2]\n",
        "labels = [line.get_label() for line in lines]\n",
        "ax1.legend(lines, labels, loc='upper center', bbox_to_anchor=(0.5, -0.15), ncol=3, frameon=False)\n",
        "\n",
        "# Titel und Layout\n",
        "# plt.title('', fontsize=14)\n",
        "plt.tight_layout()\n",
        "\n",
        "# Speichern der Grafik\n",
        "plt.savefig('artikel_vergleich_bip_relevant.png', format='png', dpi=600)\n",
        "\n",
        "# Zeige den Plot\n",
        "plt.show()"
      ],
      "metadata": {
        "id": "p7hcZwz61F9s",
        "collapsed": true
      },
      "execution_count": null,
      "outputs": []
    },
    {
      "cell_type": "markdown",
      "source": [
        "#### Korrelation mit BIP"
      ],
      "metadata": {
        "id": "qqfQnvjD_4aK"
      }
    },
    {
      "cell_type": "code",
      "source": [
        "# Laden der quartalsweisen Daten\n",
        "sentiment_quarterly = pd.read_csv('artikel_lntws_relevant_quartal.csv')\n",
        "gdp_change_data = pd.read_csv('bip_veränderung.csv')"
      ],
      "metadata": {
        "id": "x4SI_ca2o3bT"
      },
      "execution_count": null,
      "outputs": []
    },
    {
      "cell_type": "code",
      "source": [
        "# Erstellen eines konsistenten Quartalsformats für die BIP-Daten\n",
        "def convert_quarter_to_numeric(quarter_str):\n",
        "    \"\"\"Konvertiert 'X. Quartal' in eine numerische Darstellung (1, 2, 3, 4).\"\"\"\n",
        "    return int(quarter_str.split('.')[0])\n",
        "\n",
        "gdp_change_data['Quarter'] = gdp_change_data['Quarter'].apply(convert_quarter_to_numeric)\n",
        "\n",
        "# Zusammenführen beider Datensätze anhand von Jahr und Quartal zusammen\n",
        "merged_data = pd.merge(\n",
        "    sentiment_quarterly[['Jahr', 'Quartal', 'Sentiment Score']],\n",
        "    gdp_change_data[['Year', 'Quarter', 'GDP Change %']],\n",
        "    left_on=['Jahr', 'Quartal'],\n",
        "    right_on=['Year', 'Quarter']\n",
        ")\n",
        "\n",
        "# Berechnen der Korrelation zwischen Sentiment Score und GDP Change %\n",
        "correlation = (merged_data['Sentiment Score']).corr(merged_data['GDP Change %'])\n",
        "\n",
        "print(f\"Korrelation zwischen Sentiment-Score und BIP-Veränderung: {correlation:.2f}\")\n",
        "\n",
        "# Streudiagramm der Korrelation\n",
        "plt.figure(figsize=(8, 6))\n",
        "plt.scatter(merged_data['Sentiment Score'], merged_data['GDP Change %'], alpha=0.7, color='blue')\n",
        "plt.title('Zusammenhang zwischen Sentiment-Score und BIP-Veränderung', fontsize=14)\n",
        "plt.xlabel('Sentiment-Score')\n",
        "plt.ylabel('BIP-Veränderung (%)')\n",
        "plt.grid(alpha=0.3)\n",
        "plt.tight_layout()\n",
        "plt.show()"
      ],
      "metadata": {
        "id": "-mdELQVe_8vi",
        "collapsed": true
      },
      "execution_count": null,
      "outputs": []
    },
    {
      "cell_type": "markdown",
      "source": [
        "#### Lag-Analyse"
      ],
      "metadata": {
        "id": "D1RQBiJXHMpH"
      }
    },
    {
      "cell_type": "code",
      "source": [
        "# Funktion der Lag-Analyse\n",
        "def lag_analysis(data, max_lag, sentiment_column, gdp_column):\n",
        "    lag_results = []\n",
        "    for lag in range(-max_lag, max_lag + 1):  # Von negativem bis positivem Lag\n",
        "        if lag < 0:  # Sentiment führt das BIP an\n",
        "            lagged_sentiment = data[sentiment_column].shift(-lag)\n",
        "            correlation = data[gdp_column].corr(lagged_sentiment)\n",
        "        elif lag > 0:  # BIP führt das Sentiment an\n",
        "            lagged_gdp = data[gdp_column].shift(lag)\n",
        "            correlation = data[sentiment_column].corr(lagged_gdp)\n",
        "        else:  # Kein Lag, normale Korrelation\n",
        "            correlation = data[sentiment_column].corr(data[gdp_column])\n",
        "        lag_results.append({'Lag': lag, 'Correlation': correlation})\n",
        "\n",
        "    return pd.DataFrame(lag_results)\n",
        "\n",
        "# Durchführen der Lag-Analyse\n",
        "max_lag = 4  # Analysiere bis zu 4 Quartale vor/nach\n",
        "lag_results = lag_analysis(merged_data, max_lag, 'Sentiment Score', 'GDP Change %')\n",
        "\n",
        "# Zeigen der Ergebnisse\n",
        "# print(lag_results)\n",
        "\n",
        "# Plot der Lag-Analyse\n",
        "plt.figure(figsize=(10, 6))\n",
        "plt.plot(lag_results['Lag'], lag_results['Correlation'], marker='o', linestyle='-', color='blue')\n",
        "plt.axhline(0, color='gray', linestyle='--', linewidth=0.8)\n",
        "plt.title('Lag-Analyse: Korrelation zwischen Sentiment und BIP-Veränderung', fontsize=14)\n",
        "plt.xlabel('Lag (Quartale)', fontsize=12)\n",
        "plt.ylabel('Korrelation', fontsize=12)\n",
        "plt.grid(alpha=0.3)\n",
        "plt.tight_layout()\n",
        "\n",
        "# Speichern der Grafik\n",
        "plt.savefig('artikel_bip_lag_relevant.png', format='png', dpi=600)\n",
        "\n",
        "# Anzeigen des Plots\n",
        "plt.show()"
      ],
      "metadata": {
        "id": "AZKYJLQuHPmL",
        "collapsed": true
      },
      "execution_count": null,
      "outputs": []
    },
    {
      "cell_type": "markdown",
      "source": [
        "Analyse nur in Krisenzeiten (und zwei Quartale vor- und nachher)"
      ],
      "metadata": {
        "id": "mZhDRA5rY-ZP"
      }
    },
    {
      "cell_type": "code",
      "source": [
        "# Datumskonvertierungen\n",
        "sentiment_quarterly['Datum'] = pd.PeriodIndex(\n",
        "    sentiment_quarterly['Jahr'].astype(str) + 'Q' + sentiment_quarterly['Quartal'].astype(str), freq='Q'\n",
        ").to_timestamp()\n",
        "\n",
        "# Konsistentes Quartalsformat für BIP-Daten\n",
        "def convert_quarter_to_numeric(quarter_str):\n",
        "    return int(quarter_str.split('.')[0])\n",
        "\n",
        "gdp_change_data['Quarter'] = gdp_change_data['Quarter'].apply(convert_quarter_to_numeric)\n",
        "\n",
        "# Merge des Sentiments und der BIP-Daten\n",
        "merged_data = pd.merge(\n",
        "    sentiment_quarterly[['Datum', 'Jahr', 'Quartal', 'Sentiment Score']],\n",
        "    gdp_change_data[['Year', 'Quarter', 'GDP Change %']],\n",
        "    left_on=['Jahr', 'Quartal'],\n",
        "    right_on=['Year', 'Quarter']\n",
        ")\n",
        "\n",
        "def extend_event_period(start_date, end_date, quarters=2):\n",
        "    \"\"\"Erweitert einen Zeitraum um eine definierte Anzahl an Quartalen davor und danach.\"\"\"\n",
        "    start = pd.Timestamp(start_date) - pd.offsets.QuarterBegin(quarters)\n",
        "    end = pd.Timestamp(end_date) + pd.offsets.QuarterEnd(quarters)\n",
        "    return start, end\n",
        "\n",
        "# Lag-Analyse-Funktion\n",
        "def lag_analysis(data, max_lag, sentiment_column, gdp_column):\n",
        "    lag_results = []\n",
        "    for lag in range(-max_lag, max_lag + 1):\n",
        "        if lag < 0:\n",
        "            lagged_sentiment = data[sentiment_column].shift(-lag)\n",
        "            correlation = data[gdp_column].corr(lagged_sentiment)\n",
        "        elif lag > 0:\n",
        "            lagged_gdp = data[gdp_column].shift(lag)\n",
        "            correlation = data[sentiment_column].corr(lagged_gdp)\n",
        "        else:\n",
        "            correlation = data[sentiment_column].corr(data[gdp_column])\n",
        "        lag_results.append({'Lag': lag, 'Correlation': correlation})\n",
        "    return pd.DataFrame(lag_results)\n",
        "\n",
        "max_lag = 4\n",
        "\n",
        "all_event_periods = []\n",
        "\n",
        "for start, end in events.values():\n",
        "    extended_start, extended_end = extend_event_period(start, end)\n",
        "    all_event_periods.append((extended_start, extended_end))\n",
        "\n",
        "# Kombinierte Daten für alle Krisenzeiträume filtern\n",
        "combined_data = pd.DataFrame()\n",
        "\n",
        "for start, end in all_event_periods:\n",
        "    filtered_data = merged_data[\n",
        "        (merged_data['Datum'] >= start) & (merged_data['Datum'] <= end)\n",
        "    ]\n",
        "    combined_data = pd.concat([combined_data, filtered_data])\n",
        "\n",
        "# Lag-Analyse für kombinierte Daten durchführen\n",
        "combined_lag_results = lag_analysis(combined_data, max_lag, 'Sentiment Score', 'GDP Change %')\n",
        "\n",
        "# Plot der kombinierten Lag-Analyse\n",
        "plt.figure(figsize=(10, 6))\n",
        "plt.plot(combined_lag_results['Lag'], combined_lag_results['Correlation'], marker='o', linestyle='-', color='blue')\n",
        "plt.axhline(0, color='gray', linestyle='--', linewidth=0.8)\n",
        "# plt.title('Lag-Analyse: Alle Krisenzeiträume kombiniert', fontsize=14)\n",
        "plt.xlabel('Lag (Quartale)', fontsize=12)\n",
        "plt.ylabel('Korrelation', fontsize=12)\n",
        "plt.grid(alpha=0.3)\n",
        "plt.tight_layout()\n",
        "\n",
        "# Speichern der Grafik\n",
        "plt.savefig('artikel_bip_lag_relevant_krisen.png', format='png', dpi=600)\n",
        "\n",
        "# Anzeigen des Plots\n",
        "plt.show()"
      ],
      "metadata": {
        "id": "0S2SwnsPZV7f",
        "collapsed": true
      },
      "execution_count": null,
      "outputs": []
    },
    {
      "cell_type": "markdown",
      "source": [
        "#### Regressionsgrade"
      ],
      "metadata": {
        "id": "c7Pw8sd-xk45"
      }
    },
    {
      "cell_type": "code",
      "source": [
        "from sklearn.linear_model import LinearRegression\n",
        "import seaborn as sns"
      ],
      "metadata": {
        "id": "TBezbUTbx247"
      },
      "execution_count": null,
      "outputs": []
    },
    {
      "cell_type": "code",
      "source": [
        "# Regressionsanalyse\n",
        "X = merged_data[['Sentiment Score']]\n",
        "y = merged_data['GDP Change %']\n",
        "\n",
        "model = LinearRegression()\n",
        "model.fit(X, y)\n",
        "\n",
        "print(\"Koeffizienten:\", model.coef_)\n",
        "print(\"Intercept:\", model.intercept_)\n",
        "print(\"R^2-Score:\", model.score(X, y))"
      ],
      "metadata": {
        "id": "Lwbndkk-xvXC",
        "collapsed": true
      },
      "execution_count": null,
      "outputs": []
    },
    {
      "cell_type": "code",
      "source": [
        "# Scatterplot für Latifi et al. Score\n",
        "plt.figure(figsize=(10, 6))\n",
        "sns.scatterplot(x='Sentiment Score', y='GDP Change %', data=merged_data, label='Datenpunkte', color='blue')  # Farbe auf darkgreen setzen\n",
        "\n",
        "# Berechnen der Regressionsgrade (für Sentiment Score)\n",
        "x_values = np.linspace(merged_data['Sentiment Score'].min(), merged_data['Sentiment Score'].max(), 100)\n",
        "y_pred = model.intercept_ + model.coef_[0] * x_values  # Nutze nur den Koeffizienten für 'Sentiment Score'\n",
        "plt.plot(x_values, y_pred, color='red', label='Regressionsgrade')\n",
        "\n",
        "# plt.title('LNTWS Score vs. BIP Veränderung %')\n",
        "plt.xlabel('LNTWS Sentiment der Artikel (quartalsweise)')\n",
        "plt.ylabel('BIP Veränderung %')\n",
        "plt.legend()\n",
        "\n",
        "# Speichern der Grafik\n",
        "plt.savefig('regression_artikel_relevant.png', format='png', dpi=600)\n",
        "\n",
        "plt.show()"
      ],
      "metadata": {
        "id": "V4AmtK79xndY",
        "collapsed": true
      },
      "execution_count": null,
      "outputs": []
    },
    {
      "cell_type": "markdown",
      "source": [
        "## BPWS Wörterbuch anwenden\n",
        "\n",
        "Als Grundlage diente das Wörterbuch von Bannier et al., (2019) (https://www.uni-giessen.de/de/fbz/fb02/forschung/research-networks/bsfa/textual_analysis/index)"
      ],
      "metadata": {
        "id": "QtpV-RBENHch"
      }
    },
    {
      "cell_type": "code",
      "source": [
        "# Laden der Artikel\n",
        "articles = pd.read_csv(\"artikel_relevant.csv\")\n",
        "terms_df = pd.read_csv('bpws_wörterbuch.csv', delimiter=';')\n",
        "\n",
        "positives = terms_df['lemma_positiv'].dropna().tolist()\n",
        "negatives = terms_df['lemma_negativ'].dropna().tolist()"
      ],
      "metadata": {
        "id": "y42sxgd0SZU1"
      },
      "execution_count": null,
      "outputs": []
    },
    {
      "cell_type": "code",
      "source": [
        "# Funktion zur Berechnung des Sentiment-Scores\n",
        "def calculate_sentiment(text, positives, negatives):\n",
        "    lemmas = text.split()\n",
        "\n",
        "    # Zählen positiver und negativer Wörter\n",
        "    positive_count = sum(1 for lemma in lemmas if lemma in positives)\n",
        "    negative_count = sum(1 for lemma in lemmas if lemma in negatives)\n",
        "\n",
        "    # Berechnen des Sentiment-Scores\n",
        "    word_count = len(lemmas)\n",
        "    if word_count == 0:\n",
        "        return 0\n",
        "    bpw_score = (positive_count - negative_count) / word_count\n",
        "    return bpw_score\n",
        "\n",
        "# Berechnen des bpw-Scores für jeden Artikel\n",
        "articles[\"BPW Score\"] = articles[\"text_preprocessed_specific\"].apply(\n",
        "    lambda text: calculate_sentiment(text, positives, negatives)\n",
        ")\n",
        "\n",
        "# Beispielhafte Ausgabe zur Kontrolle\n",
        "print(articles[[\"Datum\", \"BPW Score\"]].head())"
      ],
      "metadata": {
        "id": "GO59nGhhOUGw"
      },
      "execution_count": null,
      "outputs": []
    },
    {
      "cell_type": "code",
      "source": [
        "# Konvertieren des Datums in ein datetime-Format mit dem Format 'DD.MM.YYYY'\n",
        "articles['Datum'] = pd.to_datetime(articles['Datum'], format='%Y-%m-%d')\n",
        "\n",
        "# Quartalsweise aggregieren und normalisieren\n",
        "articles['Jahr'] = articles['Datum'].dt.year\n",
        "articles['Quartal'] = articles['Datum'].dt.quarter  # Get quarter as numeric\n",
        "articles['Monat'] = articles['Datum'].dt.month\n",
        "\n",
        "# Aggregieren des Sentiments quartalsweise (und Durchschnitt bilden)\n",
        "bpw_quarterly = articles.groupby(['Jahr', 'Quartal'])[['BPW Score']].mean().reset_index()\n",
        "bpw_monthly = articles.groupby(['Jahr', 'Monat'])[['BPW Score']].mean().reset_index()\n",
        "\n",
        "bpw_quarterly.head()"
      ],
      "metadata": {
        "id": "stgVPnG0SnZ9",
        "collapsed": true
      },
      "execution_count": null,
      "outputs": []
    },
    {
      "cell_type": "code",
      "source": [
        "# Speichere die Ergebnisse in einer neuen CSV-Datei\n",
        "bpw_quarterly.to_csv('artikel_bpws_relevant_quartal.csv', index=False)\n",
        "bpw_monthly.to_csv('artikel_bpws_relevant_monat.csv', index=False)"
      ],
      "metadata": {
        "id": "kn7G4EQ6ZDaS"
      },
      "execution_count": null,
      "outputs": []
    },
    {
      "cell_type": "markdown",
      "source": [
        "#### Artikel mit extremen Sentimentwerten (BPWS)"
      ],
      "metadata": {
        "id": "CjzzsKlOu_U2"
      }
    },
    {
      "cell_type": "code",
      "source": [
        "# Bestimme die 3 Monate mit den höchsten Sentimentwerten\n",
        "top_3_months = bpw_monthly.nlargest(3, 'BPW Score')[['Datum', 'BPW Score']]\n",
        "\n",
        "# Bestimme die 3 Monate mit den niedrigsten Sentimentwerten\n",
        "bottom_3_months = bpw_monthly.nsmallest(3, 'BPW Score')[['Datum', 'BPW Score']]\n",
        "\n",
        "# Ausgabe der Ergebnisse\n",
        "print(\"Top 3 Monate mit höchsten Sentimentwerten:\")\n",
        "print(top_3_months)\n",
        "\n",
        "print(\"\\nTop 3 Monate mit niedrigsten Sentimentwerten:\")\n",
        "print(bottom_3_months)"
      ],
      "metadata": {
        "id": "-aWFqUwgwNVI"
      },
      "execution_count": null,
      "outputs": []
    },
    {
      "cell_type": "markdown",
      "source": [
        "### Grafik erstellen"
      ],
      "metadata": {
        "id": "NSjdcq9HtZL5"
      }
    },
    {
      "cell_type": "markdown",
      "source": [
        "Plotten der mit dem BPWS ermittelten Senitmentsentwicklung in den Artikeln (monatlich und quartalsweise)"
      ],
      "metadata": {
        "id": "NdxAioSbSpVe"
      }
    },
    {
      "cell_type": "code",
      "source": [
        "# Konvertieren der Quartale und Monate in datetime-Format\n",
        "bpw_quarterly['Datum'] = pd.PeriodIndex(\n",
        "    bpw_quarterly['Jahr'].astype(int).astype(str) + 'Q' + bpw_quarterly['Quartal'].astype(int).astype(str), freq='Q' # Convert 'Jahr' and 'Quartal' to integers before converting to strings\n",
        ").to_timestamp()\n",
        "\n",
        "bpw_monthly['Datum'] = pd.to_datetime(bpw_monthly['Jahr'].astype(int).astype(str) + '-' + bpw_monthly['Monat'].astype(str).str.zfill(2) + '-01')\n",
        "\n",
        "# Filtern der bpw-Daten\n",
        "end_date = pd.to_datetime(\"2021-09-30\")\n",
        "bpw_quarterly = bpw_quarterly[bpw_quarterly['Datum'] <= end_date]\n",
        "bpw_monthly = bpw_monthly[bpw_monthly['Datum'] <= end_date]\n",
        "\n",
        "# Erstellen des Plots\n",
        "plt.figure(figsize=(12, 6))\n",
        "\n",
        "# Plot für quartalsweises bpw\n",
        "plt.plot(bpw_quarterly['Datum'], bpw_quarterly['BPW Score'], label='BPW Sentiment der Artikel (quartalsweise)', color='blue')\n",
        "\n",
        "# Plot für monatliches Sentiment\n",
        "plt.plot(bpw_monthly['Datum'], bpw_monthly['BPW Score'], label='BPW Sentiment der Artikel (monatlich)', color='cornflowerblue')\n",
        "\n",
        "# Horizontale Linie für Neutralität\n",
        "plt.axhline(0, color='gray', linestyle='--', linewidth=0.8)\n",
        "\n",
        "# Markieren der Ereignisse mit roten Bereichen\n",
        "for event, (start_date, end_date) in events.items():\n",
        "    plt.axvspan(pd.to_datetime(start_date), pd.to_datetime(end_date), color='red', alpha=0.3)\n",
        "\n",
        "# Erstellen der xticks (jedes zweite Quartal)\n",
        "tick_dates = pd.date_range(start=bpw_quarterly['Datum'].min(),\n",
        "                           end=bpw_quarterly['Datum'].max(),\n",
        "                           freq='2Q')  # Jedes zweite Quartal\n",
        "tick_labels = [f\"{date.year}Q{(date.month // 3) or 4}\" for date in tick_dates]  # Dynamische Quartalslabels\n",
        "\n",
        "# Setzen der xticks und Labels\n",
        "plt.xticks(ticks=tick_dates, labels=tick_labels, rotation=45)\n",
        "\n",
        "# Achsentitel und Beschriftungen\n",
        "plt.title('', fontsize=14)\n",
        "# plt.xlabel('Quartal', fontsize=12)\n",
        "plt.ylabel('Sentiment-Score', fontsize=12)\n",
        "plt.grid(alpha=0.3)\n",
        "# Einfügen der Legende\n",
        "plt.legend(loc='upper center', bbox_to_anchor=(0.5, -0.15), ncol=3, frameon=False)\n",
        "plt.tight_layout()\n",
        "\n",
        "# Speichern der Artikel\n",
        "plt.savefig('artikel_bpw_scoring.png', format='png', dpi=600)\n",
        "\n",
        "plt.show()"
      ],
      "metadata": {
        "collapsed": true,
        "id": "rVMzOYYBSpB5"
      },
      "execution_count": null,
      "outputs": []
    },
    {
      "cell_type": "markdown",
      "source": [
        "### Vergleich mit ifo-Geschäftklimaindex"
      ],
      "metadata": {
        "id": "GBVfQYWqgCEu"
      }
    },
    {
      "cell_type": "code",
      "source": [
        "# Definieren der Ereignisse und deren Zeiträume in datetime\n",
        "events = {\n",
        "    # \"Dotcom-Blase\": (\"2001-02-01\", \"2003-06-30\"),\n",
        "    \"Weltwirtschaftskrise\": (\"2008-01-01\", \"2009-04-30\"),\n",
        "    \"Coronakrise\": (\"2019-09-01\", \"2020-04-30\")\n",
        "}"
      ],
      "metadata": {
        "id": "_c9GTnzECqN9"
      },
      "execution_count": null,
      "outputs": []
    },
    {
      "cell_type": "markdown",
      "source": [
        "Monatlich"
      ],
      "metadata": {
        "id": "m5zD1y9Xt-nc"
      }
    },
    {
      "cell_type": "code",
      "source": [
        "bpw_monthly = pd.read_csv('artikel_bpws_relevant_monat.csv')"
      ],
      "metadata": {
        "id": "9fuLNffRmtQC"
      },
      "execution_count": null,
      "outputs": []
    },
    {
      "cell_type": "code",
      "source": [
        "# Begrenzen der Daten auf den Zeitraum bis Ende Q3 2021\n",
        "end_date = pd.to_datetime(\"2021-09-30\")\n",
        "start_date = pd.to_datetime(\"2005-01-01\")\n",
        "\n",
        "# Datei mit ifo- Geschäftsklimaindex laden\n",
        "file_path = \"ifo-Geschäftsklima.xlsx\"\n",
        "ifo_data = pd.read_excel(file_path)\n",
        "\n",
        "# Konvertieren der Spalte \"Monat/Jahr\" in datetime-Format\n",
        "ifo_data['Datum'] = pd.to_datetime(ifo_data['Monat/Jahr'], format=' %m/%Y')\n",
        "\n",
        "# Sortieren der Daten nach Datum\n",
        "ifo_data = ifo_data.sort_values(by='Datum')\n",
        "ifo_data = ifo_data[ifo_data['Datum'] <= end_date]\n",
        "\n",
        "# Konvertieren der Quartale und Monate in datetime-Format\n",
        "bpw_monthly['Datum'] = pd.to_datetime(\n",
        "    bpw_monthly['Jahr'].astype(int).astype(str) + '-' + bpw_monthly['Monat'].astype(str).str.zfill(2) + '-01'\n",
        ")\n",
        "\n",
        "# Filtern der bpw-Daten\n",
        "bpw_monthly = bpw_monthly[(bpw_monthly['Datum'] >= start_date) & (bpw_monthly['Datum'] <= end_date)]\n",
        "\n",
        "# Erstellen der Grafik\n",
        "fig, ax1 = plt.subplots(figsize=(12, 6))\n",
        "\n",
        "# Erstellen der xticks (jedes zweite Quartal)\n",
        "tick_dates = pd.date_range(start=bpw_monthly['Datum'].min(),\n",
        "                           end=bpw_monthly['Datum'].max(),\n",
        "                           freq='2Q')  # Jedes zweite Quartal\n",
        "tick_labels = [f\"{date.year}Q{(date.month // 3) or 4}\" for date in tick_dates]  # Dynamische Quartalslabels\n",
        "\n",
        "# Setzen der xticks und Labels\n",
        "plt.xticks(ticks=tick_dates, labels=tick_labels, rotation=45)\n",
        "\n",
        "# Plot für monatliches Sentiment\n",
        "line1, = ax1.plot(bpw_monthly['Datum'], bpw_monthly['BPW Score'], label='BPWS Sentiment der Artikel (monatlich)', color='cornflowerblue')\n",
        "ax1.axhline(0, color='gray', linestyle='--', linewidth=0.8)\n",
        "ax1.set_ylabel('Sentiment-Score', color='cornflowerblue')\n",
        "ax1.tick_params(axis='y', labelcolor='cornflowerblue')\n",
        "ax1.grid(alpha=0.3)\n",
        "\n",
        "# Plot für den ifo-Geschäftsklimaindex\n",
        "ax2 = ax1.twinx()\n",
        "line2, = ax2.plot(ifo_data['Datum'], ifo_data['geschäftsklima-veränderung'],\n",
        "                  label='ifo-Geschäftsklimaindex (monatlich)', color='tomato')\n",
        "ax2.set_ylabel('ifo-Geschäftsklimaindex', color='tomato')\n",
        "ax2.tick_params(axis='y', labelcolor='tomato')\n",
        "\n",
        "for event, (start_date, end_date) in events.items():\n",
        "    ax1.axvspan(pd.to_datetime(start_date), pd.to_datetime(end_date), color='red', alpha=0.3, label=f'{event} (Krise)')\n",
        "\n",
        "# Kombinieren der Legenden\n",
        "lines = [line1, line2]\n",
        "labels = [line.get_label() for line in lines]\n",
        "ax1.legend(lines, labels, loc='upper center', bbox_to_anchor=(0.5, -0.15), ncol=3, frameon=False)\n",
        "\n",
        "# Titel und Layout\n",
        "plt.title('', fontsize=14)\n",
        "plt.tight_layout()\n",
        "\n",
        "# Speichern der Grafik\n",
        "plt.savefig('artikel_ifo_scoring_m.png', format='png', dpi=600)\n",
        "\n",
        "# Zeige den Plot\n",
        "plt.show()"
      ],
      "metadata": {
        "id": "ONQbcCee0zgD",
        "collapsed": true
      },
      "execution_count": null,
      "outputs": []
    },
    {
      "cell_type": "markdown",
      "source": [
        "Quartalsweise"
      ],
      "metadata": {
        "id": "HCP4U3kWwVOP"
      }
    },
    {
      "cell_type": "code",
      "source": [
        "bpw_quarterly = pd.read_csv('artikel_bpws_relevant_quartal.csv')"
      ],
      "metadata": {
        "id": "0768eKNqDN7k"
      },
      "execution_count": null,
      "outputs": []
    },
    {
      "cell_type": "code",
      "source": [
        "# Begrenze die Daten auf den Zeitraum bis Ende Q3 2021\n",
        "end_date = pd.to_datetime(\"2021-09-30\")\n",
        "start_date = pd.to_datetime(\"2005-01-01\")\n",
        "\n",
        "# Laden des ifo-Geschäftsklimaincex und konvertieren von 'Datum' in datetime-Format\n",
        "file_path = \"ifo-Geschäftsklima.xlsx\"\n",
        "ifo_data = pd.read_excel(file_path)\n",
        "ifo_data['Datum'] = pd.to_datetime(ifo_data['Monat/Jahr'], format=' %m/%Y')\n",
        "\n",
        "ifo_data = ifo_data[ifo_data['Datum'] <= end_date]\n",
        "\n",
        "# Konvertieren von 'Datum' in Quartale\n",
        "ifo_data['Quartal'] = ifo_data['Datum'].dt.to_period('Q')\n",
        "\n",
        "# Aggregieren des Geschäftsklimaindex quartalsweise (Mittelwert pro Quartal)\n",
        "ifo_quarterly = ifo_data.groupby('Quartal')['geschäftsklima-veränderung'].mean().reset_index()\n",
        "\n",
        "# Konvertieren der Quartale in Timestamps für den Plot\n",
        "ifo_quarterly['Datum'] = ifo_quarterly['Quartal'].dt.to_timestamp()\n",
        "\n",
        "# Konvertieren der Quartale und Monate in datetime-Format\n",
        "bpw_quarterly['Datum'] = pd.PeriodIndex(\n",
        "    bpw_quarterly['Jahr'].astype(int).astype(str) + 'Q' + bpw_quarterly['Quartal'].astype(int).astype(str), freq='Q' # Convert 'Jahr' and 'Quartal' to integers before converting to strings\n",
        ").to_timestamp()\n",
        "\n",
        "# Filtern der bpw-Daten\n",
        "bpw_quarterly = bpw_quarterly[(bpw_quarterly['Datum'] >= start_date) & (bpw_quarterly['Datum'] <= end_date)]\n",
        "\n",
        "# Erstellen der Grafik\n",
        "fig, ax1 = plt.subplots(figsize=(12, 6))\n",
        "\n",
        "# Erstellen der xticks (jedes zweite Quartal)\n",
        "tick_dates = pd.date_range(start=bpw_quarterly['Datum'].min(),\n",
        "                           end=bpw_quarterly['Datum'].max(),\n",
        "                           freq='2Q')  # Jedes zweite Quartal\n",
        "tick_labels = [f\"{date.year}Q{(date.month // 3) or 4}\" for date in tick_dates]  # Dynamische Quartalslabels\n",
        "\n",
        "# Setzen der xticks und Labels\n",
        "plt.xticks(ticks=tick_dates, labels=tick_labels, rotation=45)\n",
        "\n",
        "# Plot für monatliches Sentiment\n",
        "line1, = ax1.plot(bpw_quarterly['Datum'], bpw_quarterly['BPW Score'], label='BPWS Sentiment der Artikel (quartalsweise)', color='blue')\n",
        "ax1.axhline(0, color='gray', linestyle='--', linewidth=0.8)\n",
        "ax1.set_ylabel('Sentiment-Score', color='blue')\n",
        "ax1.tick_params(axis='y', labelcolor='blue')\n",
        "ax1.grid(alpha=0.3)\n",
        "\n",
        "# Plot für den ifo-Geschäftsklimaindex\n",
        "ax2 = ax1.twinx()\n",
        "line2, = ax2.plot(ifo_quarterly['Datum'], ifo_quarterly['geschäftsklima-veränderung'], label='ifo-Geschäftsklimaindex (quartalsweise)', color='maroon')\n",
        "ax2.set_ylabel('ifo-Geschäftsklimaindex', color='maroon')\n",
        "ax2.tick_params(axis='y', labelcolor='maroon')\n",
        "\n",
        "for event, (start_date, end_date) in events.items():\n",
        "    ax1.axvspan(pd.to_datetime(start_date), pd.to_datetime(end_date), color='red', alpha=0.3, label=f'{event} (Krise)')\n",
        "\n",
        "# Kombinieren der Legenden\n",
        "lines = [line1, line2]\n",
        "labels = [line.get_label() for line in lines]\n",
        "ax1.legend(lines, labels, loc='upper center', bbox_to_anchor=(0.5, -0.15), ncol=3, frameon=False)\n",
        "\n",
        "# Titel und Layout\n",
        "plt.title('', fontsize=14)\n",
        "plt.tight_layout()\n",
        "\n",
        "# Speichern der Grafik\n",
        "# plt.savefig('artikel_ifo_scoring_q.png', format='png', dpi=600)\n",
        "\n",
        "# Zeige den Plot\n",
        "plt.show()"
      ],
      "metadata": {
        "id": "WNSs-_kt4BA4",
        "collapsed": true
      },
      "execution_count": null,
      "outputs": []
    },
    {
      "cell_type": "markdown",
      "source": [
        "### Korrelation mit der Entwicklung des ifo-Geschäftsklimaindex"
      ],
      "metadata": {
        "id": "L0KLkZEm-AcZ"
      }
    },
    {
      "cell_type": "code",
      "source": [
        "# Konvertieren der Datumsangaben in datetime-Format\n",
        "bpw_monthly['Datum'] = pd.to_datetime(bpw_monthly['Datum'])\n",
        "bpw_quarterly['Datum'] = pd.to_datetime(bpw_quarterly['Datum'])\n",
        "ifo_data['Datum'] = pd.to_datetime(ifo_data['Monat/Jahr'], format=' %m/%Y')\n",
        "\n",
        "# Filteren des Zeitraums von Januar 2005 bis September 2021\n",
        "start_date = pd.to_datetime(\"2005-01-01\")\n",
        "end_date = pd.to_datetime(\"2021-09-30\")\n",
        "\n",
        "bpw_monthly = bpw_monthly[(bpw_monthly['Datum'] >= start_date) & (bpw_monthly['Datum'] <= end_date)]\n",
        "bpw_quarterly = bpw_quarterly[(bpw_quarterly['Datum'] >= start_date) & (bpw_quarterly['Datum'] <= end_date)]\n",
        "ifo_data = ifo_data[(ifo_data['Datum'] >= start_date) & (ifo_data['Datum'] <= end_date)]\n",
        "\n",
        "# Berechnend der Korrelation für monatliche Daten\n",
        "monthly_merged = pd.merge(\n",
        "    bpw_monthly[['Datum', 'BPW Score']],\n",
        "    ifo_data[['Datum', 'geschäftsklima-veränderung']],\n",
        "    on='Datum'\n",
        ")\n",
        "\n",
        "# Pearson-Korrelation und p-Wert für monatliche Daten\n",
        "monthly_corr, monthly_p_value = pearsonr(\n",
        "    monthly_merged['BPW Score'],\n",
        "    monthly_merged['geschäftsklima-veränderung']\n",
        ")\n",
        "\n",
        "# Berechnen der Korrelation für quartalsweise Daten\n",
        "bpw_quarterly['Quartal'] = bpw_quarterly['Datum'].dt.to_period('Q')\n",
        "ifo_data['Quartal'] = ifo_data['Datum'].dt.to_period('Q')\n",
        "\n",
        "quarterly_merged = pd.merge(\n",
        "    bpw_quarterly[['Quartal', 'BPW Score']],\n",
        "    ifo_data.groupby('Quartal')['geschäftsklima-veränderung'].mean().reset_index(),\n",
        "    on='Quartal'\n",
        ")\n",
        "\n",
        "# Pearson-Korrelation und p-Wert für quartalsweise Daten\n",
        "quarterly_corr, quarterly_p_value = pearsonr(\n",
        "    quarterly_merged['BPW Score'],\n",
        "    quarterly_merged['geschäftsklima-veränderung']\n",
        ")\n",
        "\n",
        "# Ausgabe der Korrelationswerte und p-Werte\n",
        "print(f\"Korrelation (monatlich): {monthly_corr:.2f}, p-Wert: {monthly_p_value}\")\n",
        "print(f\"Korrelation (quartalsweise): {quarterly_corr:.2f}, p-Wert: {quarterly_p_value}\")"
      ],
      "metadata": {
        "id": "fvK2l3CK-FIU"
      },
      "execution_count": null,
      "outputs": []
    },
    {
      "cell_type": "code",
      "source": [
        "# Berechnung der Lag-Korrelationen\n",
        "def calculate_lag_correlation(data, score_col, index_col, target_col, lags):\n",
        "    correlations = []\n",
        "    for lag in lags:\n",
        "        shifted = data.copy()\n",
        "        shifted[score_col] = shifted[score_col].shift(lag)\n",
        "        corr = shifted[score_col].corr(shifted[target_col])\n",
        "        correlations.append({'Lag': lag, 'Correlation': corr})\n",
        "    return pd.DataFrame(correlations)\n",
        "\n",
        "# Lags definieren\n",
        "lags = range(-4, 5)  # Lags von -4 bis +4\n",
        "\n",
        "# Berechnung der monatlichen Korrelationen\n",
        "monthly_correlation_data = calculate_lag_correlation(\n",
        "    data=monthly_merged,\n",
        "    score_col='BPW Score',\n",
        "    index_col='Datum',\n",
        "    target_col='geschäftsklima-veränderung',\n",
        "    lags=lags\n",
        ")\n",
        "\n",
        "# Berechnung der quartalsweisen Korrelationen\n",
        "quarterly_correlation_data = calculate_lag_correlation(\n",
        "    data=quarterly_merged,\n",
        "    score_col='BPW Score',\n",
        "    index_col='Quartal',\n",
        "    target_col='geschäftsklima-veränderung',\n",
        "    lags=lags\n",
        ")\n",
        "\n",
        "# Plot der Lag-Analyse (monatlich)\n",
        "plt.figure(figsize=(12, 6))\n",
        "plt.plot(monthly_correlation_data['Lag'], monthly_correlation_data['Correlation'], marker='o', color='cornflowerblue')\n",
        "plt.axhline(0, color='gray', linestyle='--', linewidth=0.8)\n",
        "# plt.title('Lag-Analyse: Monatliche Sentiment- und ifo-Geschäftsklima-Korrelation', fontsize=14)\n",
        "plt.xlabel('Lag (Monate)', fontsize=12)\n",
        "plt.ylabel('Korrelation', fontsize=12)\n",
        "plt.grid(alpha=0.3)\n",
        "plt.legend()\n",
        "plt.tight_layout()\n",
        "plt.savefig('lag_artikel_relevant_m.png', dpi=600)\n",
        "plt.show()\n",
        "\n",
        "# Plot der Lag-Analyse (quartalsweise)\n",
        "plt.figure(figsize=(12, 6))\n",
        "plt.plot(quarterly_correlation_data['Lag'], quarterly_correlation_data['Correlation'], marker='o', color='blue')\n",
        "plt.axhline(0, color='gray', linestyle='--', linewidth=0.8)\n",
        "# plt.title('Lag-Analyse: Quartalsweise Sentiment- und ifo-Geschäftsklima-Korrelation', fontsize=14)\n",
        "plt.xlabel('Lag (Quartale)', fontsize=12)\n",
        "plt.ylabel('Korrelation', fontsize=12)\n",
        "plt.grid(alpha=0.3)\n",
        "plt.legend()\n",
        "plt.tight_layout()\n",
        "plt.savefig('lag_artikel_relevant_q.png', dpi=600)\n",
        "plt.show()"
      ],
      "metadata": {
        "collapsed": true,
        "id": "y-e9hCTEAPww"
      },
      "execution_count": null,
      "outputs": []
    },
    {
      "cell_type": "markdown",
      "source": [
        "## Häufigkeit der Artikel über die Zeit"
      ],
      "metadata": {
        "id": "WKFASfuEq7yu"
      }
    },
    {
      "cell_type": "code",
      "source": [
        "from scipy.interpolate import make_interp_spline"
      ],
      "metadata": {
        "id": "4hlWafINV0oA"
      },
      "execution_count": null,
      "outputs": []
    },
    {
      "cell_type": "markdown",
      "source": [
        "### Häufigkeitsverteilung pro Monat"
      ],
      "metadata": {
        "id": "uJcpsBFhq7TJ"
      }
    },
    {
      "cell_type": "code",
      "source": [
        "# Laden der Daten\n",
        "df_a = pd.read_csv('bereinigte_artikel_spezifisch.csv')\n",
        "df_r = pd.read_csv('bereinigte_reden_spezifisch.csv')"
      ],
      "metadata": {
        "id": "8TZmxBgjV1NQ"
      },
      "execution_count": null,
      "outputs": []
    },
    {
      "cell_type": "code",
      "source": [
        "# Konvertiere das Datum in datetime-Format\n",
        "df_a['Datum'] = pd.to_datetime(df_a['Datum'], format='%Y-%m-%d')\n",
        "# df_r['date'] = pd.to_datetime(df_r['date'], format='%Y-%m-%d')\n",
        "\n",
        "# Extrahiere Jahr, Quartal und Monat\n",
        "df_a['datum_monat'] = df_a['Datum'].dt.month\n",
        "df_a['jahr_quartal'] = df_a['datum_jahr'].astype(str) + 'Q' + df_a['datum_quartal'].astype(str)\n",
        "\n",
        "# df_r['datum_monat'] = df_r['date'].dt.month\n",
        "# df_r['jahr_quartal'] = df_r['date_year'].astype(str) + 'Q' + df_r['date_quarter'].astype(str)\n",
        "\n",
        "# Artikel pro Monat neu berechnen\n",
        "artikel_pro_monat = df_a.groupby(['datum_jahr', 'datum_monat']).size()\n",
        "artikel_pro_monat.index = pd.to_datetime([f\"{year}-{month}-01\" for year, month in artikel_pro_monat.index])\n",
        "\n",
        "# reden_pro_monat = df_r.groupby(['date_year', 'datum_monat']).size()\n",
        "# reden_pro_monat.index = pd.to_datetime([f\"{year}-{month}-01\" for year, month in reden_pro_monat.index])\n",
        "\n",
        "# Erstellen der xticks für Jahr-Quartal\n",
        "tick_dates = pd.date_range(start=artikel_pro_monat.index.min(),\n",
        "                           end=artikel_pro_monat.index.max(),\n",
        "                           freq='2Q')  # Jedes zweite Quartal\n",
        "tick_labels = [f\"{date.year}Q{(date.month // 3) or 4}\" for date in tick_dates]\n",
        "\n",
        "# Plot\n",
        "plt.figure(figsize=(12, 6))\n",
        "\n",
        "# Markieren der Ereignisse mit roten Bereichen\n",
        "for event, (start_date, end_date) in events.items():\n",
        "    plt.axvspan(pd.to_datetime(start_date), pd.to_datetime(end_date), color='red', alpha=0.3)\n",
        "\n",
        "plt.bar(artikel_pro_monat.index, artikel_pro_monat.values, width=20, color='cornflowerblue')\n",
        "# plt.bar(reden_pro_monat.index, reden_pro_monat.values, width=20, color='darkseagreen')\n",
        "\n",
        "# Setzen der xticks und Labels\n",
        "plt.xticks(ticks=tick_dates, labels=tick_labels, rotation=45)\n",
        "\n",
        "# Beschriftungen und Titel\n",
        "plt.ylabel('Anzahl der Reden', fontsize=12)\n",
        "# plt.title('Anzahl der Titelseiten pro Monat', fontsize=14)\n",
        "# plt.legend(loc='upper right')\n",
        "plt.grid(axis='y', alpha=0.3)\n",
        "plt.tight_layout()\n",
        "\n",
        "# Speichern der Grafik\n",
        "plt.savefig('artikel_reden_monat.png', format='png', dpi=600)\n",
        "\n",
        "plt.show()"
      ],
      "metadata": {
        "id": "LI5aEMsPVtil",
        "collapsed": true
      },
      "execution_count": null,
      "outputs": []
    },
    {
      "cell_type": "markdown",
      "source": [
        "### Häufigkeitsverteilung pro Quartal"
      ],
      "metadata": {
        "id": "gdVX2aGpr3wA"
      }
    },
    {
      "cell_type": "code",
      "source": [
        "# Konvertieren der 'Datum'-Spalte in ein datetime-Format, falls noch nicht geschehen\n",
        "df_a['Datum'] = pd.to_datetime(df_a['Datum'], format='%Y-%m-%d')\n",
        "\n",
        "# Extrahieren von Jahr und Quartal aus dem Datum\n",
        "df_a['datum_jahr'] = df_a['Datum'].dt.year\n",
        "df_a['datum_quartal'] = df_a['Datum'].dt.quarter\n",
        "\n",
        "# Kombinieren von Jahr und Quartal zu einer neuen Spalte 'jahr_quartal' im Format YYYYQX\n",
        "df_a['jahr_quartal'] = df_a['datum_jahr'].astype(str) + 'Q' + df_a['datum_quartal'].astype(str)\n",
        "\n",
        "# Zählen der Anzahl der Artikel pro Quartal\n",
        "artikel_pro_quartal = df_a.groupby('jahr_quartal').size()\n",
        "\n",
        "# Sortieren nach Quartalen\n",
        "artikel_pro_quartal = artikel_pro_quartal.sort_index()\n",
        "\n",
        "artikel_pro_quartal.index = pd.PeriodIndex(artikel_pro_quartal.index, freq='Q').to_timestamp()\n",
        "\n",
        "# Erstellen der xticks für Jahr-Quartal\n",
        "tick_dates = pd.date_range(start=artikel_pro_quartal.index.min(),\n",
        "                           end=artikel_pro_quartal.index.max(),\n",
        "                           freq='2Q')  # Jedes zweite Quartal\n",
        "tick_labels = [f\"{date.year}Q{(date.month // 3) or 4}\" for date in tick_dates]\n",
        "\n",
        "# Plot\n",
        "plt.figure(figsize=(12, 6))\n",
        "\n",
        "# Markieren der Ereignisse mit roten Bereichen\n",
        "for event, (start_date, end_date) in events.items():\n",
        "    plt.axvspan(pd.to_datetime(start_date), pd.to_datetime(end_date), color='red', alpha=0.3)\n",
        "\n",
        "# Plot\n",
        "# plt.bar(artikel_pro_quartal.index, artikel_pro_quartal.values, width=20, color='cornflowerblue')\n",
        "plt.bar(artikel_pro_quartal.index, artikel_pro_quartal.values, width=80, color='blue')\n",
        "\n",
        "# Setzen der xticks und Labels\n",
        "plt.xticks(ticks=tick_dates, labels=tick_labels, rotation=45)\n",
        "\n",
        "# Beschriftungen und Titel\n",
        "plt.ylabel('Anzahl der Artikel', fontsize=12)\n",
        "# plt.title('Anzahl der Titelseiten pro Monat', fontsize=14)\n",
        "# plt.legend(loc='upper right')\n",
        "plt.grid(axis='y', alpha=0.3)\n",
        "plt.tight_layout()\n",
        "\n",
        "# Speichern der Grafik\n",
        "plt.savefig('artikel_reden_quartal.png', format='png', dpi=600)\n",
        "\n",
        "plt.show()"
      ],
      "metadata": {
        "id": "kPHiHurEZ1b_",
        "collapsed": true
      },
      "execution_count": null,
      "outputs": []
    }
  ]
}