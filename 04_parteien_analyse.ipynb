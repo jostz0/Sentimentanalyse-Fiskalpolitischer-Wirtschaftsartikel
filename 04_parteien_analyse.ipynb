{
  "nbformat": 4,
  "nbformat_minor": 0,
  "metadata": {
    "colab": {
      "provenance": [],
      "authorship_tag": "ABX9TyO2MW++q3Z2u0P3e0RG1vLH"
    },
    "kernelspec": {
      "name": "python3",
      "display_name": "Python 3"
    },
    "language_info": {
      "name": "python"
    }
  },
  "cells": [
    {
      "cell_type": "code",
      "execution_count": null,
      "metadata": {
        "id": "TZUqsCtI6jnB"
      },
      "outputs": [],
      "source": [
        "import pandas as pd\n",
        "from sklearn.feature_extraction.text import CountVectorizer\n",
        "from scipy.interpolate import make_interp_spline\n",
        "import numpy as np\n",
        "from collections import Counter\n",
        "import matplotlib.pyplot as plt"
      ]
    },
    {
      "cell_type": "code",
      "source": [
        "# Daten einlesen\n",
        "df = pd.read_csv('reden_relevant.csv')\n",
        "print(len(df))"
      ],
      "metadata": {
        "collapsed": true,
        "id": "GInQOcp67HwK"
      },
      "execution_count": null,
      "outputs": []
    },
    {
      "cell_type": "code",
      "source": [
        "reden_pro_partei = df['partei'].value_counts()\n",
        "\n",
        "# Ausgabe der Anzahl der Reden je Partei\n",
        "for party, count in reden_pro_partei.items():\n",
        "    print(f\"{party}: {count} Reden\")"
      ],
      "metadata": {
        "id": "w62QJCC1Dvft",
        "collapsed": true
      },
      "execution_count": null,
      "outputs": []
    },
    {
      "cell_type": "code",
      "source": [
        "# Ersetzen von PDS mit der Linken\n",
        "df['partei'] = df['partei'].replace({'PDS': 'LINKE'})"
      ],
      "metadata": {
        "id": "gHN-g0UYPCHJ"
      },
      "execution_count": null,
      "outputs": []
    },
    {
      "cell_type": "code",
      "source": [
        "# Funktion zur Extraktion der Terme mit Häufigkeiten\n",
        "def extract_terms_with_frequencies(text, term_list, ngram_range=(1, 2)):\n",
        "    vectorizer = CountVectorizer(ngram_range=ngram_range, vocabulary=term_list, token_pattern=r'\\b\\w+\\b')\n",
        "    term_counts = vectorizer.fit_transform([text]).toarray().flatten()\n",
        "    term_freq = {term: count for term, count in zip(term_list, term_counts) if count > 0}\n",
        "    return term_freq"
      ],
      "metadata": {
        "id": "W2DthobW-RLU"
      },
      "execution_count": null,
      "outputs": []
    },
    {
      "cell_type": "markdown",
      "source": [
        "## Sentiment für einzelne Parteien"
      ],
      "metadata": {
        "id": "FPL5XyAq61a7"
      }
    },
    {
      "cell_type": "markdown",
      "source": [
        "### LNTWS"
      ],
      "metadata": {
        "id": "ZXR_hqhgjXyx"
      }
    },
    {
      "cell_type": "markdown",
      "source": [
        "LNTWS-Sentiment berechnen."
      ],
      "metadata": {
        "id": "w-kpc3Kl2ncw"
      }
    },
    {
      "cell_type": "code",
      "source": [
        "terms_df = pd.read_csv('lntws_wörterbuch.csv', delimiter=';')\n",
        "\n",
        "expansionary_terms = terms_df['expansive_terme'].dropna().tolist()\n",
        "contractionary_terms = terms_df['restriktive_terme'].dropna().tolist()\n",
        "expansionary_terms = [term.replace(\"_\", \" \") for term in expansionary_terms]\n",
        "contractionary_terms = [term.replace(\"_\", \" \") for term in contractionary_terms]"
      ],
      "metadata": {
        "id": "ku_Y0t1l-CWg"
      },
      "execution_count": null,
      "outputs": []
    },
    {
      "cell_type": "code",
      "source": [
        "# Konvertiere die Spalte \"Datum\" in datetime\n",
        "df['Datum'] = pd.to_datetime(df['Datum'], errors='coerce')  # Handle errors by setting invalid dates to NaT\n",
        "df.dropna(subset=['Datum'], inplace=True)  # Remove rows with invalid dates\n",
        "\n",
        "# Liste zur Speicherung der Ergebnisse\n",
        "results = []\n",
        "\n",
        "for index, row in df.iterrows():\n",
        "    text = row['text_preprocessed_specific']\n",
        "    date = row['Datum']\n",
        "    party = row['partei']  # Partei des Redners\n",
        "    year = date.year\n",
        "    quarter = (date.month - 1) // 3 + 1  # Bestimme Quartal\n",
        "    month = date.month\n",
        "    total_words = row['länge_bereinigt_spezifisch']\n",
        "\n",
        "    # Extrahiere expansive und restriktive Terme\n",
        "    expansive_terms_freq = extract_terms_with_frequencies(text, expansionary_terms, ngram_range=(1, 2))\n",
        "    contractionary_terms_freq = extract_terms_with_frequencies(text, contractionary_terms, ngram_range=(1, 2))\n",
        "\n",
        "    # Berechne die Summe der expansiven und restriktiven Terme\n",
        "    expansive_count = sum(expansive_terms_freq.values())\n",
        "    contractionary_count = sum(contractionary_terms_freq.values())\n",
        "\n",
        "    # Berechne das Sentiment\n",
        "    sentiment_score = (expansive_count - contractionary_count) / total_words if total_words > 0 else 0\n",
        "\n",
        "    # Füge die Ergebnisse hinzu\n",
        "    results.append({\n",
        "        'Datum': date,\n",
        "        'Jahr': year,\n",
        "        'Quartal': quarter,\n",
        "        'Monat': month,\n",
        "        'Partei': party,\n",
        "        'Sentiment Score': sentiment_score\n",
        "    })\n",
        "\n",
        "# Konvertiere die Ergebnisse in einen DataFrame\n",
        "results_df = pd.DataFrame(results)\n",
        "\n",
        "# Beispielhafte Ausgabe zur Kontrolle\n",
        "print(results_df.head())"
      ],
      "metadata": {
        "id": "AqP1_Zz1-hwS",
        "collapsed": true
      },
      "execution_count": null,
      "outputs": []
    },
    {
      "cell_type": "markdown",
      "source": [
        "### BPWS"
      ],
      "metadata": {
        "id": "_97qffTqj1_r"
      }
    },
    {
      "cell_type": "markdown",
      "source": [
        "BPWS-Sentiment berechnen."
      ],
      "metadata": {
        "id": "5j5jVGOs3Lq3"
      }
    },
    {
      "cell_type": "code",
      "source": [
        "# Lade die verarbeiteten Wörter\n",
        "terms_df = pd.read_csv('bpws_wörterbuch.csv', delimiter=';')\n",
        "\n",
        "positives = terms_df['lemma_positiv'].dropna().tolist()\n",
        "negatives = terms_df['lemma_negativ'].dropna().tolist()"
      ],
      "metadata": {
        "id": "2dGeo40Xj31c"
      },
      "execution_count": null,
      "outputs": []
    },
    {
      "cell_type": "code",
      "source": [
        "# Konvertieren der Spalte \"Datum\" in datetime\n",
        "df['Datum'] = pd.to_datetime(df['Datum'], errors='coerce')  # Handle errors by setting invalid dates to NaT\n",
        "df.dropna(subset=['Datum'], inplace=True)  # Remove rows with invalid dates\n",
        "\n",
        "# Liste zur Speicherung der Ergebnisse\n",
        "results = []\n",
        "\n",
        "for index, row in df.iterrows():\n",
        "    text = row['text_preprocessed_specific']\n",
        "    date = row['Datum']\n",
        "    party = row['partei']  # Partei des Redners\n",
        "    year = date.year\n",
        "    quarter = (date.month - 1) // 3 + 1  # Bestimme Quartal\n",
        "    month = date.month\n",
        "    total_words = row['länge_bereinigt_spezifisch']\n",
        "\n",
        "    # Extrahieren positiver und negativer Terme\n",
        "    negatives_freq = extract_terms_with_frequencies(text, negatives)\n",
        "    positives_freq = extract_terms_with_frequencies(text, positives)\n",
        "\n",
        "    # Berechnen der Summe der positiven und negativen Terme\n",
        "    negative_count = sum(negatives_freq.values())\n",
        "    positive_count = sum(positives_freq.values())\n",
        "\n",
        "    # Berechnen des Sentiments\n",
        "    sentiment_score = (positive_count - negative_count) / total_words if total_words > 0 else 0\n",
        "\n",
        "    # Hinzufügen der Ergebnisse\n",
        "    results.append({\n",
        "        'Datum': date,\n",
        "        'Jahr': year,\n",
        "        'Quartal': quarter,\n",
        "        'Monat': month,\n",
        "        'Partei': party,\n",
        "        'Sentiment Score': sentiment_score\n",
        "    })\n",
        "\n",
        "# Konvertieren der Ergebnisse in einen DataFrame\n",
        "results_df = pd.DataFrame(results)\n",
        "\n",
        "# Beispielhafte Ausgabe zur Kontrolle\n",
        "print(results_df.head())"
      ],
      "metadata": {
        "id": "wTP2O1XpkKaG",
        "collapsed": true
      },
      "execution_count": null,
      "outputs": []
    },
    {
      "cell_type": "markdown",
      "source": [
        "## Graphischer Vergleich des Sentiments in Artikel und Reden\n",
        "Dafür werden die Reden nach den einzelnen Parteien aufgeteilt und pro Jahr aggregiert."
      ],
      "metadata": {
        "id": "6u0GYwZaj4MT"
      }
    },
    {
      "cell_type": "code",
      "source": [
        "# Aggregieren der Ergebnisse nach Partei und Quartal\n",
        "sentiment_quarterly = results_df.groupby(['Jahr', 'Quartal', 'Partei'])['Sentiment Score'].mean().reset_index()\n",
        "\n",
        "# Aggregieren der Ergebnisse nach Partei und Monat\n",
        "sentiment_monthly = results_df.groupby(['Jahr', 'Monat', 'Partei'])['Sentiment Score'].mean().reset_index()"
      ],
      "metadata": {
        "id": "emAM8IcM-7qf"
      },
      "execution_count": null,
      "outputs": []
    },
    {
      "cell_type": "code",
      "source": [
        "# Speichern der Ergebnisse als CSV-Dateien\n",
        "sentiment_quarterly.to_csv('sentiment_partei_bpw_quartal.csv', index=False)\n",
        "sentiment_monthly.to_csv('sentiment_partei_bpw_monat.csv', index=False)"
      ],
      "metadata": {
        "id": "6iT7X8LF-7PD"
      },
      "execution_count": null,
      "outputs": []
    },
    {
      "cell_type": "markdown",
      "source": [
        "Erstellen der Graphik zum visuellen Vergleich der Entwicklung des Sentiments der einzelnen Parteien. (Nur BPWS-Sentiment)"
      ],
      "metadata": {
        "id": "smKZAL04AA4A"
      }
    },
    {
      "cell_type": "code",
      "source": [
        "# Definieren der Ereignisse und deren Zeiträume in datetime\n",
        "events = {\n",
        "    \"Dotcom-Blase\": (\"2001-02-01\", \"2003-06-30\"),\n",
        "    \"Weltwirtschaftskrise\": (\"2008-01-01\", \"2009-04-30\"),\n",
        "    \"Coronakrise\": (\"2019-09-01\", \"2020-04-30\")\n",
        "}"
      ],
      "metadata": {
        "id": "qt_40MSx7Nrr"
      },
      "execution_count": null,
      "outputs": []
    },
    {
      "cell_type": "markdown",
      "source": [
        "Monatlich"
      ],
      "metadata": {
        "id": "l-FrRvvh7KW_"
      }
    },
    {
      "cell_type": "code",
      "source": [
        "# Konvertieren der Monate in datetime-Format\n",
        "sentiment_monthly['Datum'] = pd.to_datetime(\n",
        "    sentiment_monthly['Jahr'].astype(int).astype(str) + '-' + sentiment_monthly['Monat'].astype(str).str.zfill(2) + '-01'\n",
        ")\n",
        "\n",
        "# Begrenzen der Daten auf den Zeitraum bis Ende Q3 2021\n",
        "end_date = pd.to_datetime(\"2021-09-30\")\n",
        "sentiment_monthly = sentiment_monthly[sentiment_monthly['Datum'] <= end_date]\n",
        "\n",
        "# Erstellen des Plots\n",
        "plt.figure(figsize=(12, 6))\n",
        "\n",
        "# Farben für jede Partei definieren\n",
        "farben = {\n",
        "    'CDU/CSU': 'black',\n",
        "    'SPD': 'red',\n",
        "    'FDP': 'gold',\n",
        "    'LINKE': 'deeppink',\n",
        "    'GRÜNE': 'limegreen',\n",
        "    'AfD': 'dodgerblue',\n",
        "    'Cabinet': 'midnightblue'\n",
        "}\n",
        "\n",
        "# Plot für monatliches Sentiment jeder Partei\n",
        "# Plot für monatliches Sentiment jeder Partei\n",
        "for party in sentiment_monthly['Partei'].unique():\n",
        "    if party in farben:  # Nur Parteien plotten, die in `farben` definiert sind\n",
        "        party_data = sentiment_monthly[sentiment_monthly['Partei'] == party]\n",
        "        plt.plot(party_data['Datum'], party_data['Sentiment Score'], label=f'{party}', color=farben[party])\n",
        "\n",
        "# Horizontale Linie für Neutralität\n",
        "plt.axhline(0, color='gray', linestyle='--', linewidth=0.8)\n",
        "\n",
        "# Markieren der Ereignisse mit roten Bereichen\n",
        "for event, (start_date, end_date) in events.items():\n",
        "    plt.axvspan(pd.to_datetime(start_date), pd.to_datetime(end_date), color='red', alpha=0.3)\n",
        "\n",
        "# Erstellen der xticks (jedes zweite Quartal)\n",
        "tick_dates = pd.date_range(start=sentiment_monthly['Datum'].min(),\n",
        "                           end=sentiment_monthly['Datum'].max(),\n",
        "                           freq='2Q')  # Jedes zweite Quartal\n",
        "tick_labels = [f\"{date.year}Q{(date.month // 3) or 4}\" for date in tick_dates]\n",
        "\n",
        "# Setzen der xticks und Labels\n",
        "plt.xticks(ticks=tick_dates, labels=tick_labels, rotation=45)\n",
        "\n",
        "# Achsentitel und Beschriftungen\n",
        "# plt.title('Monatliche Sentiment-Entwicklung der Parteien (BPWS)', fontsize=14)\n",
        "plt.ylabel('Sentiment-Score', fontsize=12)\n",
        "plt.grid(alpha=0.3)\n",
        "\n",
        "# Einfügen der Legende\n",
        "plt.legend(loc='upper center', bbox_to_anchor=(0.5, -0.15), ncol=7, frameon=False)\n",
        "plt.tight_layout()\n",
        "\n",
        "# Speichern der Grafik\n",
        "plt.savefig('reden_sentiment_parteien_bpw_relevant_m.png', format='png', dpi=600)\n",
        "\n",
        "# Zeige den Plot\n",
        "plt.show()"
      ],
      "metadata": {
        "collapsed": true,
        "id": "TbvJC8nZAJ5m"
      },
      "execution_count": null,
      "outputs": []
    },
    {
      "cell_type": "markdown",
      "source": [
        "Quartalsweise"
      ],
      "metadata": {
        "id": "brM9uyd47PMP"
      }
    },
    {
      "cell_type": "code",
      "source": [
        "# Konvertieren der Quartale in datetime-Format\n",
        "sentiment_quarterly['Datum'] = pd.PeriodIndex(\n",
        "    sentiment_quarterly['Jahr'].astype(int).astype(str) + 'Q' + sentiment_quarterly['Quartal'].astype(int).astype(str), freq='Q'\n",
        ").to_timestamp()\n",
        "\n",
        "# Begrenzen der Daten auf den Zeitraum bis Ende Q3 2021\n",
        "end_date = pd.to_datetime(\"2021-09-30\")\n",
        "sentiment_quarterly = sentiment_quarterly[sentiment_quarterly['Datum'] <= end_date]\n",
        "\n",
        "# Erstellen des Plots\n",
        "plt.figure(figsize=(12, 6))\n",
        "\n",
        "for party in sentiment_quarterly['Partei'].unique():\n",
        "    if party in party_colors:  # Nur Parteien plotten, die in `party_colors` definiert sind\n",
        "        party_data = sentiment_quarterly[sentiment_quarterly['Partei'] == party]\n",
        "        plt.plot(party_data['Datum'], party_data['Sentiment Score'], label=f'{party}', color=party_colors[party])\n",
        "\n",
        "# Horizontale Linie für Neutralität\n",
        "plt.axhline(0, color='gray', linestyle='--', linewidth=0.8)\n",
        "\n",
        "# Markieren der Ereignisse mit roten Bereichen\n",
        "for event, (start_date, end_date) in events.items():\n",
        "    plt.axvspan(pd.to_datetime(start_date), pd.to_datetime(end_date), color='red', alpha=0.3)\n",
        "\n",
        "# Erstellen der xticks (jedes zweite Quartal)\n",
        "tick_dates = pd.date_range(start=sentiment_quarterly['Datum'].min(),\n",
        "                           end=sentiment_quarterly['Datum'].max(),\n",
        "                           freq='2Q')  # Jedes zweite Quartal\n",
        "tick_labels = [f\"{date.year}Q{(date.month // 3) or 4}\" for date in tick_dates]\n",
        "\n",
        "# Setzen der xticks und Labels\n",
        "plt.xticks(ticks=tick_dates, labels=tick_labels, rotation=45)\n",
        "\n",
        "# Achsentitel und Beschriftungen\n",
        "# plt.title('Quartalsweise Entwicklung des Sentiments pro Partei', fontsize=14)\n",
        "plt.ylabel('Sentiment-Score', fontsize=12)\n",
        "plt.grid(alpha=0.3)\n",
        "\n",
        "# Einfügen der Legende\n",
        "plt.legend(loc='upper center', bbox_to_anchor=(0.5, -0.15), ncol=7, frameon=False)\n",
        "plt.tight_layout()\n",
        "\n",
        "# Speichern der Artikel\n",
        "plt.savefig('reden_sentiment_parteien_bpw_relevant_q.png', format='png', dpi=600)\n",
        "\n",
        "plt.show()"
      ],
      "metadata": {
        "collapsed": true,
        "id": "61p3z8w5EjUl"
      },
      "execution_count": null,
      "outputs": []
    },
    {
      "cell_type": "markdown",
      "source": [
        "## Berechnen der Korrelation"
      ],
      "metadata": {
        "id": "af8EQenZHyog"
      }
    },
    {
      "cell_type": "markdown",
      "source": [
        "### Korrelation zwischen den einzelnen Parteien"
      ],
      "metadata": {
        "id": "xTO4vwsjH2wB"
      }
    },
    {
      "cell_type": "code",
      "source": [
        "import seaborn as sns"
      ],
      "metadata": {
        "id": "hQSN5Vb2LhYa"
      },
      "execution_count": null,
      "outputs": []
    },
    {
      "cell_type": "code",
      "source": [
        "# Filtern der Parteien auf die, die in farben enthalten sind\n",
        "filtered_parties = [party for party in sentiment_quarterly['Partei'].unique() if party in farben.keys()]\n",
        "\n",
        "# Initialisieren eines leeren DataFrames für die Ergebnisse\n",
        "correlation_matrix = pd.DataFrame(index=filtered_parties, columns=filtered_parties)\n",
        "\n",
        "# Iterieren über alle gefilterten Parteien-Paare, um die Korrelationen zu berechnen\n",
        "for party1 in filtered_parties:\n",
        "    for party2 in filtered_parties:\n",
        "        if party1 == party2:\n",
        "            # Setzen der diagonalen Werte auf 1 (Selbstkorrelation)\n",
        "            correlation_matrix.loc[party1, party2] = 1.0\n",
        "        else:\n",
        "            # Filtern der Daten für beide Parteien\n",
        "            data1 = sentiment_quarterly[sentiment_quarterly['Partei'] == party1][['Datum', 'Sentiment Score']]\n",
        "            data2 = sentiment_quarterly[sentiment_quarterly['Partei'] == party2][['Datum', 'Sentiment Score']]\n",
        "\n",
        "            # Zusammenführen der Daten anhand des Datums (nur gemeinsame Zeiträume bleiben erhalten)\n",
        "            merged_data = pd.merge(data1, data2, on='Datum', suffixes=(f'_{party1}', f'_{party2}'))\n",
        "\n",
        "            # Berechnen der Korrelation zwischen den Sentimentwerten\n",
        "            if not merged_data.empty:\n",
        "                correlation = merged_data[f'Sentiment Score_{party1}'].corr(merged_data[f'Sentiment Score_{party2}'])\n",
        "                correlation_matrix.loc[party1, party2] = correlation\n",
        "            else:\n",
        "                # Wenn keine gemeinsamen Datenpunkte vorhanden sind, setze NaN\n",
        "                correlation_matrix.loc[party1, party2] = np.nan\n",
        "\n",
        "# Konvertieren der Korrelationsmatrix in numerische Werte\n",
        "correlation_matrix = correlation_matrix.astype(float)\n",
        "\n",
        "# Ausgabe der Korrelationsmatrix\n",
        "print(\"Korrelationen zwischen den Parteien (gefiltert):\")\n",
        "print(correlation_matrix)\n",
        "\n",
        "# Visualisieren der Korrelationsmatrix als Heatmap\n",
        "plt.figure(figsize=(10, 8))\n",
        "sns.heatmap(correlation_matrix, annot=True, cmap='coolwarm', fmt=\".3f\", cbar=True,\n",
        "            xticklabels=filtered_parties, yticklabels=filtered_parties)\n",
        "plt.title('Korrelationen der Sentiment-Entwicklung zwischen den Parteien', fontsize=14)\n",
        "plt.tight_layout()\n",
        "plt.savefig('korrelationen_parteien_bpw_relevant_q.png', dpi=600)\n",
        "plt.show()"
      ],
      "metadata": {
        "id": "nYJMzE9-H5aS",
        "collapsed": true
      },
      "execution_count": null,
      "outputs": []
    },
    {
      "cell_type": "markdown",
      "source": [
        "P-Werte"
      ],
      "metadata": {
        "id": "1PZLc48P5V55"
      }
    },
    {
      "cell_type": "code",
      "source": [
        "from scipy.stats import pearsonr"
      ],
      "metadata": {
        "id": "cSLZIn-1Rt1M"
      },
      "execution_count": null,
      "outputs": []
    },
    {
      "cell_type": "code",
      "source": [
        "# Initialisieren des DataFrames für Korrelationen und P-Werte\n",
        "correlation_matrix = pd.DataFrame(index=filtered_parties, columns=filtered_parties)\n",
        "p_value_matrix = pd.DataFrame(index=filtered_parties, columns=filtered_parties)\n",
        "\n",
        "# Iterieren über alle gefilterten Parteien-Paare\n",
        "for party1 in filtered_parties:\n",
        "    for party2 in filtered_parties:\n",
        "        if party1 == party2:\n",
        "            # Setzen der diagonalen Werte (Selbstkorrelation) auf 1\n",
        "            correlation_matrix.loc[party1, party2] = 1.0\n",
        "            p_value_matrix.loc[party1, party2] = 0.0  # Kein P-Wert für Selbstkorrelation\n",
        "        else:\n",
        "            # Filtern der Daten für beide Parteien\n",
        "            data1 = sentiment_quarterly[sentiment_quarterly['Partei'] == party1][['Datum', 'Sentiment Score']]\n",
        "            data2 = sentiment_quarterly[sentiment_quarterly['Partei'] == party2][['Datum', 'Sentiment Score']]\n",
        "\n",
        "            # Zusammenführen der Daten anhand des Datums (nur gemeinsame Zeiträume bleiben erhalten)\n",
        "            merged_data = pd.merge(data1, data2, on='Datum', suffixes=(f'_{party1}', f'_{party2}'))\n",
        "\n",
        "            # Berechnen der Korrelation und der P-Werte\n",
        "            if not merged_data.empty:\n",
        "                corr, p_val = pearsonr(\n",
        "                    merged_data[f'Sentiment Score_{party1}'],\n",
        "                    merged_data[f'Sentiment Score_{party2}']\n",
        "                )\n",
        "                correlation_matrix.loc[party1, party2] = corr\n",
        "                p_value_matrix.loc[party1, party2] = p_val\n",
        "            else:\n",
        "                # Wenn keine gemeinsamen Datenpunkte vorhanden sind, setze NaN\n",
        "                correlation_matrix.loc[party1, party2] = np.nan\n",
        "                p_value_matrix.loc[party1, party2] = np.nan\n",
        "\n",
        "# Konvertieren zu float für numerische Werte\n",
        "correlation_matrix = correlation_matrix.astype(float)\n",
        "p_value_matrix = p_value_matrix.astype(float)\n",
        "\n",
        "# Ausgabe der Ergebnisse\n",
        "# print(\"Korrelationsmatrix:\")\n",
        "# print(correlation_matrix)\n",
        "\n",
        "print(\"\\nP-Wert-Matrix:\")\n",
        "print(p_value_matrix)"
      ],
      "metadata": {
        "id": "s6tQyrwKTVde",
        "collapsed": true
      },
      "execution_count": null,
      "outputs": []
    },
    {
      "cell_type": "markdown",
      "source": [
        "Visualisieren in einer Heat-Map"
      ],
      "metadata": {
        "id": "c_XxEnVq5aBz"
      }
    },
    {
      "cell_type": "code",
      "source": [
        "plt.figure(figsize=(10, 8))\n",
        "sns.heatmap(p_value_matrix, annot=True, fmt=\".2g\", cmap=\"viridis\", cbar=True)\n",
        "plt.title(\"P-Wert-Matrix der Sentiments zwischen den Parteien\")\n",
        "plt.show()"
      ],
      "metadata": {
        "collapsed": true,
        "id": "o9iRVLqrTkkJ"
      },
      "execution_count": null,
      "outputs": []
    },
    {
      "cell_type": "markdown",
      "source": [
        "Monatliche Korrelation"
      ],
      "metadata": {
        "id": "W60kovXNaAFW"
      }
    },
    {
      "cell_type": "code",
      "source": [
        "# Initialisieren der DataFrames für Korrelationen und P-Werte\n",
        "correlation_matrix_monthly = pd.DataFrame(index=filtered_parties, columns=filtered_parties)\n",
        "p_value_matrix_monthly = pd.DataFrame(index=filtered_parties, columns=filtered_parties)\n",
        "\n",
        "# Iterieren über alle gefilterten Parteien-Paare\n",
        "for party1 in filtered_parties:\n",
        "    for party2 in filtered_parties:\n",
        "        if party1 == party2:\n",
        "            # Setze die diagonalen Werte (Selbstkorrelation) auf 1\n",
        "            correlation_matrix_monthly.loc[party1, party2] = 1.0\n",
        "            p_value_matrix_monthly.loc[party1, party2] = 0.0  # Kein P-Wert für Selbstkorrelation\n",
        "        else:\n",
        "            # Filtern der Daten für beide Parteien\n",
        "            data1 = sentiment_monthly[sentiment_monthly['Partei'] == party1][['Datum', 'Sentiment Score']]\n",
        "            data2 = sentiment_monthly[sentiment_monthly['Partei'] == party2][['Datum', 'Sentiment Score']]\n",
        "\n",
        "            # Zusammenführen der Daten anhand des Datums (nur gemeinsame Zeiträume bleiben erhalten)\n",
        "            merged_data = pd.merge(data1, data2, on='Datum', suffixes=(f'_{party1}', f'_{party2}'))\n",
        "\n",
        "            # Berechnen der Korrelation und der P-Werte\n",
        "            if not merged_data.empty:\n",
        "                corr, p_val = pearsonr(\n",
        "                    merged_data[f'Sentiment Score_{party1}'],\n",
        "                    merged_data[f'Sentiment Score_{party2}']\n",
        "                )\n",
        "                correlation_matrix_monthly.loc[party1, party2] = corr\n",
        "                p_value_matrix_monthly.loc[party1, party2] = p_val\n",
        "            else:\n",
        "                # Wenn keine gemeinsamen Datenpunkte vorhanden sind, setze NaN\n",
        "                correlation_matrix_monthly.loc[party1, party2] = np.nan\n",
        "                p_value_matrix_monthly.loc[party1, party2] = np.nan\n",
        "\n",
        "# Konvertieren zu float für numerische Werte\n",
        "correlation_matrix_monthly = correlation_matrix_monthly.astype(float)\n",
        "p_value_matrix_monthly = p_value_matrix_monthly.astype(float)\n",
        "\n",
        "# Ausgabe der Ergebnisse\n",
        "print(\"Monatliche Korrelationsmatrix:\")\n",
        "print(correlation_matrix_monthly)\n",
        "\n",
        "print(\"\\nMonatliche P-Wert-Matrix:\")\n",
        "print(p_value_matrix_monthly)"
      ],
      "metadata": {
        "id": "6KebeZ2KaCou",
        "collapsed": true
      },
      "execution_count": null,
      "outputs": []
    },
    {
      "cell_type": "markdown",
      "source": [
        "Visualisieren der Korrelation"
      ],
      "metadata": {
        "id": "2gn4ek1Z50ks"
      }
    },
    {
      "cell_type": "code",
      "source": [
        "plt.figure(figsize=(10, 8))\n",
        "sns.heatmap(correlation_matrix_monthly, annot=True, fmt=\".2f\", cmap=\"coolwarm\", cbar=True)\n",
        "plt.title(\"Korrelationsmatrix der Sentiments (monatlich)\")\n",
        "plt.tight_layout()\n",
        "plt.savefig('korrelationen_parteien_bpw_relevant_m.png', dpi=600)\n",
        "plt.show()"
      ],
      "metadata": {
        "collapsed": true,
        "id": "rZKrgu6jaGHQ"
      },
      "execution_count": null,
      "outputs": []
    },
    {
      "cell_type": "markdown",
      "source": [
        "Visualisieren der P-Werte"
      ],
      "metadata": {
        "id": "0jsVmPJ2532k"
      }
    },
    {
      "cell_type": "code",
      "source": [
        "plt.figure(figsize=(10, 8))\n",
        "sns.heatmap(p_value_matrix_monthly, annot=True, fmt=\".2g\", cmap=\"viridis\", cbar=True)\n",
        "plt.title(\"P-Wert-Matrix der Sentiments (monatlich)\")\n",
        "plt.show()"
      ],
      "metadata": {
        "collapsed": true,
        "id": "Fb8lsVcPasi7"
      },
      "execution_count": null,
      "outputs": []
    },
    {
      "cell_type": "markdown",
      "source": [
        "### Korrelation von Artikeln und Parteireden"
      ],
      "metadata": {
        "id": "PpmUD1hsdSjJ"
      }
    },
    {
      "cell_type": "code",
      "source": [
        "df_am = pd.read_csv('artikel_bpw_relevant_monat.csv')\n",
        "df_aq = pd.read_csv('artikel_bpw_relevant_quartal.csv')"
      ],
      "metadata": {
        "id": "wkkxOaWkdWWM"
      },
      "execution_count": null,
      "outputs": []
    },
    {
      "cell_type": "markdown",
      "source": [
        "Mit dem BPWS-Sentiment."
      ],
      "metadata": {
        "id": "znAJ5FWqodTN"
      }
    },
    {
      "cell_type": "code",
      "source": [
        "df_am.rename(columns={'BPW Score': 'Sentiment Score'}, inplace=True)\n",
        "df_aq.rename(columns={'BPW Score': 'Sentiment Score'}, inplace=True)"
      ],
      "metadata": {
        "id": "UgReTyqtodAI"
      },
      "execution_count": null,
      "outputs": []
    },
    {
      "cell_type": "code",
      "source": [
        "df_am.head()"
      ],
      "metadata": {
        "collapsed": true,
        "id": "b4qHVBvOeRJR"
      },
      "execution_count": null,
      "outputs": []
    },
    {
      "cell_type": "markdown",
      "source": [
        "#### Monatlich"
      ],
      "metadata": {
        "id": "7pX4dvi26czq"
      }
    },
    {
      "cell_type": "code",
      "source": [
        "# Laden der Artikel-Sentimentdaten\n",
        "df_am['Datum'] = pd.to_datetime(df_am['Jahr'].astype(str) + '-' + df_am['Monat'].astype(str).str.zfill(2) + '-01')\n",
        "\n",
        "# Initialisieren der DataFrames für Korrelationen und P-Werte\n",
        "correlation_matrix_monthly = pd.DataFrame(index=filtered_parties + ['Artikel'], columns=filtered_parties + ['Artikel'])\n",
        "p_value_matrix_monthly = pd.DataFrame(index=filtered_parties + ['Artikel'], columns=filtered_parties + ['Artikel'])\n",
        "\n",
        "# Iterieren über alle Parteien und füge \"Artikel\" hinzu\n",
        "all_entities = filtered_parties + ['Artikel']\n",
        "\n",
        "for entity1 in all_entities:\n",
        "    for entity2 in all_entities:\n",
        "        if entity1 == entity2:\n",
        "            # Setze die diagonalen Werte (Selbstkorrelation) auf 1\n",
        "            correlation_matrix_monthly.loc[entity1, entity2] = 1.0\n",
        "            p_value_matrix_monthly.loc[entity1, entity2] = 0.0  # Kein P-Wert für Selbstkorrelation\n",
        "        else:\n",
        "            # Filtern der Daten\n",
        "            if entity1 == 'Artikel':\n",
        "                data1 = df_am[['Datum', 'Sentiment Score']].rename(columns={'Sentiment Score': f'Sentiment Score_{entity1}'})\n",
        "            else:\n",
        "                data1 = sentiment_monthly[sentiment_monthly['Partei'] == entity1][['Datum', 'Sentiment Score']].rename(columns={'Sentiment Score': f'Sentiment Score_{entity1}'})\n",
        "\n",
        "            if entity2 == 'Artikel':\n",
        "                data2 = df_am[['Datum', 'Sentiment Score']].rename(columns={'Sentiment Score': f'Sentiment Score_{entity2}'})\n",
        "            else:\n",
        "                data2 = sentiment_monthly[sentiment_monthly['Partei'] == entity2][['Datum', 'Sentiment Score']].rename(columns={'Sentiment Score': f'Sentiment Score_{entity2}'})\n",
        "\n",
        "            # Zusammenführen der Daten anhand des Datums (nur gemeinsame Zeiträume bleiben erhalten)\n",
        "            merged_data = pd.merge(data1, data2, on='Datum')\n",
        "\n",
        "            # Berechne Korrelation und P-Wert\n",
        "            if not merged_data.empty:\n",
        "                corr, p_val = pearsonr(\n",
        "                    merged_data[f'Sentiment Score_{entity1}'],\n",
        "                    merged_data[f'Sentiment Score_{entity2}']\n",
        "                )\n",
        "                correlation_matrix_monthly.loc[entity1, entity2] = corr\n",
        "                p_value_matrix_monthly.loc[entity1, entity2] = p_val\n",
        "            else:\n",
        "                # Wenn keine gemeinsamen Datenpunkte vorhanden sind, setze NaN\n",
        "                correlation_matrix_monthly.loc[entity1, entity2] = np.nan\n",
        "                p_value_matrix_monthly.loc[entity1, entity2] = np.nan\n",
        "\n",
        "# Konvertieren zu float für numerische Werte\n",
        "correlation_matrix_monthly = correlation_matrix_monthly.astype(float)\n",
        "p_value_matrix_monthly = p_value_matrix_monthly.astype(float)\n"
      ],
      "metadata": {
        "id": "eObXgKg_fI_C"
      },
      "execution_count": null,
      "outputs": []
    },
    {
      "cell_type": "markdown",
      "source": [
        "Visualisieren"
      ],
      "metadata": {
        "id": "RrPTYnkw6VDR"
      }
    },
    {
      "cell_type": "code",
      "source": [
        "plt.figure(figsize=(10, 8))\n",
        "sns.heatmap(correlation_matrix_monthly, annot=True, fmt=\".3f\", cmap=\"coolwarm\", cbar=True)\n",
        "plt.title(\"Korrelationsmatrix der Sentiments (monatlich)\")\n",
        "plt.savefig('korrelationen_parteien_artikel_bpw_relevant_m.png', dpi=600)\n",
        "plt.show()"
      ],
      "metadata": {
        "id": "KkfhNCuzfe-k",
        "collapsed": true
      },
      "execution_count": null,
      "outputs": []
    },
    {
      "cell_type": "code",
      "source": [
        "plt.figure(figsize=(10, 8))\n",
        "sns.heatmap(p_value_matrix_monthly, annot=True, fmt=\".3g\", cmap=\"viridis\", cbar=True)\n",
        "plt.title(\"P-Wert-Matrix der Sentiments (monatlich)\")\n",
        "plt.show()"
      ],
      "metadata": {
        "collapsed": true,
        "id": "V3dPrVq_ggy7"
      },
      "execution_count": null,
      "outputs": []
    },
    {
      "cell_type": "markdown",
      "source": [
        "#### Quartalsweise"
      ],
      "metadata": {
        "id": "3WurUusK6fWk"
      }
    },
    {
      "cell_type": "code",
      "source": [
        "# Laden der Artikel-Sentimentdaten\n",
        "df_aq['Datum'] = pd.PeriodIndex(df_aq['Jahr'].astype(str) + 'Q' + df_aq['Quartal'].astype(str), freq='Q').to_timestamp()\n",
        "\n",
        "# Initialisiere die DataFrames für Korrelationen und P-Werte\n",
        "correlation_matrix_quarterly = pd.DataFrame(index=filtered_parties + ['Artikel'], columns=filtered_parties + ['Artikel'])\n",
        "p_value_matrix_quarterly = pd.DataFrame(index=filtered_parties + ['Artikel'], columns=filtered_parties + ['Artikel'])\n",
        "\n",
        "# Iteriere über alle Parteien und füge \"Artikel\" hinzu\n",
        "for entity1 in all_entities:\n",
        "    for entity2 in all_entities:\n",
        "        if entity1 == entity2:\n",
        "            # Setze die diagonalen Werte (Selbstkorrelation) auf 1\n",
        "            correlation_matrix_quarterly.loc[entity1, entity2] = 1.0\n",
        "            p_value_matrix_quarterly.loc[entity1, entity2] = 0.0  # Kein P-Wert für Selbstkorrelation\n",
        "        else:\n",
        "            # Filtern der Daten\n",
        "            if entity1 == 'Artikel':\n",
        "                data1 = df_aq[['Datum', 'Sentiment Score']].rename(columns={'Sentiment Score': f'Sentiment Score_{entity1}'})\n",
        "            else:\n",
        "                data1 = sentiment_quarterly[sentiment_quarterly['Partei'] == entity1][['Datum', 'Sentiment Score']].rename(columns={'Sentiment Score': f'Sentiment Score_{entity1}'})\n",
        "\n",
        "            if entity2 == 'Artikel':\n",
        "                data2 = df_aq[['Datum', 'Sentiment Score']].rename(columns={'Sentiment Score': f'Sentiment Score_{entity2}'})\n",
        "            else:\n",
        "                data2 = sentiment_quarterly[sentiment_quarterly['Partei'] == entity2][['Datum', 'Sentiment Score']].rename(columns={'Sentiment Score': f'Sentiment Score_{entity2}'})\n",
        "\n",
        "            # Zusammenführen der Daten anhand des Datums (nur gemeinsame Zeiträume bleiben erhalten)\n",
        "            merged_data = pd.merge(data1, data2, on='Datum')\n",
        "\n",
        "            # Berechne Korrelation und P-Wert\n",
        "            if not merged_data.empty:\n",
        "                corr, p_val = pearsonr(\n",
        "                    merged_data[f'Sentiment Score_{entity1}'],\n",
        "                    merged_data[f'Sentiment Score_{entity2}']\n",
        "                )\n",
        "                correlation_matrix_quarterly.loc[entity1, entity2] = corr\n",
        "                p_value_matrix_quarterly.loc[entity1, entity2] = p_val\n",
        "            else:\n",
        "                # Wenn keine gemeinsamen Datenpunkte vorhanden sind, setze NaN\n",
        "                correlation_matrix_quarterly.loc[entity1, entity2] = np.nan\n",
        "                p_value_matrix_quarterly.loc[entity1, entity2] = np.nan\n",
        "\n",
        "# Konvertieren zu float für numerische Werte\n",
        "correlation_matrix_quarterly = correlation_matrix_quarterly.astype(float)\n",
        "p_value_matrix_quarterly = p_value_matrix_quarterly.astype(float)\n"
      ],
      "metadata": {
        "id": "JKpuw22Gg16g"
      },
      "execution_count": null,
      "outputs": []
    },
    {
      "cell_type": "markdown",
      "source": [
        "Visualisieren"
      ],
      "metadata": {
        "id": "SJPOlmg86nV2"
      }
    },
    {
      "cell_type": "code",
      "source": [
        "plt.figure(figsize=(10, 8))\n",
        "sns.heatmap(correlation_matrix_quarterly, annot=True, fmt=\".2f\", cmap=\"coolwarm\", cbar=True)\n",
        "plt.title(\"Korrelationsmatrix der Sentiments (quartalsweise)\")\n",
        "plt.savefig('korrelationen_parteien_artikel_bpw_relevant_q.png', dpi=600)\n",
        "plt.show()"
      ],
      "metadata": {
        "id": "aRgb5LVig51m",
        "collapsed": true
      },
      "execution_count": null,
      "outputs": []
    },
    {
      "cell_type": "code",
      "source": [
        "plt.figure(figsize=(10, 8))\n",
        "sns.heatmap(p_value_matrix_quarterly, annot=True, fmt=\".2g\", cmap=\"viridis\", cbar=True)\n",
        "plt.title(\"P-Wert-Matrix der Sentiments (quartalsweise)\")\n",
        "plt.show()"
      ],
      "metadata": {
        "collapsed": true,
        "id": "3P2hUQlctIIy"
      },
      "execution_count": null,
      "outputs": []
    },
    {
      "cell_type": "markdown",
      "source": [
        "### Korrelation mit allen Reden"
      ],
      "metadata": {
        "id": "jxIssj7Ekc08"
      }
    },
    {
      "cell_type": "code",
      "source": [
        "# Aggregieren der Sentimentwerte aller Reden unabhängig von der Parteizugehörigkeit\n",
        "# Monatliche Aggregation\n",
        "sentiment_monthly_total = sentiment_monthly.groupby(['Datum'])[['Sentiment Score']].mean().reset_index()\n",
        "\n",
        "# Quartalsweise Aggregation\n",
        "sentiment_quarterly_total = sentiment_quarterly.groupby(['Datum'])[['Sentiment Score']].mean().reset_index()\n",
        "\n",
        "# Berechnung der Korrelation mit den Artikelsentimentwerten\n",
        "\n",
        "# Monatsweise Korrelation\n",
        "merged_monthly = pd.merge(\n",
        "    sentiment_monthly_total.rename(columns={'Sentiment Score': 'Bundestag Sentiment'}),\n",
        "    df_am.rename(columns={'Sentiment Score': 'Artikel Sentiment'}),\n",
        "    on='Datum'\n",
        ")\n",
        "\n",
        "monthly_correlation, monthly_p_value = pearsonr(\n",
        "    merged_monthly['Bundestag Sentiment'], merged_monthly['Artikel Sentiment']\n",
        ")\n",
        "\n",
        "# Quartalsweise Korrelation\n",
        "merged_quarterly = pd.merge(\n",
        "    sentiment_quarterly_total.rename(columns={'Sentiment Score': 'Bundestag Sentiment'}),\n",
        "    df_aq.rename(columns={'Sentiment Score': 'Artikel Sentiment'}),\n",
        "    on='Datum'\n",
        ")\n",
        "\n",
        "quarterly_correlation, quarterly_p_value = pearsonr(\n",
        "    merged_quarterly['Bundestag Sentiment'], merged_quarterly['Artikel Sentiment']\n",
        ")\n",
        "\n",
        "# Ausgabe der Ergebnisse\n",
        "print(\"Korrelation (monatlich):\")\n",
        "print(f\"Korrelationskoeffizient: {monthly_correlation:.2f}\")\n",
        "print(f\"P-Wert: {monthly_p_value:.2g}\")\n",
        "\n",
        "print(\"\\nKorrelation (quartalsweise):\")\n",
        "print(f\"Korrelationskoeffizient: {quarterly_correlation:.2f}\")\n",
        "print(f\"P-Wert: {quarterly_p_value:.2g}\")"
      ],
      "metadata": {
        "id": "E7CPDmFvkb8B"
      },
      "execution_count": null,
      "outputs": []
    }
  ]
}